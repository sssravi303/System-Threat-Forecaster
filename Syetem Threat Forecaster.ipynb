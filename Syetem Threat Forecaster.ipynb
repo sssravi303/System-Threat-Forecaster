{
  "metadata": {
    "kernelspec": {
      "language": "python",
      "display_name": "Python 3",
      "name": "python3"
    },
    "language_info": {
      "name": "python",
      "version": "3.10.12",
      "mimetype": "text/x-python",
      "codemirror_mode": {
        "name": "ipython",
        "version": 3
      },
      "pygments_lexer": "ipython3",
      "nbconvert_exporter": "python",
      "file_extension": ".py"
    },
    "kaggle": {
      "accelerator": "none",
      "dataSources": [
        {
          "sourceId": 90791,
          "databundleVersionId": 10592855,
          "sourceType": "competition"
        }
      ],
      "dockerImageVersionId": 30822,
      "isInternetEnabled": false,
      "language": "python",
      "sourceType": "notebook",
      "isGpuEnabled": false
    },
    "colab": {
      "provenance": []
    }
  },
  "nbformat_minor": 0,
  "nbformat": 4,
  "cells": [
    {
      "cell_type": "code",
      "source": [
        "# This Python 3 environment comes with many helpful analytics libraries installed\n",
        "# It is defined by the kaggle/python Docker image: https://github.com/kaggle/docker-python\n",
        "# For example, here's several helpful packages to load\n",
        "\n",
        "import numpy as np # linear algebra\n",
        "import pandas as pd # data processing, CSV file I/O (e.g. pd.read_csv)\n",
        "\n",
        "# Input data files are available in the read-only \"../input/\" directory\n",
        "# For example, running this (by clicking run or pressing Shift+Enter) will list all files under the input directory\n",
        "\n",
        "import os\n",
        "for dirname, _, filenames in os.walk('/kaggle/input'):\n",
        "    for filename in filenames:\n",
        "        print(os.path.join(dirname, filename))\n",
        "\n",
        "# You can write up to 20GB to the current directory (/kaggle/working/) that gets preserved as output when you create a version using \"Save & Run All\"\n",
        "# You can also write temporary files to /kaggle/temp/, but they won't be saved outside of the current session\n",
        "\n",
        "# submission = pd.DataFrame({\"id\": range(0,X_test.shape[0]), \"target\": y_pred})\n",
        "# submission.to_csv('submission.csv',index=False)"
      ],
      "metadata": {
        "_uuid": "8f2839f25d086af736a60e9eeb907d3b93b6e0e5",
        "_cell_guid": "b1076dfc-b9ad-4769-8c92-a6c4dae69d19",
        "trusted": true,
        "execution": {
          "iopub.status.busy": "2025-03-24T14:02:24.452686Z",
          "iopub.execute_input": "2025-03-24T14:02:24.453082Z",
          "iopub.status.idle": "2025-03-24T14:02:24.462447Z",
          "shell.execute_reply.started": "2025-03-24T14:02:24.453051Z",
          "shell.execute_reply": "2025-03-24T14:02:24.461307Z"
        },
        "id": "V1dNvXbrd3JV",
        "outputId": "411439a5-149a-4f2a-845f-c6e7230154e5"
      },
      "outputs": [
        {
          "name": "stdout",
          "text": "/kaggle/input/System-Threat-Forecaster/sample_submission.csv\n/kaggle/input/System-Threat-Forecaster/train.csv\n/kaggle/input/System-Threat-Forecaster/test.csv\n",
          "output_type": "stream"
        }
      ],
      "execution_count": null
    },
    {
      "cell_type": "markdown",
      "source": [
        "# Exploratory Data Analysis (EDA)"
      ],
      "metadata": {
        "id": "E_NPOpjvd3JY"
      }
    },
    {
      "cell_type": "code",
      "source": [
        "import pandas as pd\n",
        "import numpy as np\n",
        "from sklearn.model_selection import train_test_split,GridSearchCV,RandomizedSearchCV\n",
        "from sklearn.linear_model import LogisticRegression,LinearRegression,SGDClassifier,SGDRegressor\n",
        "from sklearn.metrics import accuracy_score,mean_squared_error,r2_score,recall_score,precision_score\n",
        "from sklearn.linear_model import LinearRegression\n",
        "from sklearn.compose import ColumnTransformer\n",
        "from sklearn.preprocessing import StandardScaler,OneHotEncoder,LabelBinarizer,MultiLabelBinarizer,OrdinalEncoder,LabelEncoder,MinMaxScaler\n",
        "from sklearn.impute import SimpleImputer\n",
        "from sklearn.decomposition import PCA\n",
        "import matplotlib.pyplot as plt\n",
        "import seaborn as sns\n",
        "from sklearn.pipeline import Pipeline\n",
        "from sklearn.ensemble import GradientBoostingClassifier,RandomForestClassifier,AdaBoostClassifier\n",
        "from sklearn.metrics import ConfusionMatrixDisplay,confusion_matrix\n",
        "from xgboost import XGBClassifier\n",
        "from scipy.stats import randint,loguniform\n",
        "from sklearn.naive_bayes import GaussianNB,CategoricalNB"
      ],
      "metadata": {
        "trusted": true,
        "execution": {
          "iopub.status.busy": "2025-03-24T14:02:24.464031Z",
          "iopub.execute_input": "2025-03-24T14:02:24.464377Z",
          "iopub.status.idle": "2025-03-24T14:02:24.484671Z",
          "shell.execute_reply.started": "2025-03-24T14:02:24.464349Z",
          "shell.execute_reply": "2025-03-24T14:02:24.483347Z"
        },
        "id": "ZjQua2xTd3JZ"
      },
      "outputs": [],
      "execution_count": 1
    },
    {
      "cell_type": "code",
      "source": [
        "df = pd.read_csv(\"/kaggle/input/System-Threat-Forecaster/train.csv\")\n",
        "X = df.drop(\"target\", axis=1)  #load the data and then seperate the data and the target\n",
        "y = df['target']\n",
        "y.isna().sum()\n",
        "X.shape"
      ],
      "metadata": {
        "trusted": true,
        "execution": {
          "iopub.status.busy": "2025-03-24T14:02:24.486376Z",
          "iopub.execute_input": "2025-03-24T14:02:24.486706Z",
          "iopub.status.idle": "2025-03-24T14:02:26.028457Z",
          "shell.execute_reply.started": "2025-03-24T14:02:24.486676Z",
          "shell.execute_reply": "2025-03-24T14:02:26.027398Z"
        },
        "id": "j5fvEHEId3JZ",
        "outputId": "41b611c8-4983-48aa-903f-09f987d3bb1b"
      },
      "outputs": [
        {
          "execution_count": 24,
          "output_type": "execute_result",
          "data": {
            "text/plain": "(100000, 75)"
          },
          "metadata": {}
        }
      ],
      "execution_count": null
    },
    {
      "cell_type": "code",
      "source": [
        "y.shape"
      ],
      "metadata": {
        "trusted": true,
        "execution": {
          "iopub.status.busy": "2025-03-24T14:02:26.029943Z",
          "iopub.execute_input": "2025-03-24T14:02:26.030303Z",
          "iopub.status.idle": "2025-03-24T14:02:26.036333Z",
          "shell.execute_reply.started": "2025-03-24T14:02:26.030259Z",
          "shell.execute_reply": "2025-03-24T14:02:26.035153Z"
        },
        "id": "ORNMYnV5d3JZ",
        "outputId": "c1ed2a44-0351-4141-bee1-dec2d074590e"
      },
      "outputs": [
        {
          "execution_count": 25,
          "output_type": "execute_result",
          "data": {
            "text/plain": "(100000,)"
          },
          "metadata": {}
        }
      ],
      "execution_count": null
    },
    {
      "cell_type": "code",
      "source": [
        "df.head()"
      ],
      "metadata": {
        "trusted": true,
        "execution": {
          "iopub.status.busy": "2025-03-24T14:02:26.037591Z",
          "iopub.execute_input": "2025-03-24T14:02:26.038013Z",
          "iopub.status.idle": "2025-03-24T14:02:26.083099Z",
          "shell.execute_reply.started": "2025-03-24T14:02:26.037963Z",
          "shell.execute_reply": "2025-03-24T14:02:26.082088Z"
        },
        "id": "tD_AzdBWd3Ja",
        "outputId": "81ff312a-4e16-4a7c-e584-e198d2cb118c"
      },
      "outputs": [
        {
          "execution_count": 26,
          "output_type": "execute_result",
          "data": {
            "text/plain": "                          MachineID   ProductName EngineVersion  \\\n0  f541bae429089117c4aac39c90dd3416  win8defender   1.1.15200.1   \n1  dc2b14d9ce3a0ce4050bb640190f2ca5  win8defender   1.1.15100.1   \n2  fd20c5f010e9c5f91ad1c6b3e0da68a0  win8defender   1.1.15200.1   \n3  38711eae85eb77a72ec5dfdf27eb2a76  win8defender   1.1.15200.1   \n4  32607c9a543a9214e2c7e45800ed4849  win8defender   1.1.15200.1   \n\n         AppVersion SignatureVersion  IsBetaUser  RealTimeProtectionState  \\\n0   4.18.1807.18075     1.275.1003.0           0                      7.0   \n1   4.18.1807.18075     1.273.1465.0           0                      7.0   \n2   4.18.1807.18075     1.275.1546.0           0                      7.0   \n3  4.12.17007.18011     1.275.1141.0           0                      7.0   \n4    4.13.17134.228     1.275.1283.0           0                      7.0   \n\n   IsPassiveModeEnabled  AntivirusConfigID  NumAntivirusProductsInstalled  \\\n0                     0            53447.0                            1.0   \n1                     0            53447.0                            1.0   \n2                     0            53447.0                            1.0   \n3                     0            46413.0                            2.0   \n4                     0            40466.0                            2.0   \n\n   ...  IsSecureBootEnabled  IsVirtualDevice  IsTouchEnabled  IsPenCapable  \\\n0  ...                    0              0.0               1             0   \n1  ...                    1              0.0               0             0   \n2  ...                    0              0.0               0             0   \n3  ...                    1              0.0               0             0   \n4  ...                    0              0.0               0             0   \n\n   IsAlwaysOnAlwaysConnectedCapable  IsGamer RegionIdentifier  \\\n0                               1.0      0.0              6.0   \n1                               0.0      0.0             10.0   \n2                               0.0      1.0              6.0   \n3                               0.0      0.0             12.0   \n4                               0.0      1.0              7.0   \n\n                DateAS      DateOS  target  \n0  2018-09-10 10:11:00  2018-04-17       0  \n1  2018-08-16 00:01:00  2018-08-14       1  \n2  2018-09-20 23:20:00  2018-09-11       1  \n3  2018-09-14 00:32:00  2018-01-03       1  \n4  2018-09-15 19:34:00  2018-09-11       0  \n\n[5 rows x 76 columns]",
            "text/html": "<div>\n<style scoped>\n    .dataframe tbody tr th:only-of-type {\n        vertical-align: middle;\n    }\n\n    .dataframe tbody tr th {\n        vertical-align: top;\n    }\n\n    .dataframe thead th {\n        text-align: right;\n    }\n</style>\n<table border=\"1\" class=\"dataframe\">\n  <thead>\n    <tr style=\"text-align: right;\">\n      <th></th>\n      <th>MachineID</th>\n      <th>ProductName</th>\n      <th>EngineVersion</th>\n      <th>AppVersion</th>\n      <th>SignatureVersion</th>\n      <th>IsBetaUser</th>\n      <th>RealTimeProtectionState</th>\n      <th>IsPassiveModeEnabled</th>\n      <th>AntivirusConfigID</th>\n      <th>NumAntivirusProductsInstalled</th>\n      <th>...</th>\n      <th>IsSecureBootEnabled</th>\n      <th>IsVirtualDevice</th>\n      <th>IsTouchEnabled</th>\n      <th>IsPenCapable</th>\n      <th>IsAlwaysOnAlwaysConnectedCapable</th>\n      <th>IsGamer</th>\n      <th>RegionIdentifier</th>\n      <th>DateAS</th>\n      <th>DateOS</th>\n      <th>target</th>\n    </tr>\n  </thead>\n  <tbody>\n    <tr>\n      <th>0</th>\n      <td>f541bae429089117c4aac39c90dd3416</td>\n      <td>win8defender</td>\n      <td>1.1.15200.1</td>\n      <td>4.18.1807.18075</td>\n      <td>1.275.1003.0</td>\n      <td>0</td>\n      <td>7.0</td>\n      <td>0</td>\n      <td>53447.0</td>\n      <td>1.0</td>\n      <td>...</td>\n      <td>0</td>\n      <td>0.0</td>\n      <td>1</td>\n      <td>0</td>\n      <td>1.0</td>\n      <td>0.0</td>\n      <td>6.0</td>\n      <td>2018-09-10 10:11:00</td>\n      <td>2018-04-17</td>\n      <td>0</td>\n    </tr>\n    <tr>\n      <th>1</th>\n      <td>dc2b14d9ce3a0ce4050bb640190f2ca5</td>\n      <td>win8defender</td>\n      <td>1.1.15100.1</td>\n      <td>4.18.1807.18075</td>\n      <td>1.273.1465.0</td>\n      <td>0</td>\n      <td>7.0</td>\n      <td>0</td>\n      <td>53447.0</td>\n      <td>1.0</td>\n      <td>...</td>\n      <td>1</td>\n      <td>0.0</td>\n      <td>0</td>\n      <td>0</td>\n      <td>0.0</td>\n      <td>0.0</td>\n      <td>10.0</td>\n      <td>2018-08-16 00:01:00</td>\n      <td>2018-08-14</td>\n      <td>1</td>\n    </tr>\n    <tr>\n      <th>2</th>\n      <td>fd20c5f010e9c5f91ad1c6b3e0da68a0</td>\n      <td>win8defender</td>\n      <td>1.1.15200.1</td>\n      <td>4.18.1807.18075</td>\n      <td>1.275.1546.0</td>\n      <td>0</td>\n      <td>7.0</td>\n      <td>0</td>\n      <td>53447.0</td>\n      <td>1.0</td>\n      <td>...</td>\n      <td>0</td>\n      <td>0.0</td>\n      <td>0</td>\n      <td>0</td>\n      <td>0.0</td>\n      <td>1.0</td>\n      <td>6.0</td>\n      <td>2018-09-20 23:20:00</td>\n      <td>2018-09-11</td>\n      <td>1</td>\n    </tr>\n    <tr>\n      <th>3</th>\n      <td>38711eae85eb77a72ec5dfdf27eb2a76</td>\n      <td>win8defender</td>\n      <td>1.1.15200.1</td>\n      <td>4.12.17007.18011</td>\n      <td>1.275.1141.0</td>\n      <td>0</td>\n      <td>7.0</td>\n      <td>0</td>\n      <td>46413.0</td>\n      <td>2.0</td>\n      <td>...</td>\n      <td>1</td>\n      <td>0.0</td>\n      <td>0</td>\n      <td>0</td>\n      <td>0.0</td>\n      <td>0.0</td>\n      <td>12.0</td>\n      <td>2018-09-14 00:32:00</td>\n      <td>2018-01-03</td>\n      <td>1</td>\n    </tr>\n    <tr>\n      <th>4</th>\n      <td>32607c9a543a9214e2c7e45800ed4849</td>\n      <td>win8defender</td>\n      <td>1.1.15200.1</td>\n      <td>4.13.17134.228</td>\n      <td>1.275.1283.0</td>\n      <td>0</td>\n      <td>7.0</td>\n      <td>0</td>\n      <td>40466.0</td>\n      <td>2.0</td>\n      <td>...</td>\n      <td>0</td>\n      <td>0.0</td>\n      <td>0</td>\n      <td>0</td>\n      <td>0.0</td>\n      <td>1.0</td>\n      <td>7.0</td>\n      <td>2018-09-15 19:34:00</td>\n      <td>2018-09-11</td>\n      <td>0</td>\n    </tr>\n  </tbody>\n</table>\n<p>5 rows × 76 columns</p>\n</div>"
          },
          "metadata": {}
        }
      ],
      "execution_count": null
    },
    {
      "cell_type": "code",
      "source": [
        "df.isna().sum()"
      ],
      "metadata": {
        "trusted": true,
        "execution": {
          "iopub.status.busy": "2025-03-24T14:02:26.084201Z",
          "iopub.execute_input": "2025-03-24T14:02:26.084626Z",
          "iopub.status.idle": "2025-03-24T14:02:26.226324Z",
          "shell.execute_reply.started": "2025-03-24T14:02:26.084584Z",
          "shell.execute_reply": "2025-03-24T14:02:26.225430Z"
        },
        "id": "qXXKDQwZd3Ja",
        "outputId": "3143540b-8f3c-494e-cf3f-41add3f31438"
      },
      "outputs": [
        {
          "execution_count": 27,
          "output_type": "execute_result",
          "data": {
            "text/plain": "MachineID             0\nProductName           0\nEngineVersion         0\nAppVersion            0\nSignatureVersion      0\n                   ... \nIsGamer             559\nRegionIdentifier    559\nDateAS                0\nDateOS               24\ntarget                0\nLength: 76, dtype: int64"
          },
          "metadata": {}
        }
      ],
      "execution_count": null
    },
    {
      "cell_type": "code",
      "source": [
        "df.dtypes"
      ],
      "metadata": {
        "trusted": true,
        "execution": {
          "iopub.status.busy": "2025-03-24T14:02:26.228402Z",
          "iopub.execute_input": "2025-03-24T14:02:26.228719Z",
          "iopub.status.idle": "2025-03-24T14:02:26.236109Z",
          "shell.execute_reply.started": "2025-03-24T14:02:26.228691Z",
          "shell.execute_reply": "2025-03-24T14:02:26.234983Z"
        },
        "id": "rawLlFS_d3Ja",
        "outputId": "1792939d-d0ca-4783-a350-af56502f90af"
      },
      "outputs": [
        {
          "execution_count": 28,
          "output_type": "execute_result",
          "data": {
            "text/plain": "MachineID            object\nProductName          object\nEngineVersion        object\nAppVersion           object\nSignatureVersion     object\n                     ...   \nIsGamer             float64\nRegionIdentifier    float64\nDateAS               object\nDateOS               object\ntarget                int64\nLength: 76, dtype: object"
          },
          "metadata": {}
        }
      ],
      "execution_count": null
    },
    {
      "cell_type": "code",
      "source": [
        "obj_cols = X.select_dtypes(include=['object']).columns # column names with type object\n",
        "num_cols = X.select_dtypes(include=['int64', 'float64']).columns # column names with type names\n",
        "print(obj_cols)\n",
        "print(num_cols)"
      ],
      "metadata": {
        "trusted": true,
        "execution": {
          "iopub.status.busy": "2025-03-24T14:02:26.237777Z",
          "iopub.execute_input": "2025-03-24T14:02:26.238098Z",
          "iopub.status.idle": "2025-03-24T14:02:26.293550Z",
          "shell.execute_reply.started": "2025-03-24T14:02:26.238070Z",
          "shell.execute_reply": "2025-03-24T14:02:26.292353Z"
        },
        "id": "5b7Bo6UBd3Jb",
        "outputId": "d82a3d48-f0ce-4c3f-fbb3-bb1046768d40"
      },
      "outputs": [
        {
          "name": "stdout",
          "text": "Index(['MachineID', 'ProductName', 'EngineVersion', 'AppVersion',\n       'SignatureVersion', 'PlatformType', 'Processor', 'OSVersion',\n       'OsPlatformSubRelease', 'OSBuildLab', 'SKUEditionName',\n       'MDC2FormFactor', 'DeviceFamily', 'PrimaryDiskType', 'ChassisType',\n       'PowerPlatformRole', 'NumericOSVersion', 'OSArchitecture', 'OSBranch',\n       'OSEdition', 'OSSkuFriendlyName', 'OSInstallType',\n       'AutoUpdateOptionsName', 'OSGenuineState', 'LicenseActivationChannel',\n       'FlightRing', 'DateAS', 'DateOS'],\n      dtype='object')\nIndex(['IsBetaUser', 'RealTimeProtectionState', 'IsPassiveModeEnabled',\n       'AntivirusConfigID', 'NumAntivirusProductsInstalled',\n       'NumAntivirusProductsEnabled', 'HasTpm', 'CountryID', 'CityID',\n       'GeoRegionID', 'LocaleEnglishNameID', 'OSBuildNumber', 'OSProductSuite',\n       'IsSystemProtected', 'AutoSampleSubmissionEnabled', 'SMode',\n       'IEVersionID', 'FirewallEnabled', 'EnableLUA', 'OEMNameID',\n       'OEMModelID', 'ProcessorCoreCount', 'ProcessorManufacturerID',\n       'ProcessorModelID', 'PrimaryDiskCapacityMB', 'SystemVolumeCapacityMB',\n       'HasOpticalDiskDrive', 'TotalPhysicalRAMMB',\n       'PrimaryDisplayDiagonalInches', 'PrimaryDisplayResolutionHorizontal',\n       'PrimaryDisplayResolutionVertical', 'InternalBatteryNumberOfCharges',\n       'OSBuildNumberOnly', 'OSBuildRevisionOnly', 'OSInstallLanguageID',\n       'OSUILocaleID', 'IsPortableOS', 'IsFlightsDisabled',\n       'FirmwareManufacturerID', 'FirmwareVersionID', 'IsSecureBootEnabled',\n       'IsVirtualDevice', 'IsTouchEnabled', 'IsPenCapable',\n       'IsAlwaysOnAlwaysConnectedCapable', 'IsGamer', 'RegionIdentifier'],\n      dtype='object')\n",
          "output_type": "stream"
        }
      ],
      "execution_count": null
    },
    {
      "cell_type": "code",
      "source": [
        "for i in obj_cols:\n",
        "    print(i,X[i].unique()) #used to verify that the do columns contain the unknownvalues,NaN, etc."
      ],
      "metadata": {
        "trusted": true,
        "execution": {
          "iopub.status.busy": "2025-03-24T14:02:26.294787Z",
          "iopub.execute_input": "2025-03-24T14:02:26.295091Z",
          "iopub.status.idle": "2025-03-24T14:02:26.488986Z",
          "shell.execute_reply.started": "2025-03-24T14:02:26.295063Z",
          "shell.execute_reply": "2025-03-24T14:02:26.487914Z"
        },
        "id": "mAzprNDYd3Jb",
        "outputId": "48ab1f09-c893-49a6-a269-9ef8923894fb"
      },
      "outputs": [
        {
          "name": "stdout",
          "text": "MachineID ['f541bae429089117c4aac39c90dd3416' 'dc2b14d9ce3a0ce4050bb640190f2ca5'\n 'fd20c5f010e9c5f91ad1c6b3e0da68a0' ... 'd6852dfff534e03d5ddfd3c7875ab072'\n '70a8dc682128c9ff78a3de5aea9dac74' 'ad9c385b53f2ca788933a39603b84eda']\nProductName ['win8defender' 'mse']\nEngineVersion ['1.1.15200.1' '1.1.15100.1' '1.1.15000.2' '1.1.14800.3' '1.1.14901.4'\n '1.1.15300.6' '1.1.14700.5' '1.1.13504.0' '1.1.14104.0' '1.1.14306.0'\n '1.1.15300.5' '1.1.14600.4' '1.1.13701.0' '1.1.15000.1' '1.1.13202.0'\n '1.1.13303.0' '1.1.14500.5' '1.1.13601.0' '1.1.13704.0' '1.1.13407.0'\n '1.1.14003.0' '1.1.14202.0' '1.1.14405.2' '1.1.13000.0' '1.1.13804.0'\n '1.1.14500.2' '1.1.14800.1' '1.1.14305.0' '1.1.14901.3' '1.1.13103.0'\n '1.1.13903.0' '1.1.12805.0' '1.1.14700.4' '1.1.12902.0' '1.1.14700.3'\n '1.1.13802.0' '1.1.13803.0']\nAppVersion ['4.18.1807.18075' '4.12.17007.18011' '4.13.17134.228' '4.14.17639.18041'\n '4.18.1806.18062' '4.12.16299.15' '4.14.17613.18039' '4.9.10586.0'\n '4.10.209.0' '4.16.17656.18052' '4.12.17007.18022' '4.11.15063.0'\n '4.8.10240.17443' '4.9.10586.672' '4.9.10586.1106' '4.11.15063.447'\n '4.13.17134.1' '4.9.10586.873' '4.10.14393.0' '4.8.10240.16384'\n '4.9.10586.494' '4.9.10586.1045' '4.11.15063.1155' '4.13.17134.191'\n '4.10.14393.953' '4.10.14393.1794' '4.10.14393.1198' '4.8.10240.17797'\n '4.13.17134.112' '4.18.1809.2' '4.8.10240.17914' '4.12.17007.17123'\n '4.10.14393.1613' '4.9.10586.839' '4.8.10240.17946' '4.9.10586.589'\n '4.10.14393.1593' '4.9.10586.962' '4.10.14393.1066' '4.4.304.0'\n '4.8.204.0' '4.8.10240.17394' '4.13.17134.319' '4.9.10586.916'\n '4.8.10240.17202' '4.9.10586.965' '4.14.17613.18038' '4.8.207.0'\n '4.8.10240.17861' '4.9.218.0' '4.10.14393.2273' '4.10.14393.2248'\n '4.8.10240.17319' '4.8.10240.17071' '4.8.10240.17113' '4.8.10240.17354'\n '4.5.216.0' '4.8.10240.17146' '4.8.10240.17889' '4.7.205.0'\n '4.8.10240.17918' '4.5.218.0' '4.18.1807.18072' '4.10.205.0'\n '4.8.10240.17609' '4.8.10240.17184' '4.17.17685.20082' '4.10.14393.726'\n '4.6.305.0']\nSignatureVersion ['1.275.1003.0' '1.273.1465.0' '1.275.1546.0' ... '1.263.1638.0'\n '1.263.428.0' '1.253.34.0']\nPlatformType ['windows10' 'windows8' 'windows7' 'windows2016']\nProcessor ['x86' 'x64' 'arm64']\nOSVersion ['10.0.0.0' '6.3.0.0' '6.1.1.0' '10.0.2.0' '10.0.1.0' '10.0.3.0'\n '10.0.4.0']\nOsPlatformSubRelease ['rs1' 'rs4' 'rs2' 'rs3' 'th2' 'windows8.1' 'th1' 'prers5' 'windows7']\nOSBuildLab ['14393.2214.x86fre.rs1_release_1.180402-1758'\n '17134.1.amd64fre.rs4_release.180410-1804'\n '15063.0.amd64fre.rs2_release.170317-1834'\n '17134.1.x86fre.rs4_release.180410-1804'\n '15063.0.x86fre.rs2_release.170317-1834'\n '16299.15.x86fre.rs3_release.170928-1534'\n '16299.431.amd64fre.rs3_release_svc_escrow.180502-1908'\n '10586.103.amd64fre.th2_release.160126-1819'\n '16299.637.amd64fre.rs3_release_svc.180808-1748'\n '14393.447.amd64fre.rs1_release_inmarket.161102-0100'\n '9600.19101.amd64fre.winblue_ltsb_escrow.180718-1800'\n '16299.15.amd64fre.rs3_release.170928-1534'\n '14393.2189.amd64fre.rs1_release.180329-1711'\n '14393.1770.amd64fre.rs1_release.170917-1700'\n '14393.0.amd64fre.rs1_release.160715-1616'\n '10240.17443.amd64fre.th1.170602-2340'\n '14393.2214.amd64fre.rs1_release_1.180402-1758'\n '10586.672.x86fre.th2_release_sec.161024-1825'\n '10586.1176.amd64fre.th2_release_sec.170913-1848'\n '10240.17443.x86fre.th1.170602-2340'\n '14393.1944.amd64fre.rs1_release.171129-2100'\n '14393.1066.x86fre.rs1_release_sec.170327-1835'\n '10586.17.amd64fre.th2_release.151121-2308'\n '9600.19067.amd64fre.winblue_ltsb_escrow.180619-2033'\n '17744.1001.amd64fre.rs5_release.180818-1845'\n '14393.1593.amd64fre.rs1_release.170731-1934'\n '10586.839.amd64fre.th2_release.170303-1605'\n '10586.0.amd64fre.th2_release.151029-1700'\n '14393.693.amd64fre.rs1_release.161220-1747'\n '10586.1106.amd64fre.th2_release.170904-1742'\n '10586.162.amd64fre.th2_release_sec.160223-1728'\n '14393.953.amd64fre.rs1_release_inmarket.170303-1614'\n '14393.2125.amd64fre.rs1_release.180301-2139'\n '10586.672.amd64fre.th2_release_sec.161024-1825'\n '10586.212.amd64fre.th2_release_sec.160328-1908'\n '10240.16393.amd64fre.th1_st1.150717-1719'\n '10586.494.amd64fre.th2_release_sec.160630-1736'\n '9600.18969.amd64fre.winblue_ltsb.180309-0600'\n '10240.16384.amd64fre.th1.150709-1700'\n '16299.402.amd64fre.rs3_release_svc_escrow_im.180415-0955'\n '10586.1176.x86fre.th2_release_sec.170913-1848'\n '14393.1715.amd64fre.rs1_release_inmarket.170906-1810'\n '14393.693.x86fre.rs1_release.161220-1747'\n '10586.1045.x86fre.th2_release.170728-1941'\n '14393.2368.amd64fre.rs1_release_inmarket_aim.180712-1833'\n '9600.18821.amd64fre.winblue_ltsb.170914-0600'\n '9600.19125.amd64fre.winblue_ltsb.180812-0703'\n '10586.1045.amd64fre.th2_release.170728-1941'\n '10586.420.amd64fre.th2_release_sec.160527-1834'\n '9600.19035.amd64fre.winblue_ltsb_escrow.180522-1700'\n '14393.2189.x86fre.rs1_release.180329-1711'\n '10586.1106.x86fre.th2_release.170904-1742'\n '7601.24168.amd64fre.win7sp1_ldr.180608-0600'\n '14393.2007.amd64fre.rs1_release.171231-1800'\n '7601.24214.amd64fre.win7sp1_ldr_escrow.180801-1700'\n '14393.351.amd64fre.rs1_release_inmarket.161014-1755'\n '17692.1004.amd64fre.rs_prerelease_flt.180625-1624'\n '10586.162.x86fre.th2_release_sec.160223-1728'\n '10586.839.x86fre.th2_release.170303-1605'\n '14393.1198.amd64fre.rs1_release_sec.170427-1353'\n '14393.1794.amd64fre.rs1_release.171008-1615'\n '9600.19000.amd64fre.winblue_ltsb.180410-0600'\n '10240.17831.amd64fre.th1_st1.180323-1758'\n '14393.187.amd64fre.rs1_release_inmarket.160906-1818'\n '14393.1358.amd64fre.rs1_release.170602-2252'\n '14393.1914.amd64fre.rs1_release_inmarket.171117-1700'\n '10240.17914.amd64fre.th1.180627-1911'\n '14393.1480.amd64fre.rs1_release.170706-2004'\n '10586.545.amd64fre.th2_release.160802-1857'\n '7601.24150.x86fre.win7sp1_ldr_escrow.180528-1700'\n '14393.1066.amd64fre.rs1_release_sec.170327-1835'\n '14393.1914.x86fre.rs1_release_inmarket.171117-1700'\n '10240.16384.x86fre.th1.150709-1700'\n '14393.321.amd64fre.rs1_release_inmarket.161004-2338'\n '14393.447.x86fre.rs1_release_inmarket.161102-0100'\n '14393.2068.amd64fre.rs1_release.180209-1727'\n '14393.576.amd64fre.rs1_release_inmarket.161208-2252'\n '10586.11.amd64fre.th2_release.151112-1900'\n '10240.16393.x86fre.th1_st1.150717-1719'\n '10240.17976.amd64fre.th1.180905-1120'\n '14393.953.x86fre.rs1_release_inmarket.170303-1614'\n '10240.16463.amd64fre.th1.150819-1946'\n '9600.19101.x86fre.winblue_ltsb_escrow.180718-1800'\n '10586.420.x86fre.th2_release_sec.160527-1834'\n '10586.589.amd64fre.th2_release.160906-1759'\n '14393.1715.x86fre.rs1_release_inmarket.170906-1810'\n '14393.2363.x86fre.rs1_release.180625-1741'\n '10586.545.x86fre.th2_release.160802-1857'\n '16299.637.x86fre.rs3_release_svc.180808-1748'\n '9600.19125.x86fre.winblue_ltsb.180812-0703'\n '14393.1480.x86fre.rs1_release.170706-2004'\n '14393.206.x86fre.rs1_release.160915-0644'\n '10586.17.x86fre.th2_release.151121-2308'\n '14393.2155.amd64fre.rs1_release_1.180305-1842'\n '9600.19067.x86fre.winblue_ltsb_escrow.180619-2033'\n '9600.18685.amd64fre.winblue_ltsb.170427-1704'\n '10586.962.x86fre.th2_release.170602-2241'\n '17713.1000.amd64fre.rs5_release.180706-1551'\n '14393.1198.x86fre.rs1_release_sec.170427-1353'\n '7601.24231.x86fre.win7sp1_ldr.180810-0600'\n '10586.633.amd64fre.th2_release.161004-1602'\n '17692.1004.x86fre.rs_prerelease_flt.180625-1624'\n '7601.24168.x86fre.win7sp1_ldr.180608-0600'\n '14393.479.amd64fre.rs1_release.161110-2025'\n '10240.17394.amd64fre.th1_st1.170427-1347'\n '14393.2125.x86fre.rs1_release.180301-2139'\n '10240.17946.amd64fre.th1.180806-2045'\n '14393.1358.x86fre.rs1_release.170602-2252'\n '17763.1.amd64fre.rs5_release.180914-1434'\n '10586.306.amd64fre.th2_release_sec.160422-1850'\n '17746.1000.amd64fre.rs5_release.180821-1736'\n '10586.916.amd64fre.th2_release_sec.170427-1350'\n '10240.17914.x86fre.th1.180627-1911'\n '14393.2248.x86fre.rs1_release.180427-1804'\n '14393.0.x86fre.rs1_release.160715-1616'\n '10240.17202.x86fre.th1_st1.161118-1836'\n '10586.1007.amd64fre.th2_release.170706-2002'\n '14393.2035.amd64fre.rs1_release_inmarket.180110-1910'\n '10586.962.amd64fre.th2_release.170602-2241'\n '9600.18378.amd64fre.winblue_ltsb.160611-0600'\n '10586.122.amd64fre.th2_release_inmarket.160222-1549'\n '10586.494.x86fre.th2_release_sec.160630-1736'\n '14393.82.amd64fre.rs1_release.160805-1735'\n '14393.2007.x86fre.rs1_release.171231-1800'\n '7601.24024.x86fre.win7sp1_ldr.180112-0600'\n '10586.103.x86fre.th2_release.160126-1819'\n '10586.1007.x86fre.th2_release.170706-2002'\n '9600.18931.amd64fre.winblue_ltsb.180201-0600'\n '14393.1944.x86fre.rs1_release.171129-2100'\n '9600.18946.amd64fre.winblue_ltsb_escrow.180302-1800'\n '14393.2363.amd64fre.rs1_release.180625-1741'\n '14393.1593.x86fre.rs1_release.170731-1934'\n '10586.63.amd64fre.th2_release.160104-1513'\n '10240.16644.amd64fre.th1.160104-1507'\n '14393.351.x86fre.rs1_release_inmarket.161014-1755'\n '14393.2312.x86fre.rs1_release.180607-1919'\n '10240.17861.amd64fre.th1.180427-1806'\n '7601.24214.x86fre.win7sp1_ldr_escrow.180801-1700'\n '14393.1770.x86fre.rs1_release.170917-1700'\n '14393.2248.amd64fre.rs1_release.180427-1804'\n '9600.18790.amd64fre.winblue_ltsb.170810-1616'\n '10240.16590.amd64fre.th1_st1.151104-1714'\n '10586.306.x86fre.th2_release_sec.160422-1850'\n '14393.103.amd64fre.rs1_release_inmarket.160819-1924'\n '7601.23418.amd64fre.win7sp1_ldr.160408-2045'\n '7601.24117.amd64fre.win7sp1_ldr_escrow.180422-1430'\n '10586.122.x86fre.th2_release_inmarket.160222-1549'\n '14393.2097.amd64fre.rs1_release_1.180212-1105'\n '17738.1000.amd64fre.rs5_release.180810-1706'\n '14393.2430.x86fre.rs1_release_inmarket_aim.180806-1810'\n '14393.2395.amd64fre.rs1_release_inmarket.180714-1932'\n '17758.1.amd64fre.rs5_release.180907-1536'\n '14393.2430.amd64fre.rs1_release_inmarket_aim.180806-1810'\n '9600.18946.x86fre.winblue_ltsb_escrow.180302-1800'\n '10240.16430.amd64fre.th1.150807-2049'\n '7601.24000.amd64fre.win7sp1_ldr.171231-1547'\n '14393.726.amd64fre.rs1_release.170112-1758'\n '17754.1.amd64fre.rs5_release.180831-1429'\n '10586.916.x86fre.th2_release_sec.170427-1350'\n '10240.17319.amd64fre.th1.170303-1600'\n '17760.1.amd64fre.rs5_release.180911-1415'\n '10240.17071.amd64fre.th1.160802-1852'\n '10240.16724.amd64fre.th1_st1.160222-1812'\n '10586.633.x86fre.th2_release.161004-1602'\n '9600.18505.amd64fre.winblue_ltsb.160930-0600'\n '10240.16431.amd64fre.th1.150810-2333'\n '10240.17113.amd64fre.th1.160906-1755'\n '10240.16590.x86fre.th1_st1.151104-1714'\n '14393.187.x86fre.rs1_release_inmarket.160906-1818'\n '14393.321.x86fre.rs1_release_inmarket.161004-2338'\n '7601.24093.amd64fre.win7sp1_ldr_escrow.180327-2230'\n '9600.18730.amd64fre.winblue_ltsb.170613-0600'\n '17741.1000.amd64fre.rs5_release.180814-1430'\n '14393.2155.x86fre.rs1_release_1.180305-1842'\n '14393.2312.amd64fre.rs1_release.180607-1919'\n '7601.24236.amd64fre.win7sp1_ldr_escrow.180815-1700'\n '17751.1.amd64fre.rs5_release.180828-1428'\n '7601.24231.amd64fre.win7sp1_ldr.180810-0600'\n '10240.16412.amd64fre.th1.150729-1800'\n '14393.2068.x86fre.rs1_release.180209-1727'\n '10240.17354.amd64fre.th1_st1.170327-1827'\n '7601.18717.amd64fre.win7sp1_gdr.150113-1808'\n '14393.2339.amd64fre.rs1_release_inmarket.180611-1502'\n '14393.1794.x86fre.rs1_release.171008-1615'\n '10586.63.x86fre.th2_release.160104-1513'\n '7601.19135.x86fre.win7sp1_gdr.160121-1718'\n '14393.576.x86fre.rs1_release_inmarket.161208-2252'\n '14393.2457.amd64fre.rs1_release_inmarket.180822-1743'\n '10240.17146.amd64fre.th1_st1.160929-1748'\n '14393.206.amd64fre.rs1_release.160915-0644'\n '10240.17797.amd64fre.th1_st1.180228-1829'\n '14393.2485.amd64fre.rs1_release.180827-1809'\n '14393.2339.x86fre.rs1_release_inmarket.180611-1502'\n '9600.17936.x86fre.winblue_ltsb.150715-0840'\n '10586.212.x86fre.th2_release_sec.160328-1908'\n '10240.17889.amd64fre.th1_st1.180529-1823'\n '10586.3.amd64fre.th2_release_sec.151104-1948'\n '14393.2035.x86fre.rs1_release_inmarket.180110-1910'\n '10586.3.x86fre.th2_release_sec.151104-1948'\n '10240.17202.amd64fre.th1_st1.161118-1836'\n '9600.19035.x86fre.winblue_ltsb_escrow.180522-1700'\n '10240.17918.amd64fre.th1_escrow.180712-1918'\n '7601.24000.x86fre.win7sp1_ldr.171231-1547'\n '7601.24024.amd64fre.win7sp1_ldr.180112-0600'\n '9600.17736.amd64fre.winblue_r9.150322-1500'\n '10240.17831.x86fre.th1_st1.180323-1758'\n '10586.0.x86fre.th2_release.151029-1700'\n '9600.18589.amd64fre.winblue_ltsb.170204-0600'\n '17755.1.amd64fre.rs5_release.180904-1423'\n '14393.2485.x86fre.rs1_release.180827-1809'\n '9600.17238.amd64fre.winblue_gdr.140723-2018'\n '10240.16841.amd64fre.th1_st1.160408-1853'\n '9600.18821.x86fre.winblue_ltsb.170914-0600'\n '14393.2097.x86fre.rs1_release_1.180212-1105'\n '7601.23915.amd64fre.win7sp1_ldr.170913-0600'\n '17735.1000.amd64fre.rs5_release.180807-1451'\n '9600.17415.amd64fre.winblue_r4.141028-1500'\n '7601.24150.amd64fre.win7sp1_ldr_escrow.180528-1700'\n '7601.23889.x86fre.win7sp1_ldr.170810-1615'\n '9600.18895.amd64fre.winblue_ltsb.180101-1800'\n '7601.19135.amd64fre.win7sp1_gdr.160121-1718'\n '14393.726.x86fre.rs1_release.170112-1758'\n '17134.1.arm64fre.rs4_release.180410-1804'\n '7601.23392.amd64fre.win7sp1_ldr.160317-0600'\n '10240.16515.amd64fre.th1.150916-2039'\n '9600.19000.x86fre.winblue_ltsb.180410-0600'\n '10586.589.x86fre.th2_release.160906-1759'\n '10240.16463.x86fre.th1.150819-1946'\n '10240.17889.x86fre.th1_st1.180529-1823'\n '7601.23796.amd64fre.win7sp1_ldr.170427-1518'\n '7601.23564.amd64fre.win7sp1_ldr.160930-0600'\n '7601.23418.x86fre.win7sp1_ldr.160408-2045'\n '10240.17797.x86fre.th1_st1.180228-1829'\n '7601.23391.amd64fre.win7sp1_ldr.160316-0600'\n '10240.16431.x86fre.th1.150810-2333'\n '9600.18969.x86fre.winblue_ltsb.180309-0600'\n '10240.17738.amd64fre.th1.180101-1159'\n '10240.16545.x86fre.th1.150930-1750'\n '9600.18758.amd64fre.winblue_ltsb.170707-0600'\n '9600.18696.amd64fre.winblue_ltsb.170511-1554'\n '10240.17184.amd64fre.th1_st1.161024-1820'\n '7601.24117.x86fre.win7sp1_ldr_escrow.180422-1430'\n '9600.18289.amd64fre.winblue_ltsb.160328-1315'\n '9600.19038.amd64fre.winblue_ltsb_escrow.180608-1416'\n '7601.24094.x86fre.win7sp1_ldr_escrow.180330-1600'\n '10240.16545.amd64fre.th1.150930-1750'\n '10240.17946.x86fre.th1.180806-2045'\n '7601.24094.amd64fre.win7sp1_ldr_escrow.180330-1600'\n '7601.23072.amd64fre.win7sp1_ldr.150525-0604'\n '10240.16724.x86fre.th1_st1.160222-1812'\n '14393.479.x86fre.rs1_release.161110-2025'\n '7601.18700.amd64fre.win7sp1_gdr.141211-1742'\n '17730.1000.amd64fre.rs5_release.180731-1427'\n '9600.17476.amd64fre.winblue_r5.141029-1500'\n '17672.1000.amd64fre.rs_prerelease.180511-1445'\n '9600.18895.x86fre.winblue_ltsb.180101-1800'\n '10586.338.amd64fre.th2_release.160517-1918'\n '9600.18438.amd64fre.winblue_ltsb.160812-0914'\n '7601.23807.amd64fre.win7sp1_ldr.170512-0600'\n '10240.16841.x86fre.th1_st1.160408-1853'\n '10240.17022.x86fre.th1_st1.160623-1726'\n '10240.16412.x86fre.th1.150729-1800'\n '7601.23915.x86fre.win7sp1_ldr.170913-0600'\n '14393.2368.x86fre.rs1_release_inmarket_aim.180712-1833'\n '9600.18589.x86fre.winblue_ltsb.170204-0600'\n '10240.17354.x86fre.th1_st1.170327-1827'\n '10240.17022.amd64fre.th1_st1.160623-1726'\n '17741.1000.x86fre.rs5_release.180814-1430'\n '9600.17085.amd64fre.winblue_gdr.140330-1035'\n '14393.2273.amd64fre.rs1_release_1.180427-1811'\n '17746.1000.x86fre.rs5_release.180821-1736'\n '17686.1003.amd64fre.rs_prerelease.180603-1447'\n '9600.18146.amd64fre.winblue_ltsb.151121-0600'\n '7601.23864.amd64fre.win7sp1_ldr.170707-0600'\n '10240.17861.x86fre.th1.180427-1806'\n '7601.23796.x86fre.win7sp1_ldr.170427-1518'\n '14393.2273.x86fre.rs1_release_1.180427-1811'\n '9600.18685.x86fre.winblue_ltsb.170427-1704'\n '14393.103.x86fre.rs1_release_inmarket.160819-1924'\n '16299.15.arm64fre.rs3_release.170928-1534'\n '9600.18258.amd64fre.winblue_ltsb.160303-0600']\nSKUEditionName ['Home' 'Pro' 'Cloud' 'Education' 'Enterprise LTSB' 'Enterprise' 'Invalid'\n 'Server']\nMDC2FormFactor ['SmallTablet' 'AllInOne' 'Desktop' 'Notebook' 'LargeTablet' 'Convertible'\n 'Detachable' 'PCOther' 'SmallServer' 'LargeServer' 'MediumServer']\nDeviceFamily ['Windows.Desktop' 'Windows.Server']\nPrimaryDiskType ['SSD' 'HDD' 'Unspecified' 'UNKNOWN' nan]\nChassisType ['Notebook' 'AllinOne' 'Desktop' 'Tower' 'Laptop' 'Portable' 'Convertible'\n 'UNKNOWN' 'LowProfileDesktop' 'Detachable' 'SpaceSaving' 'Tablet' 'Other'\n 'LunchBox' 'MainServerChassis' 'MiniTower' 'HandHeld' 'CompactPCI' nan\n '0' 'SubNotebook' 'Unknown' 'BusExpansionChassis' 'MiniPC' '30'\n 'RackMountChassis' 'SubChassis' 'MultisystemChassis' '35']\nPowerPlatformRole ['Slate' 'Desktop' 'Mobile' 'SOHOServer' 'UNKNOWN' 'Workstation'\n 'AppliancePC' 'EnterpriseServer' 'PerformanceServer']\nNumericOSVersion ['10.0.14393.2214' '10.0.17134.228' '10.0.17134.285' '10.0.15063.850'\n '10.0.17134.167' '10.0.17134.165' '10.0.15063.1209' '10.0.15063.1266'\n '10.0.16299.371' '10.0.16299.431' '10.0.17134.286' '10.0.17134.1'\n '10.0.17134.254' '10.0.10586.104' '10.0.16299.665' '10.0.14393.447'\n '10.0.17134.112' '10.0.15063.1088' '10.0.10586.589' '10.0.16299.125'\n '10.0.16299.492' '10.0.16299.611' '10.0.16299.192' '10.0.16299.214'\n '10.0.14393.693' '10.0.14393.1770' '10.0.15063.0' '10.0.14393.2007'\n '10.0.10240.17443' '10.0.16299.15' '10.0.16299.309' '10.0.10586.753'\n '10.0.17134.81' '10.0.17134.191' '10.0.10586.1176' '10.0.16299.402'\n '10.0.16299.547' '10.0.10586.713' '10.0.15063.1206' '10.0.10586.1045'\n '10.0.14393.2189' '10.0.15063.540' '10.0.16299.579' '10.0.14393.1944'\n '10.0.14393.1066' '10.0.14393.1884' '10.0.17134.137' '10.0.10586.36'\n '10.0.16299.461' '10.0.15063.1292' '10.0.10586.63' '10.0.17134.48'\n '10.0.17744.1004' '10.0.14393.1593' '10.0.10586.873' '10.0.10586.0'\n '10.0.15063.909' '10.0.10586.1106' '10.0.10586.164' '10.0.14393.953'\n '10.0.14393.2125' '10.0.15063.726' '10.0.15063.632' '10.0.10586.679'\n '10.0.10586.218' '10.0.10240.16405' '10.0.10586.494' '10.0.10240.16384'\n '10.0.16299.64' '10.0.15063.1029' '10.0.14393.1715' '10.0.16299.248'\n '10.0.16299.251' '10.0.14393.2368' '10.0.10586.545' '10.0.15063.250'\n '10.0.15063.674' '10.0.10586.420' '10.0.14393.0' '10.0.15063.413'\n '10.0.15063.1112' '10.0.15063.483' '10.0.15063.1324' '10.0.15063.11'\n '10.0.15063.1155' '10.0.16299.637' '10.0.16299.551' '10.0.14393.351'\n '10.0.15063.608' '10.0.16299.98' '10.0.17692.1004' '10.0.16299.334'\n '10.0.14393.1198' '10.0.16299.522' '10.0.10240.17831' '10.0.14393.187'\n '10.0.14393.1358' '10.0.10586.318' '10.0.14393.1914' '10.0.15063.966'\n '10.0.10240.17914' '10.0.15063.786' '10.0.14393.1480' '10.0.15063.1058'\n '10.0.14393.321' '10.0.15063.296' '10.0.15063.729' '10.0.14393.2068'\n '10.0.15063.1235' '10.0.16299.19' '10.0.14393.576' '10.0.10586.839'\n '10.0.10586.14' '10.0.17744.1001' '10.0.10240.17976' '10.0.15063.936'\n '10.0.10240.16487' '10.0.10586.3' '10.0.14393.10' '10.0.16299.666'\n '10.0.17134.319' '10.0.10586.71' '10.0.14393.2363' '10.0.15063.332'\n '10.0.14393.222' '10.0.10586.29' '10.0.14393.2155' '10.0.10586.962'\n '10.0.17760.1' '10.0.10586.633' '10.0.10586.1007' '10.0.14393.5'\n '10.0.10586.916' '10.0.15063.1154' '10.0.14393.479' '10.0.10240.17394'\n '10.0.10240.17946' '10.0.17763.1' '10.0.15063.877' '10.0.10240.16725'\n '10.0.17746.1000' '10.0.14393.2248' '10.0.10240.17236' '10.0.14393.2035'\n '10.0.14393.51' '10.0.10586.122' '10.0.14393.82' '10.0.15063.138'\n '10.0.15063.447' '10.0.16299.696' '10.0.17758.4' '10.0.10240.16644'\n '10.0.15063.502' '10.0.14393.2312' '10.0.10240.16601' '10.0.10240.17918'\n '10.0.14393.105' '10.0.17723.1000' '10.0.14393.2097' '10.0.17738.1000'\n '10.0.14393.2430' '10.0.14393.2396' '10.0.10240.16683' '10.0.17754.1'\n '10.0.10240.16433' '10.0.14393.726' '10.0.17744.1003' '10.0.10240.17319'\n '10.0.10240.17071' '10.0.10240.16445' '10.0.10240.17113' '10.0.15063.994'\n '10.0.10240.16590' '10.0.14393.969' '10.0.17751.1' '10.0.17741.1000'\n '10.0.10240.16413' '10.0.10240.17354' '10.0.15063.1356' '10.0.14393.2339'\n '10.0.15063.1182' '10.0.10240.17861' '10.0.10586.11' '10.0.14393.2457'\n '10.0.10240.17146' '10.0.10240.17797' '10.0.17758.1' '10.0.10240.16430'\n '10.0.14393.2485' '10.0.10240.17889' '10.0.10586.17' '10.0.10586.446'\n '10.0.17134.5' '10.0.14393.970' '10.0.14393.2395' '10.0.17755.1'\n '10.0.15063.13' '10.0.10240.16942' '10.0.17735.1000' '10.0.10240.16397'\n '10.0.17134.83' '10.0.10240.16463' '10.0.14393.1378' '10.0.14393.3'\n '10.0.10240.16520' '10.0.10240.17738' '10.0.10240.16549' '10.0.14393.577'\n '10.0.10240.17190' '10.0.16299.194' '10.0.15063.675' '10.0.10240.16771'\n '10.0.17672.1000' '10.0.10586.338' '10.0.15060.0' '10.0.10240.16854'\n '10.0.10240.17024' '10.0.14393.1532' '10.0.17133.1' '10.0.14393.2273'\n '10.0.17686.1003']\nOSArchitecture ['x86' 'amd64' 'arm64']\nOSBranch ['rs1_release' 'rs4_release' 'rs2_release' 'rs3_release'\n 'rs3_release_svc_escrow' 'th2_release' 'th1_st1' 'th2_release_sec'\n 'rs3_release_svc_escrow_im' 'th1' 'rs5_release' 'rs_prerelease_flt'\n 'rs_prerelease']\nOSEdition ['Core' 'Professional' 'CoreSingleLanguage' 'ProfessionalN'\n 'ProfessionalEducation' 'CoreCountrySpecific' 'Cloud' 'Education'\n 'EnterpriseS' 'Enterprise' 'EnterpriseSN' 'CoreN' 'EducationN'\n 'ServerStandard' 'ProfessionalEducationN' 'ServerStandardEval'\n 'EnterpriseN' 'ServerSolution' 'ServerDatacenterEval'\n 'ProfessionalWorkstation']\nOSSkuFriendlyName ['CORE' 'PROFESSIONAL' 'CORE_SINGLELANGUAGE' 'PROFESSIONAL_N'\n 'CORE_COUNTRYSPECIFIC' 'CLOUD' 'EDUCATION' 'ENTERPRISE_S' 'ENTERPRISE'\n 'ENTERPRISE_S_N' 'CORE_N' 'EDUCATION_N' 'STANDARD_SERVER'\n 'STANDARD_EVALUATION_SERVER' 'ENTERPRISE_N' 'SB_SOLUTION_SERVER'\n 'DATACENTER_EVALUATION_SERVER' 'PRO_WORKSTATION']\nOSInstallType ['Update' 'UUPUpgrade' 'Reset' 'Upgrade' 'IBSClean' 'Other' 'Refresh'\n 'CleanPCRefresh' 'Clean']\nAutoUpdateOptionsName ['UNKNOWN' 'FullAuto' 'AutoInstallAndRebootAtMaintenanceTime' 'Notify'\n 'Off' 'DownloadNotify']\nOSGenuineState ['IS_GENUINE' 'INVALID_LICENSE' 'OFFLINE' 'UNKNOWN']\nLicenseActivationChannel ['Retail' 'OEM:DM' 'OEM:NONSLP' 'Volume:GVLK' 'Volume:MAK'\n 'Retail:TB:Eval']\nFlightRing ['Retail' 'NOT_SET' 'Unknown' 'WIS' 'RP' 'Disabled' 'WIF']\nDateAS ['2018-09-10 10:11:00' '2018-08-16 00:01:00' '2018-09-20 23:20:00' ...\n '2018-03-28 09:33:00' '2018-03-13 18:41:00' '2017-09-28 08:53:00']\nDateOS ['2018-04-17' '2018-08-14' '2018-09-11' '2018-01-03' '2018-07-16'\n '2018-07-10' '2018-04-10' '2018-05-08' '2018-09-17' '2018-04-20'\n '2018-08-30' '2016-02-09' '2016-11-08' '2018-06-12' '2016-09-13'\n '2017-12-12' '2018-01-31' '2017-01-10' '2017-10-10' '2017-03-30'\n '2017-06-13' '2018-03-13' '2018-05-23' '2018-07-24' '2018-04-23'\n '2016-12-13' '2017-08-08' '2017-04-11' '2017-11-14' '2018-06-26'\n '2015-12-17' '2018-05-21' '2016-01-12' '2018-09-07' '2015-11-05'\n '2018-02-13' '2017-09-12' '2016-03-08' '2017-03-14' '2017-09-25'\n '2016-04-12' '2015-07-29' '2016-07-12' '2015-07-15' '2018-03-05'\n '2016-08-09' '2017-04-25' '2016-06-14' '2016-07-20' '2018-05-17'\n '2017-07-11' '2017-03-31' '2016-10-27' '2017-11-30' '2018-07-02'\n '2018-03-22' '2017-05-09' '2018-06-21' '2016-09-20' '2016-05-10'\n '2017-11-27' '2016-10-11' '2017-11-22' '2017-10-17' '2015-11-24'\n '2018-08-21' '2018-03-08' '2015-09-08' '2015-11-10' '2016-08-02'\n '2018-09-20' '2016-01-27' '2017-05-25' '2016-09-29' '2015-12-04'\n '2018-09-14' '2016-07-28' nan '2016-12-09' '2018-10-02' '2018-01-17'\n '2018-08-24' '2016-03-01' '2016-08-23' '2017-06-27' '2018-09-18'\n '2017-07-31' '2015-12-08' '2016-08-31' '2018-02-22' '2018-08-23'\n '2018-07-30' '2015-08-14' '2017-01-26' '2015-08-18' '2017-03-20'\n '2018-08-31' '2018-08-17' '2015-08-05' '2015-11-18' '2015-08-11'\n '2015-12-02' '2018-04-27' '2017-03-22' '2017-04-05' '2018-08-10'\n '2018-06-05' '2015-08-27' '2015-09-30' '2015-10-13' '2017-11-02'\n '2016-06-02' '2017-07-18']\n",
          "output_type": "stream"
        }
      ],
      "execution_count": null
    },
    {
      "cell_type": "code",
      "source": [
        "for i in X[num_cols]:\n",
        "    print(i,len(X[i].unique())) # check how many unique values are present in the respective feature columns"
      ],
      "metadata": {
        "trusted": true,
        "execution": {
          "iopub.status.busy": "2025-03-24T14:02:26.490082Z",
          "iopub.execute_input": "2025-03-24T14:02:26.490366Z",
          "iopub.status.idle": "2025-03-24T14:02:26.578779Z",
          "shell.execute_reply.started": "2025-03-24T14:02:26.490340Z",
          "shell.execute_reply": "2025-03-24T14:02:26.577587Z"
        },
        "id": "Ch5xFWhDd3Jb",
        "outputId": "2d5a9653-c1d1-4ead-8f8a-cd3aa9f78a1a"
      },
      "outputs": [
        {
          "name": "stdout",
          "text": "IsBetaUser 1\nRealTimeProtectionState 7\nIsPassiveModeEnabled 2\nAntivirusConfigID 1977\nNumAntivirusProductsInstalled 6\nNumAntivirusProductsEnabled 6\nHasTpm 2\nCountryID 220\nCityID 16048\nGeoRegionID 239\nLocaleEnglishNameID 185\nOSBuildNumber 24\nOSProductSuite 7\nIsSystemProtected 3\nAutoSampleSubmissionEnabled 1\nSMode 3\nIEVersionID 103\nFirewallEnabled 3\nEnableLUA 4\nOEMNameID 838\nOEMModelID 15953\nProcessorCoreCount 20\nProcessorManufacturerID 5\nProcessorModelID 1660\nPrimaryDiskCapacityMB 399\nSystemVolumeCapacityMB 46189\nHasOpticalDiskDrive 2\nTotalPhysicalRAMMB 128\nPrimaryDisplayDiagonalInches 363\nPrimaryDisplayResolutionHorizontal 122\nPrimaryDisplayResolutionVertical 132\nInternalBatteryNumberOfCharges 1761\nOSBuildNumberOnly 23\nOSBuildRevisionOnly 199\nOSInstallLanguageID 40\nOSUILocaleID 64\nIsPortableOS 2\nIsFlightsDisabled 2\nFirmwareManufacturerID 170\nFirmwareVersionID 12300\nIsSecureBootEnabled 2\nIsVirtualDevice 3\nIsTouchEnabled 2\nIsPenCapable 2\nIsAlwaysOnAlwaysConnectedCapable 3\nIsGamer 3\nRegionIdentifier 16\n",
          "output_type": "stream"
        }
      ],
      "execution_count": null
    },
    {
      "cell_type": "code",
      "source": [
        "for i in X[obj_cols]:\n",
        "    print(i,len(X[i].unique()))"
      ],
      "metadata": {
        "trusted": true,
        "execution": {
          "iopub.status.busy": "2025-03-24T14:02:26.579777Z",
          "iopub.execute_input": "2025-03-24T14:02:26.580061Z",
          "iopub.status.idle": "2025-03-24T14:02:26.784928Z",
          "shell.execute_reply.started": "2025-03-24T14:02:26.580037Z",
          "shell.execute_reply": "2025-03-24T14:02:26.783996Z"
        },
        "id": "smKGPnRtd3Jc",
        "outputId": "7cd7df02-a4fb-451a-bbe3-07c6d1140d7f"
      },
      "outputs": [
        {
          "name": "stdout",
          "text": "MachineID 99835\nProductName 2\nEngineVersion 37\nAppVersion 69\nSignatureVersion 2735\nPlatformType 4\nProcessor 3\nOSVersion 7\nOsPlatformSubRelease 9\nOSBuildLab 281\nSKUEditionName 8\nMDC2FormFactor 11\nDeviceFamily 2\nPrimaryDiskType 5\nChassisType 29\nPowerPlatformRole 9\nNumericOSVersion 221\nOSArchitecture 3\nOSBranch 13\nOSEdition 20\nOSSkuFriendlyName 18\nOSInstallType 9\nAutoUpdateOptionsName 6\nOSGenuineState 4\nLicenseActivationChannel 6\nFlightRing 7\nDateAS 2695\nDateOS 113\n",
          "output_type": "stream"
        }
      ],
      "execution_count": null
    },
    {
      "cell_type": "code",
      "source": [
        "# dropped because the features contains only one value which is not useful for training\n",
        "X = X.drop(columns=[\"IsBetaUser\", \"AutoSampleSubmissionEnabled\"])"
      ],
      "metadata": {
        "trusted": true,
        "execution": {
          "iopub.status.busy": "2025-03-24T14:02:26.785766Z",
          "iopub.execute_input": "2025-03-24T14:02:26.786031Z",
          "iopub.status.idle": "2025-03-24T14:02:26.821608Z",
          "shell.execute_reply.started": "2025-03-24T14:02:26.786008Z",
          "shell.execute_reply": "2025-03-24T14:02:26.820523Z"
        },
        "id": "D4P653oMd3Jc"
      },
      "outputs": [],
      "execution_count": null
    },
    {
      "cell_type": "code",
      "source": [
        "# re-defining the numeric columns present in the training data 'X'\n",
        "num_cols = X.select_dtypes(include=['int64', 'float64']).columns"
      ],
      "metadata": {
        "trusted": true,
        "execution": {
          "iopub.status.busy": "2025-03-24T14:02:26.822601Z",
          "iopub.execute_input": "2025-03-24T14:02:26.822989Z",
          "iopub.status.idle": "2025-03-24T14:02:26.835800Z",
          "shell.execute_reply.started": "2025-03-24T14:02:26.822953Z",
          "shell.execute_reply": "2025-03-24T14:02:26.834433Z"
        },
        "id": "8KklAyy1d3Jc"
      },
      "outputs": [],
      "execution_count": null
    },
    {
      "cell_type": "code",
      "source": [
        "X[num_cols] = SimpleImputer(strategy = 'mean').fit_transform(X[num_cols])\n",
        "X[num_cols].isna().sum()"
      ],
      "metadata": {
        "trusted": true,
        "execution": {
          "iopub.status.busy": "2025-03-24T14:02:26.837102Z",
          "iopub.execute_input": "2025-03-24T14:02:26.837408Z",
          "iopub.status.idle": "2025-03-24T14:02:27.013792Z",
          "shell.execute_reply.started": "2025-03-24T14:02:26.837381Z",
          "shell.execute_reply": "2025-03-24T14:02:27.012684Z"
        },
        "id": "4GSZRphTd3Jc",
        "outputId": "794bfd30-7d27-4cfe-b226-08e4ab3a97e9"
      },
      "outputs": [
        {
          "execution_count": 35,
          "output_type": "execute_result",
          "data": {
            "text/plain": "RealTimeProtectionState               0\nIsPassiveModeEnabled                  0\nAntivirusConfigID                     0\nNumAntivirusProductsInstalled         0\nNumAntivirusProductsEnabled           0\nHasTpm                                0\nCountryID                             0\nCityID                                0\nGeoRegionID                           0\nLocaleEnglishNameID                   0\nOSBuildNumber                         0\nOSProductSuite                        0\nIsSystemProtected                     0\nSMode                                 0\nIEVersionID                           0\nFirewallEnabled                       0\nEnableLUA                             0\nOEMNameID                             0\nOEMModelID                            0\nProcessorCoreCount                    0\nProcessorManufacturerID               0\nProcessorModelID                      0\nPrimaryDiskCapacityMB                 0\nSystemVolumeCapacityMB                0\nHasOpticalDiskDrive                   0\nTotalPhysicalRAMMB                    0\nPrimaryDisplayDiagonalInches          0\nPrimaryDisplayResolutionHorizontal    0\nPrimaryDisplayResolutionVertical      0\nInternalBatteryNumberOfCharges        0\nOSBuildNumberOnly                     0\nOSBuildRevisionOnly                   0\nOSInstallLanguageID                   0\nOSUILocaleID                          0\nIsPortableOS                          0\nIsFlightsDisabled                     0\nFirmwareManufacturerID                0\nFirmwareVersionID                     0\nIsSecureBootEnabled                   0\nIsVirtualDevice                       0\nIsTouchEnabled                        0\nIsPenCapable                          0\nIsAlwaysOnAlwaysConnectedCapable      0\nIsGamer                               0\nRegionIdentifier                      0\ndtype: int64"
          },
          "metadata": {}
        }
      ],
      "execution_count": null
    },
    {
      "cell_type": "code",
      "source": [
        "X.describe()"
      ],
      "metadata": {
        "trusted": true,
        "execution": {
          "iopub.status.busy": "2025-03-24T14:02:27.014797Z",
          "iopub.execute_input": "2025-03-24T14:02:27.015150Z",
          "iopub.status.idle": "2025-03-24T14:02:27.291422Z",
          "shell.execute_reply.started": "2025-03-24T14:02:27.015120Z",
          "shell.execute_reply": "2025-03-24T14:02:27.290574Z"
        },
        "id": "YYUVxRafd3Jc",
        "outputId": "a431ce70-d0ec-46be-acfc-9f99d3090696"
      },
      "outputs": [
        {
          "execution_count": 36,
          "output_type": "execute_result",
          "data": {
            "text/plain": "       RealTimeProtectionState  IsPassiveModeEnabled  AntivirusConfigID  \\\ncount            100000.000000         100000.000000      100000.000000   \nmean                  6.848430              0.017620       47975.710440   \nstd                   1.014831              0.131566       13798.075222   \nmin                   0.000000              0.000000          39.000000   \n25%                   7.000000              0.000000       49480.000000   \n50%                   7.000000              0.000000       53447.000000   \n75%                   7.000000              0.000000       53447.000000   \nmax                   8.000000              1.000000       70490.000000   \n\n       NumAntivirusProductsInstalled  NumAntivirusProductsEnabled  \\\ncount                  100000.000000                100000.000000   \nmean                        1.326528                     1.018264   \nstd                         0.520484                     0.155232   \nmin                         1.000000                     0.000000   \n25%                         1.000000                     1.000000   \n50%                         1.000000                     1.000000   \n75%                         2.000000                     1.000000   \nmax                         5.000000                     4.000000   \n\n              HasTpm      CountryID         CityID    GeoRegionID  \\\ncount  100000.000000  100000.000000  100000.000000  100000.000000   \nmean        0.996780     108.078790   81029.938587     169.741630   \nstd         0.056654      63.062151   48791.326700      89.188929   \nmin         0.000000       1.000000       7.000000       1.000000   \n25%         1.000000      51.000000   36825.000000      89.000000   \n50%         1.000000      97.000000   82373.000000     181.000000   \n75%         1.000000     162.000000  122547.000000     267.000000   \nmax         1.000000     222.000000  167957.000000     296.000000   \n\n       LocaleEnglishNameID  ...  IsFlightsDisabled  FirmwareManufacturerID  \\\ncount        100000.000000  ...           100000.0           100000.000000   \nmean            122.695100  ...                0.0              401.987613   \nstd              69.242252  ...                0.0              220.902416   \nmin               1.000000  ...                0.0                2.000000   \n25%              74.000000  ...                0.0              142.000000   \n50%              88.000000  ...                0.0              500.000000   \n75%             182.000000  ...                0.0              556.000000   \nmax             283.000000  ...                0.0             1083.000000   \n\n       FirmwareVersionID  IsSecureBootEnabled  IsVirtualDevice  \\\ncount      100000.000000        100000.000000    100000.000000   \nmean        32942.648044             0.495690         0.003841   \nstd         21116.617137             0.499984         0.061849   \nmin           121.000000             0.000000         0.000000   \n25%         13154.000000             0.000000         0.000000   \n50%         33066.000000             0.000000         0.000000   \n75%         52319.250000             1.000000         0.000000   \nmax         72091.000000             1.000000         1.000000   \n\n       IsTouchEnabled   IsPenCapable  IsAlwaysOnAlwaysConnectedCapable  \\\ncount   100000.000000  100000.000000                     100000.000000   \nmean         0.128470       0.040580                          0.058398   \nstd          0.334614       0.197316                          0.234339   \nmin          0.000000       0.000000                          0.000000   \n25%          0.000000       0.000000                          0.000000   \n50%          0.000000       0.000000                          0.000000   \n75%          0.000000       0.000000                          0.000000   \nmax          1.000000       1.000000                          1.000000   \n\n             IsGamer  RegionIdentifier  \ncount  100000.000000     100000.000000  \nmean        0.296668          7.875866  \nstd         0.455513          4.549763  \nmin         0.000000          1.000000  \n25%         0.000000          3.000000  \n50%         0.000000         10.000000  \n75%         1.000000         11.000000  \nmax         1.000000         15.000000  \n\n[8 rows x 45 columns]",
            "text/html": "<div>\n<style scoped>\n    .dataframe tbody tr th:only-of-type {\n        vertical-align: middle;\n    }\n\n    .dataframe tbody tr th {\n        vertical-align: top;\n    }\n\n    .dataframe thead th {\n        text-align: right;\n    }\n</style>\n<table border=\"1\" class=\"dataframe\">\n  <thead>\n    <tr style=\"text-align: right;\">\n      <th></th>\n      <th>RealTimeProtectionState</th>\n      <th>IsPassiveModeEnabled</th>\n      <th>AntivirusConfigID</th>\n      <th>NumAntivirusProductsInstalled</th>\n      <th>NumAntivirusProductsEnabled</th>\n      <th>HasTpm</th>\n      <th>CountryID</th>\n      <th>CityID</th>\n      <th>GeoRegionID</th>\n      <th>LocaleEnglishNameID</th>\n      <th>...</th>\n      <th>IsFlightsDisabled</th>\n      <th>FirmwareManufacturerID</th>\n      <th>FirmwareVersionID</th>\n      <th>IsSecureBootEnabled</th>\n      <th>IsVirtualDevice</th>\n      <th>IsTouchEnabled</th>\n      <th>IsPenCapable</th>\n      <th>IsAlwaysOnAlwaysConnectedCapable</th>\n      <th>IsGamer</th>\n      <th>RegionIdentifier</th>\n    </tr>\n  </thead>\n  <tbody>\n    <tr>\n      <th>count</th>\n      <td>100000.000000</td>\n      <td>100000.000000</td>\n      <td>100000.000000</td>\n      <td>100000.000000</td>\n      <td>100000.000000</td>\n      <td>100000.000000</td>\n      <td>100000.000000</td>\n      <td>100000.000000</td>\n      <td>100000.000000</td>\n      <td>100000.000000</td>\n      <td>...</td>\n      <td>100000.0</td>\n      <td>100000.000000</td>\n      <td>100000.000000</td>\n      <td>100000.000000</td>\n      <td>100000.000000</td>\n      <td>100000.000000</td>\n      <td>100000.000000</td>\n      <td>100000.000000</td>\n      <td>100000.000000</td>\n      <td>100000.000000</td>\n    </tr>\n    <tr>\n      <th>mean</th>\n      <td>6.848430</td>\n      <td>0.017620</td>\n      <td>47975.710440</td>\n      <td>1.326528</td>\n      <td>1.018264</td>\n      <td>0.996780</td>\n      <td>108.078790</td>\n      <td>81029.938587</td>\n      <td>169.741630</td>\n      <td>122.695100</td>\n      <td>...</td>\n      <td>0.0</td>\n      <td>401.987613</td>\n      <td>32942.648044</td>\n      <td>0.495690</td>\n      <td>0.003841</td>\n      <td>0.128470</td>\n      <td>0.040580</td>\n      <td>0.058398</td>\n      <td>0.296668</td>\n      <td>7.875866</td>\n    </tr>\n    <tr>\n      <th>std</th>\n      <td>1.014831</td>\n      <td>0.131566</td>\n      <td>13798.075222</td>\n      <td>0.520484</td>\n      <td>0.155232</td>\n      <td>0.056654</td>\n      <td>63.062151</td>\n      <td>48791.326700</td>\n      <td>89.188929</td>\n      <td>69.242252</td>\n      <td>...</td>\n      <td>0.0</td>\n      <td>220.902416</td>\n      <td>21116.617137</td>\n      <td>0.499984</td>\n      <td>0.061849</td>\n      <td>0.334614</td>\n      <td>0.197316</td>\n      <td>0.234339</td>\n      <td>0.455513</td>\n      <td>4.549763</td>\n    </tr>\n    <tr>\n      <th>min</th>\n      <td>0.000000</td>\n      <td>0.000000</td>\n      <td>39.000000</td>\n      <td>1.000000</td>\n      <td>0.000000</td>\n      <td>0.000000</td>\n      <td>1.000000</td>\n      <td>7.000000</td>\n      <td>1.000000</td>\n      <td>1.000000</td>\n      <td>...</td>\n      <td>0.0</td>\n      <td>2.000000</td>\n      <td>121.000000</td>\n      <td>0.000000</td>\n      <td>0.000000</td>\n      <td>0.000000</td>\n      <td>0.000000</td>\n      <td>0.000000</td>\n      <td>0.000000</td>\n      <td>1.000000</td>\n    </tr>\n    <tr>\n      <th>25%</th>\n      <td>7.000000</td>\n      <td>0.000000</td>\n      <td>49480.000000</td>\n      <td>1.000000</td>\n      <td>1.000000</td>\n      <td>1.000000</td>\n      <td>51.000000</td>\n      <td>36825.000000</td>\n      <td>89.000000</td>\n      <td>74.000000</td>\n      <td>...</td>\n      <td>0.0</td>\n      <td>142.000000</td>\n      <td>13154.000000</td>\n      <td>0.000000</td>\n      <td>0.000000</td>\n      <td>0.000000</td>\n      <td>0.000000</td>\n      <td>0.000000</td>\n      <td>0.000000</td>\n      <td>3.000000</td>\n    </tr>\n    <tr>\n      <th>50%</th>\n      <td>7.000000</td>\n      <td>0.000000</td>\n      <td>53447.000000</td>\n      <td>1.000000</td>\n      <td>1.000000</td>\n      <td>1.000000</td>\n      <td>97.000000</td>\n      <td>82373.000000</td>\n      <td>181.000000</td>\n      <td>88.000000</td>\n      <td>...</td>\n      <td>0.0</td>\n      <td>500.000000</td>\n      <td>33066.000000</td>\n      <td>0.000000</td>\n      <td>0.000000</td>\n      <td>0.000000</td>\n      <td>0.000000</td>\n      <td>0.000000</td>\n      <td>0.000000</td>\n      <td>10.000000</td>\n    </tr>\n    <tr>\n      <th>75%</th>\n      <td>7.000000</td>\n      <td>0.000000</td>\n      <td>53447.000000</td>\n      <td>2.000000</td>\n      <td>1.000000</td>\n      <td>1.000000</td>\n      <td>162.000000</td>\n      <td>122547.000000</td>\n      <td>267.000000</td>\n      <td>182.000000</td>\n      <td>...</td>\n      <td>0.0</td>\n      <td>556.000000</td>\n      <td>52319.250000</td>\n      <td>1.000000</td>\n      <td>0.000000</td>\n      <td>0.000000</td>\n      <td>0.000000</td>\n      <td>0.000000</td>\n      <td>1.000000</td>\n      <td>11.000000</td>\n    </tr>\n    <tr>\n      <th>max</th>\n      <td>8.000000</td>\n      <td>1.000000</td>\n      <td>70490.000000</td>\n      <td>5.000000</td>\n      <td>4.000000</td>\n      <td>1.000000</td>\n      <td>222.000000</td>\n      <td>167957.000000</td>\n      <td>296.000000</td>\n      <td>283.000000</td>\n      <td>...</td>\n      <td>0.0</td>\n      <td>1083.000000</td>\n      <td>72091.000000</td>\n      <td>1.000000</td>\n      <td>1.000000</td>\n      <td>1.000000</td>\n      <td>1.000000</td>\n      <td>1.000000</td>\n      <td>1.000000</td>\n      <td>15.000000</td>\n    </tr>\n  </tbody>\n</table>\n<p>8 rows × 45 columns</p>\n</div>"
          },
          "metadata": {}
        }
      ],
      "execution_count": null
    },
    {
      "cell_type": "code",
      "source": [
        "X[num_cols].corr()"
      ],
      "metadata": {
        "trusted": true,
        "execution": {
          "iopub.status.busy": "2025-03-24T14:02:27.292331Z",
          "iopub.execute_input": "2025-03-24T14:02:27.292615Z",
          "iopub.status.idle": "2025-03-24T14:02:27.920822Z",
          "shell.execute_reply.started": "2025-03-24T14:02:27.292591Z",
          "shell.execute_reply": "2025-03-24T14:02:27.919451Z"
        },
        "id": "qJLhHjW2d3Jd",
        "outputId": "17dd6350-8e82-42ff-becf-660494c6fb5c"
      },
      "outputs": [
        {
          "execution_count": 37,
          "output_type": "execute_result",
          "data": {
            "text/plain": "                                    RealTimeProtectionState  \\\nRealTimeProtectionState                            1.000000   \nIsPassiveModeEnabled                              -0.901170   \nAntivirusConfigID                                  0.107795   \nNumAntivirusProductsInstalled                     -0.184242   \nNumAntivirusProductsEnabled                       -0.001297   \nHasTpm                                            -0.001026   \nCountryID                                          0.010739   \nCityID                                            -0.001666   \nGeoRegionID                                        0.013599   \nLocaleEnglishNameID                                0.002850   \nOSBuildNumber                                     -0.032373   \nOSProductSuite                                    -0.010312   \nIsSystemProtected                                  0.056215   \nSMode                                              0.003334   \nIEVersionID                                       -0.028790   \nFirewallEnabled                                    0.010588   \nEnableLUA                                          0.002261   \nOEMNameID                                          0.001121   \nOEMModelID                                         0.002311   \nProcessorCoreCount                                -0.020382   \nProcessorManufacturerID                            0.002127   \nProcessorModelID                                  -0.007457   \nPrimaryDiskCapacityMB                             -0.030111   \nSystemVolumeCapacityMB                            -0.025861   \nHasOpticalDiskDrive                               -0.008412   \nTotalPhysicalRAMMB                                -0.024224   \nPrimaryDisplayDiagonalInches                      -0.015146   \nPrimaryDisplayResolutionHorizontal                -0.021565   \nPrimaryDisplayResolutionVertical                  -0.014389   \nInternalBatteryNumberOfCharges                    -0.002941   \nOSBuildNumberOnly                                 -0.038171   \nOSBuildRevisionOnly                                0.024637   \nOSInstallLanguageID                               -0.011895   \nOSUILocaleID                                      -0.012711   \nIsPortableOS                                      -0.002645   \nIsFlightsDisabled                                       NaN   \nFirmwareManufacturerID                             0.010088   \nFirmwareVersionID                                  0.008403   \nIsSecureBootEnabled                               -0.015118   \nIsVirtualDevice                                    0.007044   \nIsTouchEnabled                                     0.009184   \nIsPenCapable                                       0.003634   \nIsAlwaysOnAlwaysConnectedCapable                   0.019855   \nIsGamer                                           -0.022948   \nRegionIdentifier                                  -0.009456   \n\n                                    IsPassiveModeEnabled  AntivirusConfigID  \\\nRealTimeProtectionState                        -0.901170           0.107795   \nIsPassiveModeEnabled                            1.000000          -0.111384   \nAntivirusConfigID                              -0.111384           1.000000   \nNumAntivirusProductsInstalled                   0.195343          -0.647222   \nNumAntivirusProductsEnabled                     0.023414          -0.115021   \nHasTpm                                          0.004929           0.058585   \nCountryID                                      -0.010327           0.008454   \nCityID                                         -0.001964          -0.000664   \nGeoRegionID                                    -0.013213           0.017470   \nLocaleEnglishNameID                            -0.006799          -0.077068   \nOSBuildNumber                                   0.043757          -0.039569   \nOSProductSuite                                  0.011408          -0.055582   \nIsSystemProtected                              -0.040591          -0.141641   \nSMode                                          -0.002992           0.008811   \nIEVersionID                                     0.009074          -0.025505   \nFirewallEnabled                                -0.007553           0.009267   \nEnableLUA                                      -0.000843          -0.002551   \nOEMNameID                                      -0.001768           0.018715   \nOEMModelID                                     -0.000115           0.019126   \nProcessorCoreCount                              0.024265           0.048834   \nProcessorManufacturerID                         0.000115           0.026482   \nProcessorModelID                                0.009388           0.020210   \nPrimaryDiskCapacityMB                           0.025749          -0.080123   \nSystemVolumeCapacityMB                          0.023164          -0.091417   \nHasOpticalDiskDrive                             0.004607          -0.048150   \nTotalPhysicalRAMMB                              0.026268           0.028404   \nPrimaryDisplayDiagonalInches                    0.010965           0.000301   \nPrimaryDisplayResolutionHorizontal              0.025209           0.043774   \nPrimaryDisplayResolutionVertical                0.018662           0.054768   \nInternalBatteryNumberOfCharges                 -0.000890           0.013283   \nOSBuildNumberOnly                               0.043049          -0.043065   \nOSBuildRevisionOnly                            -0.025771           0.026097   \nOSInstallLanguageID                             0.010791           0.013594   \nOSUILocaleID                                    0.011356           0.011822   \nIsPortableOS                                    0.000279           0.004179   \nIsFlightsDisabled                                    NaN                NaN   \nFirmwareManufacturerID                         -0.009327          -0.009608   \nFirmwareVersionID                              -0.008966          -0.020774   \nIsSecureBootEnabled                             0.017269          -0.044234   \nIsVirtualDevice                                -0.007088           0.022732   \nIsTouchEnabled                                 -0.005307           0.034499   \nIsPenCapable                                   -0.000579           0.033614   \nIsAlwaysOnAlwaysConnectedCapable               -0.016452           0.060247   \nIsGamer                                         0.025804          -0.026357   \nRegionIdentifier                                0.007948          -0.008284   \n\n                                    NumAntivirusProductsInstalled  \\\nRealTimeProtectionState                                 -0.184242   \nIsPassiveModeEnabled                                     0.195343   \nAntivirusConfigID                                       -0.647222   \nNumAntivirusProductsInstalled                            1.000000   \nNumAntivirusProductsEnabled                              0.273791   \nHasTpm                                                   0.010125   \nCountryID                                               -0.017950   \nCityID                                                   0.003501   \nGeoRegionID                                             -0.042778   \nLocaleEnglishNameID                                      0.041460   \nOSBuildNumber                                           -0.005867   \nOSProductSuite                                           0.173484   \nIsSystemProtected                                       -0.016596   \nSMode                                                   -0.013951   \nIEVersionID                                             -0.024561   \nFirewallEnabled                                         -0.006819   \nEnableLUA                                                0.001345   \nOEMNameID                                               -0.066378   \nOEMModelID                                              -0.049372   \nProcessorCoreCount                                      -0.053482   \nProcessorManufacturerID                                 -0.019090   \nProcessorModelID                                        -0.033667   \nPrimaryDiskCapacityMB                                    0.112200   \nSystemVolumeCapacityMB                                   0.145918   \nHasOpticalDiskDrive                                      0.020118   \nTotalPhysicalRAMMB                                      -0.033283   \nPrimaryDisplayDiagonalInches                            -0.037592   \nPrimaryDisplayResolutionHorizontal                      -0.042259   \nPrimaryDisplayResolutionVertical                        -0.070214   \nInternalBatteryNumberOfCharges                          -0.083595   \nOSBuildNumberOnly                                       -0.012615   \nOSBuildRevisionOnly                                     -0.017845   \nOSInstallLanguageID                                      0.008876   \nOSUILocaleID                                             0.008321   \nIsPortableOS                                            -0.009253   \nIsFlightsDisabled                                             NaN   \nFirmwareManufacturerID                                   0.054146   \nFirmwareVersionID                                        0.047153   \nIsSecureBootEnabled                                      0.210229   \nIsVirtualDevice                                         -0.034432   \nIsTouchEnabled                                          -0.011098   \nIsPenCapable                                            -0.029803   \nIsAlwaysOnAlwaysConnectedCapable                        -0.075024   \nIsGamer                                                  0.008605   \nRegionIdentifier                                         0.028786   \n\n                                    NumAntivirusProductsEnabled    HasTpm  \\\nRealTimeProtectionState                               -0.001297 -0.001026   \nIsPassiveModeEnabled                                   0.023414  0.004929   \nAntivirusConfigID                                     -0.115021  0.058585   \nNumAntivirusProductsInstalled                          0.273791  0.010125   \nNumAntivirusProductsEnabled                            1.000000 -0.020748   \nHasTpm                                                -0.020748  1.000000   \nCountryID                                             -0.014790  0.007648   \nCityID                                                 0.006428 -0.005894   \nGeoRegionID                                           -0.022385  0.005161   \nLocaleEnglishNameID                                   -0.015623  0.000168   \nOSBuildNumber                                         -0.071959  0.175742   \nOSProductSuite                                         0.027025  0.013049   \nIsSystemProtected                                      0.079400 -0.002626   \nSMode                                                 -0.002614  0.001248   \nIEVersionID                                            0.084538 -0.243043   \nFirewallEnabled                                       -0.006514 -0.000567   \nEnableLUA                                             -0.001391  0.022440   \nOEMNameID                                             -0.007086 -0.012714   \nOEMModelID                                            -0.021941 -0.004791   \nProcessorCoreCount                                    -0.004040  0.014301   \nProcessorManufacturerID                               -0.004610  0.000444   \nProcessorModelID                                      -0.003524 -0.005212   \nPrimaryDiskCapacityMB                                  0.022761  0.003908   \nSystemVolumeCapacityMB                                 0.014561  0.003571   \nHasOpticalDiskDrive                                   -0.002706  0.003364   \nTotalPhysicalRAMMB                                    -0.005373  0.013462   \nPrimaryDisplayDiagonalInches                          -0.005944  0.003541   \nPrimaryDisplayResolutionHorizontal                    -0.003738  0.017592   \nPrimaryDisplayResolutionVertical                      -0.008618  0.013181   \nInternalBatteryNumberOfCharges                        -0.008380  0.017782   \nOSBuildNumberOnly                                     -0.050381  0.089368   \nOSBuildRevisionOnly                                    0.021386  0.007633   \nOSInstallLanguageID                                    0.031013 -0.002542   \nOSUILocaleID                                           0.029977 -0.002463   \nIsPortableOS                                          -0.002684 -0.107099   \nIsFlightsDisabled                                           NaN       NaN   \nFirmwareManufacturerID                                 0.015425 -0.004294   \nFirmwareVersionID                                      0.003150 -0.001456   \nIsSecureBootEnabled                                    0.037005  0.035167   \nIsVirtualDevice                                       -0.009127  0.000676   \nIsTouchEnabled                                         0.000088  0.011799   \nIsPenCapable                                          -0.005243  0.009900   \nIsAlwaysOnAlwaysConnectedCapable                      -0.018276  0.013191   \nIsGamer                                               -0.009543  0.027917   \nRegionIdentifier                                       0.000935 -0.003893   \n\n                                    CountryID    CityID  GeoRegionID  \\\nRealTimeProtectionState              0.010739 -0.001666     0.013599   \nIsPassiveModeEnabled                -0.010327 -0.001964    -0.013213   \nAntivirusConfigID                    0.008454 -0.000664     0.017470   \nNumAntivirusProductsInstalled       -0.017950  0.003501    -0.042778   \nNumAntivirusProductsEnabled         -0.014790  0.006428    -0.022385   \nHasTpm                               0.007648 -0.005894     0.005161   \nCountryID                            1.000000 -0.000622     0.597061   \nCityID                              -0.000622  1.000000    -0.060736   \nGeoRegionID                          0.597061 -0.060736     1.000000   \nLocaleEnglishNameID                  0.040761  0.026191    -0.036492   \nOSBuildNumber                        0.011187  0.016514    -0.015284   \nOSProductSuite                      -0.003745  0.006747    -0.057874   \nIsSystemProtected                   -0.012853  0.012031    -0.018822   \nSMode                               -0.009394  0.002331    -0.003444   \nIEVersionID                          0.006767  0.014275    -0.010494   \nFirewallEnabled                     -0.015815 -0.001642    -0.019779   \nEnableLUA                           -0.002800 -0.002183    -0.002483   \nOEMNameID                           -0.054196 -0.006606    -0.044572   \nOEMModelID                           0.028378  0.004348     0.036261   \nProcessorCoreCount                   0.009859 -0.004266     0.017843   \nProcessorManufacturerID              0.010982 -0.009066     0.016916   \nProcessorModelID                     0.017170 -0.005921     0.024037   \nPrimaryDiskCapacityMB               -0.009850 -0.025376     0.011150   \nSystemVolumeCapacityMB              -0.035972 -0.004830    -0.048858   \nHasOpticalDiskDrive                  0.000895  0.003348     0.008177   \nTotalPhysicalRAMMB                  -0.011260  0.013645     0.005749   \nPrimaryDisplayDiagonalInches        -0.006899  0.012051    -0.002581   \nPrimaryDisplayResolutionHorizontal  -0.007944  0.020415    -0.014458   \nPrimaryDisplayResolutionVertical    -0.008800  0.020922    -0.013447   \nInternalBatteryNumberOfCharges       0.001068  0.011824    -0.001661   \nOSBuildNumberOnly                    0.010832  0.018127    -0.018371   \nOSBuildRevisionOnly                 -0.004098 -0.020385     0.039723   \nOSInstallLanguageID                  0.103361  0.084609    -0.113834   \nOSUILocaleID                         0.098900  0.084676    -0.113351   \nIsPortableOS                        -0.000919 -0.003104     0.004797   \nIsFlightsDisabled                         NaN       NaN          NaN   \nFirmwareManufacturerID              -0.018752 -0.025583    -0.003132   \nFirmwareVersionID                    0.021843  0.019837     0.004441   \nIsSecureBootEnabled                 -0.013022  0.009979    -0.067412   \nIsVirtualDevice                     -0.005375 -0.001430     0.010702   \nIsTouchEnabled                       0.004135 -0.015480     0.023614   \nIsPenCapable                        -0.008432 -0.000906    -0.002761   \nIsAlwaysOnAlwaysConnectedCapable    -0.008676 -0.003973    -0.009475   \nIsGamer                              0.017259  0.004691    -0.002643   \nRegionIdentifier                    -0.117200 -0.052504    -0.022092   \n\n                                    LocaleEnglishNameID  ...  \\\nRealTimeProtectionState                        0.002850  ...   \nIsPassiveModeEnabled                          -0.006799  ...   \nAntivirusConfigID                             -0.077068  ...   \nNumAntivirusProductsInstalled                  0.041460  ...   \nNumAntivirusProductsEnabled                   -0.015623  ...   \nHasTpm                                         0.000168  ...   \nCountryID                                      0.040761  ...   \nCityID                                         0.026191  ...   \nGeoRegionID                                   -0.036492  ...   \nLocaleEnglishNameID                            1.000000  ...   \nOSBuildNumber                                 -0.008437  ...   \nOSProductSuite                                 0.061654  ...   \nIsSystemProtected                              0.009009  ...   \nSMode                                         -0.004773  ...   \nIEVersionID                                    0.008905  ...   \nFirewallEnabled                                0.011271  ...   \nEnableLUA                                      0.001715  ...   \nOEMNameID                                      0.028088  ...   \nOEMModelID                                    -0.038811  ...   \nProcessorCoreCount                            -0.113123  ...   \nProcessorManufacturerID                       -0.062055  ...   \nProcessorModelID                              -0.090889  ...   \nPrimaryDiskCapacityMB                          0.039175  ...   \nSystemVolumeCapacityMB                         0.123721  ...   \nHasOpticalDiskDrive                            0.010195  ...   \nTotalPhysicalRAMMB                            -0.071994  ...   \nPrimaryDisplayDiagonalInches                  -0.020669  ...   \nPrimaryDisplayResolutionHorizontal            -0.124539  ...   \nPrimaryDisplayResolutionVertical              -0.129864  ...   \nInternalBatteryNumberOfCharges                 0.002175  ...   \nOSBuildNumberOnly                             -0.004800  ...   \nOSBuildRevisionOnly                           -0.010214  ...   \nOSInstallLanguageID                            0.131069  ...   \nOSUILocaleID                                   0.132710  ...   \nIsPortableOS                                  -0.002586  ...   \nIsFlightsDisabled                                   NaN  ...   \nFirmwareManufacturerID                         0.014064  ...   \nFirmwareVersionID                              0.019998  ...   \nIsSecureBootEnabled                            0.023168  ...   \nIsVirtualDevice                               -0.019460  ...   \nIsTouchEnabled                                -0.056046  ...   \nIsPenCapable                                  -0.061525  ...   \nIsAlwaysOnAlwaysConnectedCapable              -0.032038  ...   \nIsGamer                                       -0.003186  ...   \nRegionIdentifier                               0.168612  ...   \n\n                                    IsFlightsDisabled  FirmwareManufacturerID  \\\nRealTimeProtectionState                           NaN                0.010088   \nIsPassiveModeEnabled                              NaN               -0.009327   \nAntivirusConfigID                                 NaN               -0.009608   \nNumAntivirusProductsInstalled                     NaN                0.054146   \nNumAntivirusProductsEnabled                       NaN                0.015425   \nHasTpm                                            NaN               -0.004294   \nCountryID                                         NaN               -0.018752   \nCityID                                            NaN               -0.025583   \nGeoRegionID                                       NaN               -0.003132   \nLocaleEnglishNameID                               NaN                0.014064   \nOSBuildNumber                                     NaN               -0.068801   \nOSProductSuite                                    NaN                0.070838   \nIsSystemProtected                                 NaN               -0.039169   \nSMode                                             NaN                0.010573   \nIEVersionID                                       NaN               -0.032719   \nFirewallEnabled                                   NaN                0.021955   \nEnableLUA                                         NaN                0.000368   \nOEMNameID                                         NaN                0.158784   \nOEMModelID                                        NaN               -0.361648   \nProcessorCoreCount                                NaN               -0.167530   \nProcessorManufacturerID                           NaN                0.044849   \nProcessorModelID                                  NaN               -0.019281   \nPrimaryDiskCapacityMB                             NaN               -0.006072   \nSystemVolumeCapacityMB                            NaN                0.054056   \nHasOpticalDiskDrive                               NaN               -0.016560   \nTotalPhysicalRAMMB                                NaN               -0.161389   \nPrimaryDisplayDiagonalInches                      NaN               -0.240752   \nPrimaryDisplayResolutionHorizontal                NaN               -0.135567   \nPrimaryDisplayResolutionVertical                  NaN               -0.146205   \nInternalBatteryNumberOfCharges                    NaN               -0.389210   \nOSBuildNumberOnly                                 NaN               -0.069412   \nOSBuildRevisionOnly                               NaN                0.034193   \nOSInstallLanguageID                               NaN               -0.089154   \nOSUILocaleID                                      NaN               -0.091954   \nIsPortableOS                                      NaN               -0.007306   \nIsFlightsDisabled                                 NaN                     NaN   \nFirmwareManufacturerID                            NaN                1.000000   \nFirmwareVersionID                                 NaN               -0.054511   \nIsSecureBootEnabled                               NaN                0.160231   \nIsVirtualDevice                                   NaN                0.090245   \nIsTouchEnabled                                    NaN                0.055649   \nIsPenCapable                                      NaN                0.048228   \nIsAlwaysOnAlwaysConnectedCapable                  NaN               -0.001293   \nIsGamer                                           NaN               -0.102088   \nRegionIdentifier                                  NaN                0.056164   \n\n                                    FirmwareVersionID  IsSecureBootEnabled  \\\nRealTimeProtectionState                      0.008403            -0.015118   \nIsPassiveModeEnabled                        -0.008966             0.017269   \nAntivirusConfigID                           -0.020774            -0.044234   \nNumAntivirusProductsInstalled                0.047153             0.210229   \nNumAntivirusProductsEnabled                  0.003150             0.037005   \nHasTpm                                      -0.001456             0.035167   \nCountryID                                    0.021843            -0.013022   \nCityID                                       0.019837             0.009979   \nGeoRegionID                                  0.004441            -0.067412   \nLocaleEnglishNameID                          0.019998             0.023168   \nOSBuildNumber                               -0.026651            -0.032544   \nOSProductSuite                               0.134492             0.454726   \nIsSystemProtected                           -0.013754            -0.030881   \nSMode                                       -0.002103             0.017218   \nIEVersionID                                 -0.017607             0.002047   \nFirewallEnabled                              0.011081             0.030766   \nEnableLUA                                   -0.001259             0.001201   \nOEMNameID                                   -0.357621            -0.199320   \nOEMModelID                                   0.059156            -0.127371   \nProcessorCoreCount                          -0.062858            -0.016974   \nProcessorManufacturerID                      0.009188             0.023225   \nProcessorModelID                            -0.028417            -0.059817   \nPrimaryDiskCapacityMB                        0.024555             0.138424   \nSystemVolumeCapacityMB                       0.004069             0.244136   \nHasOpticalDiskDrive                         -0.009573            -0.069187   \nTotalPhysicalRAMMB                          -0.074754            -0.023062   \nPrimaryDisplayDiagonalInches                -0.087074            -0.179288   \nPrimaryDisplayResolutionHorizontal          -0.093724             0.050698   \nPrimaryDisplayResolutionVertical            -0.130770             0.011386   \nInternalBatteryNumberOfCharges              -0.177578            -0.324377   \nOSBuildNumberOnly                           -0.028806            -0.028841   \nOSBuildRevisionOnly                          0.003858            -0.056929   \nOSInstallLanguageID                          0.021067            -0.025205   \nOSUILocaleID                                 0.021680            -0.025406   \nIsPortableOS                                -0.001031            -0.017350   \nIsFlightsDisabled                                 NaN                  NaN   \nFirmwareManufacturerID                      -0.054511             0.160231   \nFirmwareVersionID                            1.000000             0.117524   \nIsSecureBootEnabled                          0.117524             1.000000   \nIsVirtualDevice                             -0.041571            -0.051854   \nIsTouchEnabled                              -0.053566             0.165145   \nIsPenCapable                                -0.085966             0.127059   \nIsAlwaysOnAlwaysConnectedCapable            -0.058102             0.070263   \nIsGamer                                     -0.018374            -0.040091   \nRegionIdentifier                            -0.033887             0.036296   \n\n                                    IsVirtualDevice  IsTouchEnabled  \\\nRealTimeProtectionState                    0.007044        0.009184   \nIsPassiveModeEnabled                      -0.007088       -0.005307   \nAntivirusConfigID                          0.022732        0.034499   \nNumAntivirusProductsInstalled             -0.034432       -0.011098   \nNumAntivirusProductsEnabled               -0.009127        0.000088   \nHasTpm                                     0.000676        0.011799   \nCountryID                                 -0.005375        0.004135   \nCityID                                    -0.001430       -0.015480   \nGeoRegionID                                0.010702        0.023614   \nLocaleEnglishNameID                       -0.019460       -0.056046   \nOSBuildNumber                             -0.000602       -0.039463   \nOSProductSuite                            -0.051533        0.086735   \nIsSystemProtected                          0.001974       -0.000767   \nSMode                                     -0.001388        0.018149   \nIEVersionID                                0.000026       -0.022107   \nFirewallEnabled                           -0.027050        0.016045   \nEnableLUA                                 -0.002233        0.000904   \nOEMNameID                                  0.099646        0.018797   \nOEMModelID                                 0.060891        0.018740   \nProcessorCoreCount                        -0.046092        0.007857   \nProcessorManufacturerID                    0.016931        0.080790   \nProcessorModelID                           0.038070        0.009583   \nPrimaryDiskCapacityMB                     -0.064327       -0.124243   \nSystemVolumeCapacityMB                    -0.047481       -0.063800   \nHasOpticalDiskDrive                       -0.013755       -0.060410   \nTotalPhysicalRAMMB                        -0.025271       -0.033380   \nPrimaryDisplayDiagonalInches               0.005987       -0.184605   \nPrimaryDisplayResolutionHorizontal         0.032456        0.147136   \nPrimaryDisplayResolutionVertical           0.051581        0.217405   \nInternalBatteryNumberOfCharges             0.053699       -0.158512   \nOSBuildNumberOnly                         -0.000997       -0.042870   \nOSBuildRevisionOnly                        0.006116       -0.002661   \nOSInstallLanguageID                       -0.001531       -0.063797   \nOSUILocaleID                              -0.001166       -0.065494   \nIsPortableOS                              -0.001416       -0.004825   \nIsFlightsDisabled                               NaN             NaN   \nFirmwareManufacturerID                     0.090245        0.055649   \nFirmwareVersionID                         -0.041571       -0.053566   \nIsSecureBootEnabled                       -0.051854        0.165145   \nIsVirtualDevice                            1.000000       -0.017553   \nIsTouchEnabled                            -0.017553        1.000000   \nIsPenCapable                               0.079014        0.467658   \nIsAlwaysOnAlwaysConnectedCapable          -0.015352        0.457752   \nIsGamer                                   -0.032708       -0.061615   \nRegionIdentifier                           0.005615        0.028670   \n\n                                    IsPenCapable  \\\nRealTimeProtectionState                 0.003634   \nIsPassiveModeEnabled                   -0.000579   \nAntivirusConfigID                       0.033614   \nNumAntivirusProductsInstalled          -0.029803   \nNumAntivirusProductsEnabled            -0.005243   \nHasTpm                                  0.009900   \nCountryID                              -0.008432   \nCityID                                 -0.000906   \nGeoRegionID                            -0.002761   \nLocaleEnglishNameID                    -0.061525   \nOSBuildNumber                           0.026144   \nOSProductSuite                         -0.060887   \nIsSystemProtected                       0.014272   \nSMode                                   0.029398   \nIEVersionID                             0.007300   \nFirewallEnabled                         0.007580   \nEnableLUA                               0.000555   \nOEMNameID                               0.067158   \nOEMModelID                              0.089877   \nProcessorCoreCount                      0.030234   \nProcessorManufacturerID                 0.063508   \nProcessorModelID                        0.054182   \nPrimaryDiskCapacityMB                  -0.122920   \nSystemVolumeCapacityMB                 -0.077068   \nHasOpticalDiskDrive                    -0.042131   \nTotalPhysicalRAMMB                      0.020653   \nPrimaryDisplayDiagonalInches           -0.108172   \nPrimaryDisplayResolutionHorizontal      0.257702   \nPrimaryDisplayResolutionVertical        0.349003   \nInternalBatteryNumberOfCharges         -0.093283   \nOSBuildNumberOnly                       0.023883   \nOSBuildRevisionOnly                    -0.024011   \nOSInstallLanguageID                    -0.008216   \nOSUILocaleID                           -0.010378   \nIsPortableOS                           -0.002468   \nIsFlightsDisabled                            NaN   \nFirmwareManufacturerID                  0.048228   \nFirmwareVersionID                      -0.085966   \nIsSecureBootEnabled                     0.127059   \nIsVirtualDevice                         0.079014   \nIsTouchEnabled                          0.467658   \nIsPenCapable                            1.000000   \nIsAlwaysOnAlwaysConnectedCapable        0.390601   \nIsGamer                                -0.024859   \nRegionIdentifier                        0.006203   \n\n                                    IsAlwaysOnAlwaysConnectedCapable  \\\nRealTimeProtectionState                                     0.019855   \nIsPassiveModeEnabled                                       -0.016452   \nAntivirusConfigID                                           0.060247   \nNumAntivirusProductsInstalled                              -0.075024   \nNumAntivirusProductsEnabled                                -0.018276   \nHasTpm                                                      0.013191   \nCountryID                                                  -0.008676   \nCityID                                                     -0.003973   \nGeoRegionID                                                -0.009475   \nLocaleEnglishNameID                                        -0.032038   \nOSBuildNumber                                              -0.082395   \nOSProductSuite                                              0.050218   \nIsSystemProtected                                           0.006140   \nSMode                                                       0.017331   \nIEVersionID                                                -0.070712   \nFirewallEnabled                                             0.020272   \nEnableLUA                                                   0.008450   \nOEMNameID                                                   0.063031   \nOEMModelID                                                  0.106835   \nProcessorCoreCount                                          0.015662   \nProcessorManufacturerID                                     0.091559   \nProcessorModelID                                           -0.067509   \nPrimaryDiskCapacityMB                                      -0.299313   \nSystemVolumeCapacityMB                                     -0.227720   \nHasOpticalDiskDrive                                        -0.058725   \nTotalPhysicalRAMMB                                         -0.122887   \nPrimaryDisplayDiagonalInches                               -0.195563   \nPrimaryDisplayResolutionHorizontal                          0.095541   \nPrimaryDisplayResolutionVertical                            0.224732   \nInternalBatteryNumberOfCharges                             -0.133071   \nOSBuildNumberOnly                                          -0.094489   \nOSBuildRevisionOnly                                         0.022646   \nOSInstallLanguageID                                         0.019702   \nOSUILocaleID                                                0.019121   \nIsPortableOS                                               -0.005684   \nIsFlightsDisabled                                                NaN   \nFirmwareManufacturerID                                     -0.001293   \nFirmwareVersionID                                          -0.058102   \nIsSecureBootEnabled                                         0.070263   \nIsVirtualDevice                                            -0.015352   \nIsTouchEnabled                                              0.457752   \nIsPenCapable                                                0.390601   \nIsAlwaysOnAlwaysConnectedCapable                            1.000000   \nIsGamer                                                    -0.042032   \nRegionIdentifier                                           -0.006977   \n\n                                     IsGamer  RegionIdentifier  \nRealTimeProtectionState            -0.022948         -0.009456  \nIsPassiveModeEnabled                0.025804          0.007948  \nAntivirusConfigID                  -0.026357         -0.008284  \nNumAntivirusProductsInstalled       0.008605          0.028786  \nNumAntivirusProductsEnabled        -0.009543          0.000935  \nHasTpm                              0.027917         -0.003893  \nCountryID                           0.017259         -0.117200  \nCityID                              0.004691         -0.052504  \nGeoRegionID                        -0.002643         -0.022092  \nLocaleEnglishNameID                -0.003186          0.168612  \nOSBuildNumber                       0.115131         -0.023953  \nOSProductSuite                     -0.022168          0.039411  \nIsSystemProtected                   0.034739          0.005728  \nSMode                              -0.007727          0.006319  \nIEVersionID                         0.008826         -0.004660  \nFirewallEnabled                     0.004078          0.031704  \nEnableLUA                          -0.000413          0.009086  \nOEMNameID                           0.027030          0.031677  \nOEMModelID                          0.036912         -0.004011  \nProcessorCoreCount                  0.148666         -0.037019  \nProcessorManufacturerID            -0.031658         -0.033383  \nProcessorModelID                    0.014022         -0.040443  \nPrimaryDiskCapacityMB               0.035898          0.009433  \nSystemVolumeCapacityMB              0.017524          0.132221  \nHasOpticalDiskDrive                 0.035165         -0.002941  \nTotalPhysicalRAMMB                  0.161544          0.025276  \nPrimaryDisplayDiagonalInches        0.115211          0.006526  \nPrimaryDisplayResolutionHorizontal  0.108435         -0.047711  \nPrimaryDisplayResolutionVertical    0.091735         -0.046550  \nInternalBatteryNumberOfCharges      0.112986         -0.026356  \nOSBuildNumberOnly                   0.104473         -0.022508  \nOSBuildRevisionOnly                -0.020708          0.002360  \nOSInstallLanguageID                 0.052461         -0.030537  \nOSUILocaleID                        0.053634         -0.035426  \nIsPortableOS                        0.008256         -0.002945  \nIsFlightsDisabled                        NaN               NaN  \nFirmwareManufacturerID             -0.102088          0.056164  \nFirmwareVersionID                  -0.018374         -0.033887  \nIsSecureBootEnabled                -0.040091          0.036296  \nIsVirtualDevice                    -0.032708          0.005615  \nIsTouchEnabled                     -0.061615          0.028670  \nIsPenCapable                       -0.024859          0.006203  \nIsAlwaysOnAlwaysConnectedCapable   -0.042032         -0.006977  \nIsGamer                             1.000000         -0.047084  \nRegionIdentifier                   -0.047084          1.000000  \n\n[45 rows x 45 columns]",
            "text/html": "<div>\n<style scoped>\n    .dataframe tbody tr th:only-of-type {\n        vertical-align: middle;\n    }\n\n    .dataframe tbody tr th {\n        vertical-align: top;\n    }\n\n    .dataframe thead th {\n        text-align: right;\n    }\n</style>\n<table border=\"1\" class=\"dataframe\">\n  <thead>\n    <tr style=\"text-align: right;\">\n      <th></th>\n      <th>RealTimeProtectionState</th>\n      <th>IsPassiveModeEnabled</th>\n      <th>AntivirusConfigID</th>\n      <th>NumAntivirusProductsInstalled</th>\n      <th>NumAntivirusProductsEnabled</th>\n      <th>HasTpm</th>\n      <th>CountryID</th>\n      <th>CityID</th>\n      <th>GeoRegionID</th>\n      <th>LocaleEnglishNameID</th>\n      <th>...</th>\n      <th>IsFlightsDisabled</th>\n      <th>FirmwareManufacturerID</th>\n      <th>FirmwareVersionID</th>\n      <th>IsSecureBootEnabled</th>\n      <th>IsVirtualDevice</th>\n      <th>IsTouchEnabled</th>\n      <th>IsPenCapable</th>\n      <th>IsAlwaysOnAlwaysConnectedCapable</th>\n      <th>IsGamer</th>\n      <th>RegionIdentifier</th>\n    </tr>\n  </thead>\n  <tbody>\n    <tr>\n      <th>RealTimeProtectionState</th>\n      <td>1.000000</td>\n      <td>-0.901170</td>\n      <td>0.107795</td>\n      <td>-0.184242</td>\n      <td>-0.001297</td>\n      <td>-0.001026</td>\n      <td>0.010739</td>\n      <td>-0.001666</td>\n      <td>0.013599</td>\n      <td>0.002850</td>\n      <td>...</td>\n      <td>NaN</td>\n      <td>0.010088</td>\n      <td>0.008403</td>\n      <td>-0.015118</td>\n      <td>0.007044</td>\n      <td>0.009184</td>\n      <td>0.003634</td>\n      <td>0.019855</td>\n      <td>-0.022948</td>\n      <td>-0.009456</td>\n    </tr>\n    <tr>\n      <th>IsPassiveModeEnabled</th>\n      <td>-0.901170</td>\n      <td>1.000000</td>\n      <td>-0.111384</td>\n      <td>0.195343</td>\n      <td>0.023414</td>\n      <td>0.004929</td>\n      <td>-0.010327</td>\n      <td>-0.001964</td>\n      <td>-0.013213</td>\n      <td>-0.006799</td>\n      <td>...</td>\n      <td>NaN</td>\n      <td>-0.009327</td>\n      <td>-0.008966</td>\n      <td>0.017269</td>\n      <td>-0.007088</td>\n      <td>-0.005307</td>\n      <td>-0.000579</td>\n      <td>-0.016452</td>\n      <td>0.025804</td>\n      <td>0.007948</td>\n    </tr>\n    <tr>\n      <th>AntivirusConfigID</th>\n      <td>0.107795</td>\n      <td>-0.111384</td>\n      <td>1.000000</td>\n      <td>-0.647222</td>\n      <td>-0.115021</td>\n      <td>0.058585</td>\n      <td>0.008454</td>\n      <td>-0.000664</td>\n      <td>0.017470</td>\n      <td>-0.077068</td>\n      <td>...</td>\n      <td>NaN</td>\n      <td>-0.009608</td>\n      <td>-0.020774</td>\n      <td>-0.044234</td>\n      <td>0.022732</td>\n      <td>0.034499</td>\n      <td>0.033614</td>\n      <td>0.060247</td>\n      <td>-0.026357</td>\n      <td>-0.008284</td>\n    </tr>\n    <tr>\n      <th>NumAntivirusProductsInstalled</th>\n      <td>-0.184242</td>\n      <td>0.195343</td>\n      <td>-0.647222</td>\n      <td>1.000000</td>\n      <td>0.273791</td>\n      <td>0.010125</td>\n      <td>-0.017950</td>\n      <td>0.003501</td>\n      <td>-0.042778</td>\n      <td>0.041460</td>\n      <td>...</td>\n      <td>NaN</td>\n      <td>0.054146</td>\n      <td>0.047153</td>\n      <td>0.210229</td>\n      <td>-0.034432</td>\n      <td>-0.011098</td>\n      <td>-0.029803</td>\n      <td>-0.075024</td>\n      <td>0.008605</td>\n      <td>0.028786</td>\n    </tr>\n    <tr>\n      <th>NumAntivirusProductsEnabled</th>\n      <td>-0.001297</td>\n      <td>0.023414</td>\n      <td>-0.115021</td>\n      <td>0.273791</td>\n      <td>1.000000</td>\n      <td>-0.020748</td>\n      <td>-0.014790</td>\n      <td>0.006428</td>\n      <td>-0.022385</td>\n      <td>-0.015623</td>\n      <td>...</td>\n      <td>NaN</td>\n      <td>0.015425</td>\n      <td>0.003150</td>\n      <td>0.037005</td>\n      <td>-0.009127</td>\n      <td>0.000088</td>\n      <td>-0.005243</td>\n      <td>-0.018276</td>\n      <td>-0.009543</td>\n      <td>0.000935</td>\n    </tr>\n    <tr>\n      <th>HasTpm</th>\n      <td>-0.001026</td>\n      <td>0.004929</td>\n      <td>0.058585</td>\n      <td>0.010125</td>\n      <td>-0.020748</td>\n      <td>1.000000</td>\n      <td>0.007648</td>\n      <td>-0.005894</td>\n      <td>0.005161</td>\n      <td>0.000168</td>\n      <td>...</td>\n      <td>NaN</td>\n      <td>-0.004294</td>\n      <td>-0.001456</td>\n      <td>0.035167</td>\n      <td>0.000676</td>\n      <td>0.011799</td>\n      <td>0.009900</td>\n      <td>0.013191</td>\n      <td>0.027917</td>\n      <td>-0.003893</td>\n    </tr>\n    <tr>\n      <th>CountryID</th>\n      <td>0.010739</td>\n      <td>-0.010327</td>\n      <td>0.008454</td>\n      <td>-0.017950</td>\n      <td>-0.014790</td>\n      <td>0.007648</td>\n      <td>1.000000</td>\n      <td>-0.000622</td>\n      <td>0.597061</td>\n      <td>0.040761</td>\n      <td>...</td>\n      <td>NaN</td>\n      <td>-0.018752</td>\n      <td>0.021843</td>\n      <td>-0.013022</td>\n      <td>-0.005375</td>\n      <td>0.004135</td>\n      <td>-0.008432</td>\n      <td>-0.008676</td>\n      <td>0.017259</td>\n      <td>-0.117200</td>\n    </tr>\n    <tr>\n      <th>CityID</th>\n      <td>-0.001666</td>\n      <td>-0.001964</td>\n      <td>-0.000664</td>\n      <td>0.003501</td>\n      <td>0.006428</td>\n      <td>-0.005894</td>\n      <td>-0.000622</td>\n      <td>1.000000</td>\n      <td>-0.060736</td>\n      <td>0.026191</td>\n      <td>...</td>\n      <td>NaN</td>\n      <td>-0.025583</td>\n      <td>0.019837</td>\n      <td>0.009979</td>\n      <td>-0.001430</td>\n      <td>-0.015480</td>\n      <td>-0.000906</td>\n      <td>-0.003973</td>\n      <td>0.004691</td>\n      <td>-0.052504</td>\n    </tr>\n    <tr>\n      <th>GeoRegionID</th>\n      <td>0.013599</td>\n      <td>-0.013213</td>\n      <td>0.017470</td>\n      <td>-0.042778</td>\n      <td>-0.022385</td>\n      <td>0.005161</td>\n      <td>0.597061</td>\n      <td>-0.060736</td>\n      <td>1.000000</td>\n      <td>-0.036492</td>\n      <td>...</td>\n      <td>NaN</td>\n      <td>-0.003132</td>\n      <td>0.004441</td>\n      <td>-0.067412</td>\n      <td>0.010702</td>\n      <td>0.023614</td>\n      <td>-0.002761</td>\n      <td>-0.009475</td>\n      <td>-0.002643</td>\n      <td>-0.022092</td>\n    </tr>\n    <tr>\n      <th>LocaleEnglishNameID</th>\n      <td>0.002850</td>\n      <td>-0.006799</td>\n      <td>-0.077068</td>\n      <td>0.041460</td>\n      <td>-0.015623</td>\n      <td>0.000168</td>\n      <td>0.040761</td>\n      <td>0.026191</td>\n      <td>-0.036492</td>\n      <td>1.000000</td>\n      <td>...</td>\n      <td>NaN</td>\n      <td>0.014064</td>\n      <td>0.019998</td>\n      <td>0.023168</td>\n      <td>-0.019460</td>\n      <td>-0.056046</td>\n      <td>-0.061525</td>\n      <td>-0.032038</td>\n      <td>-0.003186</td>\n      <td>0.168612</td>\n    </tr>\n    <tr>\n      <th>OSBuildNumber</th>\n      <td>-0.032373</td>\n      <td>0.043757</td>\n      <td>-0.039569</td>\n      <td>-0.005867</td>\n      <td>-0.071959</td>\n      <td>0.175742</td>\n      <td>0.011187</td>\n      <td>0.016514</td>\n      <td>-0.015284</td>\n      <td>-0.008437</td>\n      <td>...</td>\n      <td>NaN</td>\n      <td>-0.068801</td>\n      <td>-0.026651</td>\n      <td>-0.032544</td>\n      <td>-0.000602</td>\n      <td>-0.039463</td>\n      <td>0.026144</td>\n      <td>-0.082395</td>\n      <td>0.115131</td>\n      <td>-0.023953</td>\n    </tr>\n    <tr>\n      <th>OSProductSuite</th>\n      <td>-0.010312</td>\n      <td>0.011408</td>\n      <td>-0.055582</td>\n      <td>0.173484</td>\n      <td>0.027025</td>\n      <td>0.013049</td>\n      <td>-0.003745</td>\n      <td>0.006747</td>\n      <td>-0.057874</td>\n      <td>0.061654</td>\n      <td>...</td>\n      <td>NaN</td>\n      <td>0.070838</td>\n      <td>0.134492</td>\n      <td>0.454726</td>\n      <td>-0.051533</td>\n      <td>0.086735</td>\n      <td>-0.060887</td>\n      <td>0.050218</td>\n      <td>-0.022168</td>\n      <td>0.039411</td>\n    </tr>\n    <tr>\n      <th>IsSystemProtected</th>\n      <td>0.056215</td>\n      <td>-0.040591</td>\n      <td>-0.141641</td>\n      <td>-0.016596</td>\n      <td>0.079400</td>\n      <td>-0.002626</td>\n      <td>-0.012853</td>\n      <td>0.012031</td>\n      <td>-0.018822</td>\n      <td>0.009009</td>\n      <td>...</td>\n      <td>NaN</td>\n      <td>-0.039169</td>\n      <td>-0.013754</td>\n      <td>-0.030881</td>\n      <td>0.001974</td>\n      <td>-0.000767</td>\n      <td>0.014272</td>\n      <td>0.006140</td>\n      <td>0.034739</td>\n      <td>0.005728</td>\n    </tr>\n    <tr>\n      <th>SMode</th>\n      <td>0.003334</td>\n      <td>-0.002992</td>\n      <td>0.008811</td>\n      <td>-0.013951</td>\n      <td>-0.002614</td>\n      <td>0.001248</td>\n      <td>-0.009394</td>\n      <td>0.002331</td>\n      <td>-0.003444</td>\n      <td>-0.004773</td>\n      <td>...</td>\n      <td>NaN</td>\n      <td>0.010573</td>\n      <td>-0.002103</td>\n      <td>0.017218</td>\n      <td>-0.001388</td>\n      <td>0.018149</td>\n      <td>0.029398</td>\n      <td>0.017331</td>\n      <td>-0.007727</td>\n      <td>0.006319</td>\n    </tr>\n    <tr>\n      <th>IEVersionID</th>\n      <td>-0.028790</td>\n      <td>0.009074</td>\n      <td>-0.025505</td>\n      <td>-0.024561</td>\n      <td>0.084538</td>\n      <td>-0.243043</td>\n      <td>0.006767</td>\n      <td>0.014275</td>\n      <td>-0.010494</td>\n      <td>0.008905</td>\n      <td>...</td>\n      <td>NaN</td>\n      <td>-0.032719</td>\n      <td>-0.017607</td>\n      <td>0.002047</td>\n      <td>0.000026</td>\n      <td>-0.022107</td>\n      <td>0.007300</td>\n      <td>-0.070712</td>\n      <td>0.008826</td>\n      <td>-0.004660</td>\n    </tr>\n    <tr>\n      <th>FirewallEnabled</th>\n      <td>0.010588</td>\n      <td>-0.007553</td>\n      <td>0.009267</td>\n      <td>-0.006819</td>\n      <td>-0.006514</td>\n      <td>-0.000567</td>\n      <td>-0.015815</td>\n      <td>-0.001642</td>\n      <td>-0.019779</td>\n      <td>0.011271</td>\n      <td>...</td>\n      <td>NaN</td>\n      <td>0.021955</td>\n      <td>0.011081</td>\n      <td>0.030766</td>\n      <td>-0.027050</td>\n      <td>0.016045</td>\n      <td>0.007580</td>\n      <td>0.020272</td>\n      <td>0.004078</td>\n      <td>0.031704</td>\n    </tr>\n    <tr>\n      <th>EnableLUA</th>\n      <td>0.002261</td>\n      <td>-0.000843</td>\n      <td>-0.002551</td>\n      <td>0.001345</td>\n      <td>-0.001391</td>\n      <td>0.022440</td>\n      <td>-0.002800</td>\n      <td>-0.002183</td>\n      <td>-0.002483</td>\n      <td>0.001715</td>\n      <td>...</td>\n      <td>NaN</td>\n      <td>0.000368</td>\n      <td>-0.001259</td>\n      <td>0.001201</td>\n      <td>-0.002233</td>\n      <td>0.000904</td>\n      <td>0.000555</td>\n      <td>0.008450</td>\n      <td>-0.000413</td>\n      <td>0.009086</td>\n    </tr>\n    <tr>\n      <th>OEMNameID</th>\n      <td>0.001121</td>\n      <td>-0.001768</td>\n      <td>0.018715</td>\n      <td>-0.066378</td>\n      <td>-0.007086</td>\n      <td>-0.012714</td>\n      <td>-0.054196</td>\n      <td>-0.006606</td>\n      <td>-0.044572</td>\n      <td>0.028088</td>\n      <td>...</td>\n      <td>NaN</td>\n      <td>0.158784</td>\n      <td>-0.357621</td>\n      <td>-0.199320</td>\n      <td>0.099646</td>\n      <td>0.018797</td>\n      <td>0.067158</td>\n      <td>0.063031</td>\n      <td>0.027030</td>\n      <td>0.031677</td>\n    </tr>\n    <tr>\n      <th>OEMModelID</th>\n      <td>0.002311</td>\n      <td>-0.000115</td>\n      <td>0.019126</td>\n      <td>-0.049372</td>\n      <td>-0.021941</td>\n      <td>-0.004791</td>\n      <td>0.028378</td>\n      <td>0.004348</td>\n      <td>0.036261</td>\n      <td>-0.038811</td>\n      <td>...</td>\n      <td>NaN</td>\n      <td>-0.361648</td>\n      <td>0.059156</td>\n      <td>-0.127371</td>\n      <td>0.060891</td>\n      <td>0.018740</td>\n      <td>0.089877</td>\n      <td>0.106835</td>\n      <td>0.036912</td>\n      <td>-0.004011</td>\n    </tr>\n    <tr>\n      <th>ProcessorCoreCount</th>\n      <td>-0.020382</td>\n      <td>0.024265</td>\n      <td>0.048834</td>\n      <td>-0.053482</td>\n      <td>-0.004040</td>\n      <td>0.014301</td>\n      <td>0.009859</td>\n      <td>-0.004266</td>\n      <td>0.017843</td>\n      <td>-0.113123</td>\n      <td>...</td>\n      <td>NaN</td>\n      <td>-0.167530</td>\n      <td>-0.062858</td>\n      <td>-0.016974</td>\n      <td>-0.046092</td>\n      <td>0.007857</td>\n      <td>0.030234</td>\n      <td>0.015662</td>\n      <td>0.148666</td>\n      <td>-0.037019</td>\n    </tr>\n    <tr>\n      <th>ProcessorManufacturerID</th>\n      <td>0.002127</td>\n      <td>0.000115</td>\n      <td>0.026482</td>\n      <td>-0.019090</td>\n      <td>-0.004610</td>\n      <td>0.000444</td>\n      <td>0.010982</td>\n      <td>-0.009066</td>\n      <td>0.016916</td>\n      <td>-0.062055</td>\n      <td>...</td>\n      <td>NaN</td>\n      <td>0.044849</td>\n      <td>0.009188</td>\n      <td>0.023225</td>\n      <td>0.016931</td>\n      <td>0.080790</td>\n      <td>0.063508</td>\n      <td>0.091559</td>\n      <td>-0.031658</td>\n      <td>-0.033383</td>\n    </tr>\n    <tr>\n      <th>ProcessorModelID</th>\n      <td>-0.007457</td>\n      <td>0.009388</td>\n      <td>0.020210</td>\n      <td>-0.033667</td>\n      <td>-0.003524</td>\n      <td>-0.005212</td>\n      <td>0.017170</td>\n      <td>-0.005921</td>\n      <td>0.024037</td>\n      <td>-0.090889</td>\n      <td>...</td>\n      <td>NaN</td>\n      <td>-0.019281</td>\n      <td>-0.028417</td>\n      <td>-0.059817</td>\n      <td>0.038070</td>\n      <td>0.009583</td>\n      <td>0.054182</td>\n      <td>-0.067509</td>\n      <td>0.014022</td>\n      <td>-0.040443</td>\n    </tr>\n    <tr>\n      <th>PrimaryDiskCapacityMB</th>\n      <td>-0.030111</td>\n      <td>0.025749</td>\n      <td>-0.080123</td>\n      <td>0.112200</td>\n      <td>0.022761</td>\n      <td>0.003908</td>\n      <td>-0.009850</td>\n      <td>-0.025376</td>\n      <td>0.011150</td>\n      <td>0.039175</td>\n      <td>...</td>\n      <td>NaN</td>\n      <td>-0.006072</td>\n      <td>0.024555</td>\n      <td>0.138424</td>\n      <td>-0.064327</td>\n      <td>-0.124243</td>\n      <td>-0.122920</td>\n      <td>-0.299313</td>\n      <td>0.035898</td>\n      <td>0.009433</td>\n    </tr>\n    <tr>\n      <th>SystemVolumeCapacityMB</th>\n      <td>-0.025861</td>\n      <td>0.023164</td>\n      <td>-0.091417</td>\n      <td>0.145918</td>\n      <td>0.014561</td>\n      <td>0.003571</td>\n      <td>-0.035972</td>\n      <td>-0.004830</td>\n      <td>-0.048858</td>\n      <td>0.123721</td>\n      <td>...</td>\n      <td>NaN</td>\n      <td>0.054056</td>\n      <td>0.004069</td>\n      <td>0.244136</td>\n      <td>-0.047481</td>\n      <td>-0.063800</td>\n      <td>-0.077068</td>\n      <td>-0.227720</td>\n      <td>0.017524</td>\n      <td>0.132221</td>\n    </tr>\n    <tr>\n      <th>HasOpticalDiskDrive</th>\n      <td>-0.008412</td>\n      <td>0.004607</td>\n      <td>-0.048150</td>\n      <td>0.020118</td>\n      <td>-0.002706</td>\n      <td>0.003364</td>\n      <td>0.000895</td>\n      <td>0.003348</td>\n      <td>0.008177</td>\n      <td>0.010195</td>\n      <td>...</td>\n      <td>NaN</td>\n      <td>-0.016560</td>\n      <td>-0.009573</td>\n      <td>-0.069187</td>\n      <td>-0.013755</td>\n      <td>-0.060410</td>\n      <td>-0.042131</td>\n      <td>-0.058725</td>\n      <td>0.035165</td>\n      <td>-0.002941</td>\n    </tr>\n    <tr>\n      <th>TotalPhysicalRAMMB</th>\n      <td>-0.024224</td>\n      <td>0.026268</td>\n      <td>0.028404</td>\n      <td>-0.033283</td>\n      <td>-0.005373</td>\n      <td>0.013462</td>\n      <td>-0.011260</td>\n      <td>0.013645</td>\n      <td>0.005749</td>\n      <td>-0.071994</td>\n      <td>...</td>\n      <td>NaN</td>\n      <td>-0.161389</td>\n      <td>-0.074754</td>\n      <td>-0.023062</td>\n      <td>-0.025271</td>\n      <td>-0.033380</td>\n      <td>0.020653</td>\n      <td>-0.122887</td>\n      <td>0.161544</td>\n      <td>0.025276</td>\n    </tr>\n    <tr>\n      <th>PrimaryDisplayDiagonalInches</th>\n      <td>-0.015146</td>\n      <td>0.010965</td>\n      <td>0.000301</td>\n      <td>-0.037592</td>\n      <td>-0.005944</td>\n      <td>0.003541</td>\n      <td>-0.006899</td>\n      <td>0.012051</td>\n      <td>-0.002581</td>\n      <td>-0.020669</td>\n      <td>...</td>\n      <td>NaN</td>\n      <td>-0.240752</td>\n      <td>-0.087074</td>\n      <td>-0.179288</td>\n      <td>0.005987</td>\n      <td>-0.184605</td>\n      <td>-0.108172</td>\n      <td>-0.195563</td>\n      <td>0.115211</td>\n      <td>0.006526</td>\n    </tr>\n    <tr>\n      <th>PrimaryDisplayResolutionHorizontal</th>\n      <td>-0.021565</td>\n      <td>0.025209</td>\n      <td>0.043774</td>\n      <td>-0.042259</td>\n      <td>-0.003738</td>\n      <td>0.017592</td>\n      <td>-0.007944</td>\n      <td>0.020415</td>\n      <td>-0.014458</td>\n      <td>-0.124539</td>\n      <td>...</td>\n      <td>NaN</td>\n      <td>-0.135567</td>\n      <td>-0.093724</td>\n      <td>0.050698</td>\n      <td>0.032456</td>\n      <td>0.147136</td>\n      <td>0.257702</td>\n      <td>0.095541</td>\n      <td>0.108435</td>\n      <td>-0.047711</td>\n    </tr>\n    <tr>\n      <th>PrimaryDisplayResolutionVertical</th>\n      <td>-0.014389</td>\n      <td>0.018662</td>\n      <td>0.054768</td>\n      <td>-0.070214</td>\n      <td>-0.008618</td>\n      <td>0.013181</td>\n      <td>-0.008800</td>\n      <td>0.020922</td>\n      <td>-0.013447</td>\n      <td>-0.129864</td>\n      <td>...</td>\n      <td>NaN</td>\n      <td>-0.146205</td>\n      <td>-0.130770</td>\n      <td>0.011386</td>\n      <td>0.051581</td>\n      <td>0.217405</td>\n      <td>0.349003</td>\n      <td>0.224732</td>\n      <td>0.091735</td>\n      <td>-0.046550</td>\n    </tr>\n    <tr>\n      <th>InternalBatteryNumberOfCharges</th>\n      <td>-0.002941</td>\n      <td>-0.000890</td>\n      <td>0.013283</td>\n      <td>-0.083595</td>\n      <td>-0.008380</td>\n      <td>0.017782</td>\n      <td>0.001068</td>\n      <td>0.011824</td>\n      <td>-0.001661</td>\n      <td>0.002175</td>\n      <td>...</td>\n      <td>NaN</td>\n      <td>-0.389210</td>\n      <td>-0.177578</td>\n      <td>-0.324377</td>\n      <td>0.053699</td>\n      <td>-0.158512</td>\n      <td>-0.093283</td>\n      <td>-0.133071</td>\n      <td>0.112986</td>\n      <td>-0.026356</td>\n    </tr>\n    <tr>\n      <th>OSBuildNumberOnly</th>\n      <td>-0.038171</td>\n      <td>0.043049</td>\n      <td>-0.043065</td>\n      <td>-0.012615</td>\n      <td>-0.050381</td>\n      <td>0.089368</td>\n      <td>0.010832</td>\n      <td>0.018127</td>\n      <td>-0.018371</td>\n      <td>-0.004800</td>\n      <td>...</td>\n      <td>NaN</td>\n      <td>-0.069412</td>\n      <td>-0.028806</td>\n      <td>-0.028841</td>\n      <td>-0.000997</td>\n      <td>-0.042870</td>\n      <td>0.023883</td>\n      <td>-0.094489</td>\n      <td>0.104473</td>\n      <td>-0.022508</td>\n    </tr>\n    <tr>\n      <th>OSBuildRevisionOnly</th>\n      <td>0.024637</td>\n      <td>-0.025771</td>\n      <td>0.026097</td>\n      <td>-0.017845</td>\n      <td>0.021386</td>\n      <td>0.007633</td>\n      <td>-0.004098</td>\n      <td>-0.020385</td>\n      <td>0.039723</td>\n      <td>-0.010214</td>\n      <td>...</td>\n      <td>NaN</td>\n      <td>0.034193</td>\n      <td>0.003858</td>\n      <td>-0.056929</td>\n      <td>0.006116</td>\n      <td>-0.002661</td>\n      <td>-0.024011</td>\n      <td>0.022646</td>\n      <td>-0.020708</td>\n      <td>0.002360</td>\n    </tr>\n    <tr>\n      <th>OSInstallLanguageID</th>\n      <td>-0.011895</td>\n      <td>0.010791</td>\n      <td>0.013594</td>\n      <td>0.008876</td>\n      <td>0.031013</td>\n      <td>-0.002542</td>\n      <td>0.103361</td>\n      <td>0.084609</td>\n      <td>-0.113834</td>\n      <td>0.131069</td>\n      <td>...</td>\n      <td>NaN</td>\n      <td>-0.089154</td>\n      <td>0.021067</td>\n      <td>-0.025205</td>\n      <td>-0.001531</td>\n      <td>-0.063797</td>\n      <td>-0.008216</td>\n      <td>0.019702</td>\n      <td>0.052461</td>\n      <td>-0.030537</td>\n    </tr>\n    <tr>\n      <th>OSUILocaleID</th>\n      <td>-0.012711</td>\n      <td>0.011356</td>\n      <td>0.011822</td>\n      <td>0.008321</td>\n      <td>0.029977</td>\n      <td>-0.002463</td>\n      <td>0.098900</td>\n      <td>0.084676</td>\n      <td>-0.113351</td>\n      <td>0.132710</td>\n      <td>...</td>\n      <td>NaN</td>\n      <td>-0.091954</td>\n      <td>0.021680</td>\n      <td>-0.025406</td>\n      <td>-0.001166</td>\n      <td>-0.065494</td>\n      <td>-0.010378</td>\n      <td>0.019121</td>\n      <td>0.053634</td>\n      <td>-0.035426</td>\n    </tr>\n    <tr>\n      <th>IsPortableOS</th>\n      <td>-0.002645</td>\n      <td>0.000279</td>\n      <td>0.004179</td>\n      <td>-0.009253</td>\n      <td>-0.002684</td>\n      <td>-0.107099</td>\n      <td>-0.000919</td>\n      <td>-0.003104</td>\n      <td>0.004797</td>\n      <td>-0.002586</td>\n      <td>...</td>\n      <td>NaN</td>\n      <td>-0.007306</td>\n      <td>-0.001031</td>\n      <td>-0.017350</td>\n      <td>-0.001416</td>\n      <td>-0.004825</td>\n      <td>-0.002468</td>\n      <td>-0.005684</td>\n      <td>0.008256</td>\n      <td>-0.002945</td>\n    </tr>\n    <tr>\n      <th>IsFlightsDisabled</th>\n      <td>NaN</td>\n      <td>NaN</td>\n      <td>NaN</td>\n      <td>NaN</td>\n      <td>NaN</td>\n      <td>NaN</td>\n      <td>NaN</td>\n      <td>NaN</td>\n      <td>NaN</td>\n      <td>NaN</td>\n      <td>...</td>\n      <td>NaN</td>\n      <td>NaN</td>\n      <td>NaN</td>\n      <td>NaN</td>\n      <td>NaN</td>\n      <td>NaN</td>\n      <td>NaN</td>\n      <td>NaN</td>\n      <td>NaN</td>\n      <td>NaN</td>\n    </tr>\n    <tr>\n      <th>FirmwareManufacturerID</th>\n      <td>0.010088</td>\n      <td>-0.009327</td>\n      <td>-0.009608</td>\n      <td>0.054146</td>\n      <td>0.015425</td>\n      <td>-0.004294</td>\n      <td>-0.018752</td>\n      <td>-0.025583</td>\n      <td>-0.003132</td>\n      <td>0.014064</td>\n      <td>...</td>\n      <td>NaN</td>\n      <td>1.000000</td>\n      <td>-0.054511</td>\n      <td>0.160231</td>\n      <td>0.090245</td>\n      <td>0.055649</td>\n      <td>0.048228</td>\n      <td>-0.001293</td>\n      <td>-0.102088</td>\n      <td>0.056164</td>\n    </tr>\n    <tr>\n      <th>FirmwareVersionID</th>\n      <td>0.008403</td>\n      <td>-0.008966</td>\n      <td>-0.020774</td>\n      <td>0.047153</td>\n      <td>0.003150</td>\n      <td>-0.001456</td>\n      <td>0.021843</td>\n      <td>0.019837</td>\n      <td>0.004441</td>\n      <td>0.019998</td>\n      <td>...</td>\n      <td>NaN</td>\n      <td>-0.054511</td>\n      <td>1.000000</td>\n      <td>0.117524</td>\n      <td>-0.041571</td>\n      <td>-0.053566</td>\n      <td>-0.085966</td>\n      <td>-0.058102</td>\n      <td>-0.018374</td>\n      <td>-0.033887</td>\n    </tr>\n    <tr>\n      <th>IsSecureBootEnabled</th>\n      <td>-0.015118</td>\n      <td>0.017269</td>\n      <td>-0.044234</td>\n      <td>0.210229</td>\n      <td>0.037005</td>\n      <td>0.035167</td>\n      <td>-0.013022</td>\n      <td>0.009979</td>\n      <td>-0.067412</td>\n      <td>0.023168</td>\n      <td>...</td>\n      <td>NaN</td>\n      <td>0.160231</td>\n      <td>0.117524</td>\n      <td>1.000000</td>\n      <td>-0.051854</td>\n      <td>0.165145</td>\n      <td>0.127059</td>\n      <td>0.070263</td>\n      <td>-0.040091</td>\n      <td>0.036296</td>\n    </tr>\n    <tr>\n      <th>IsVirtualDevice</th>\n      <td>0.007044</td>\n      <td>-0.007088</td>\n      <td>0.022732</td>\n      <td>-0.034432</td>\n      <td>-0.009127</td>\n      <td>0.000676</td>\n      <td>-0.005375</td>\n      <td>-0.001430</td>\n      <td>0.010702</td>\n      <td>-0.019460</td>\n      <td>...</td>\n      <td>NaN</td>\n      <td>0.090245</td>\n      <td>-0.041571</td>\n      <td>-0.051854</td>\n      <td>1.000000</td>\n      <td>-0.017553</td>\n      <td>0.079014</td>\n      <td>-0.015352</td>\n      <td>-0.032708</td>\n      <td>0.005615</td>\n    </tr>\n    <tr>\n      <th>IsTouchEnabled</th>\n      <td>0.009184</td>\n      <td>-0.005307</td>\n      <td>0.034499</td>\n      <td>-0.011098</td>\n      <td>0.000088</td>\n      <td>0.011799</td>\n      <td>0.004135</td>\n      <td>-0.015480</td>\n      <td>0.023614</td>\n      <td>-0.056046</td>\n      <td>...</td>\n      <td>NaN</td>\n      <td>0.055649</td>\n      <td>-0.053566</td>\n      <td>0.165145</td>\n      <td>-0.017553</td>\n      <td>1.000000</td>\n      <td>0.467658</td>\n      <td>0.457752</td>\n      <td>-0.061615</td>\n      <td>0.028670</td>\n    </tr>\n    <tr>\n      <th>IsPenCapable</th>\n      <td>0.003634</td>\n      <td>-0.000579</td>\n      <td>0.033614</td>\n      <td>-0.029803</td>\n      <td>-0.005243</td>\n      <td>0.009900</td>\n      <td>-0.008432</td>\n      <td>-0.000906</td>\n      <td>-0.002761</td>\n      <td>-0.061525</td>\n      <td>...</td>\n      <td>NaN</td>\n      <td>0.048228</td>\n      <td>-0.085966</td>\n      <td>0.127059</td>\n      <td>0.079014</td>\n      <td>0.467658</td>\n      <td>1.000000</td>\n      <td>0.390601</td>\n      <td>-0.024859</td>\n      <td>0.006203</td>\n    </tr>\n    <tr>\n      <th>IsAlwaysOnAlwaysConnectedCapable</th>\n      <td>0.019855</td>\n      <td>-0.016452</td>\n      <td>0.060247</td>\n      <td>-0.075024</td>\n      <td>-0.018276</td>\n      <td>0.013191</td>\n      <td>-0.008676</td>\n      <td>-0.003973</td>\n      <td>-0.009475</td>\n      <td>-0.032038</td>\n      <td>...</td>\n      <td>NaN</td>\n      <td>-0.001293</td>\n      <td>-0.058102</td>\n      <td>0.070263</td>\n      <td>-0.015352</td>\n      <td>0.457752</td>\n      <td>0.390601</td>\n      <td>1.000000</td>\n      <td>-0.042032</td>\n      <td>-0.006977</td>\n    </tr>\n    <tr>\n      <th>IsGamer</th>\n      <td>-0.022948</td>\n      <td>0.025804</td>\n      <td>-0.026357</td>\n      <td>0.008605</td>\n      <td>-0.009543</td>\n      <td>0.027917</td>\n      <td>0.017259</td>\n      <td>0.004691</td>\n      <td>-0.002643</td>\n      <td>-0.003186</td>\n      <td>...</td>\n      <td>NaN</td>\n      <td>-0.102088</td>\n      <td>-0.018374</td>\n      <td>-0.040091</td>\n      <td>-0.032708</td>\n      <td>-0.061615</td>\n      <td>-0.024859</td>\n      <td>-0.042032</td>\n      <td>1.000000</td>\n      <td>-0.047084</td>\n    </tr>\n    <tr>\n      <th>RegionIdentifier</th>\n      <td>-0.009456</td>\n      <td>0.007948</td>\n      <td>-0.008284</td>\n      <td>0.028786</td>\n      <td>0.000935</td>\n      <td>-0.003893</td>\n      <td>-0.117200</td>\n      <td>-0.052504</td>\n      <td>-0.022092</td>\n      <td>0.168612</td>\n      <td>...</td>\n      <td>NaN</td>\n      <td>0.056164</td>\n      <td>-0.033887</td>\n      <td>0.036296</td>\n      <td>0.005615</td>\n      <td>0.028670</td>\n      <td>0.006203</td>\n      <td>-0.006977</td>\n      <td>-0.047084</td>\n      <td>1.000000</td>\n    </tr>\n  </tbody>\n</table>\n<p>45 rows × 45 columns</p>\n</div>"
          },
          "metadata": {}
        }
      ],
      "execution_count": null
    },
    {
      "cell_type": "code",
      "source": [
        "corr_mat = X[num_cols].corr()\n",
        "mask = np.triu(corr_mat)\n",
        "sns.heatmap(corr_mat,mask=mask)"
      ],
      "metadata": {
        "trusted": true,
        "execution": {
          "iopub.status.busy": "2025-03-24T14:02:27.922272Z",
          "iopub.execute_input": "2025-03-24T14:02:27.922732Z",
          "iopub.status.idle": "2025-03-24T14:02:29.230535Z",
          "shell.execute_reply.started": "2025-03-24T14:02:27.922686Z",
          "shell.execute_reply": "2025-03-24T14:02:29.229241Z"
        },
        "id": "2VRYidxjd3Jd",
        "outputId": "b130d9e9-13fc-46e8-bb4b-1788200ef98a"
      },
      "outputs": [
        {
          "execution_count": 38,
          "output_type": "execute_result",
          "data": {
            "text/plain": "<Axes: >"
          },
          "metadata": {}
        },
        {
          "output_type": "display_data",
          "data": {
            "text/plain": "<Figure size 640x480 with 2 Axes>",
            "image/png": "[encoded data removed]"
          },
          "metadata": {}
        }
      ],
      "execution_count": null
    },
    {
      "cell_type": "markdown",
      "source": [
        "# Milestone 1"
      ],
      "metadata": {
        "id": "EvQaS1Gpd3Jd"
      }
    },
    {
      "cell_type": "code",
      "source": [
        "print(len(X['OSVersion'].unique()))"
      ],
      "metadata": {
        "trusted": true,
        "execution": {
          "iopub.status.busy": "2025-03-24T14:02:29.236077Z",
          "iopub.execute_input": "2025-03-24T14:02:29.236417Z",
          "iopub.status.idle": "2025-03-24T14:02:29.246951Z",
          "shell.execute_reply.started": "2025-03-24T14:02:29.236388Z",
          "shell.execute_reply": "2025-03-24T14:02:29.245696Z"
        },
        "id": "xFcTCN63d3Jd",
        "outputId": "bd627b9d-ddeb-4535-db87-967938823b7e"
      },
      "outputs": [
        {
          "name": "stdout",
          "text": "7\n",
          "output_type": "stream"
        }
      ],
      "execution_count": null
    },
    {
      "cell_type": "code",
      "source": [
        "print(X['NumAntivirusProductsInstalled'].sort_values(ascending=False))"
      ],
      "metadata": {
        "trusted": true,
        "execution": {
          "iopub.status.busy": "2025-03-24T14:02:29.249686Z",
          "iopub.execute_input": "2025-03-24T14:02:29.250045Z",
          "iopub.status.idle": "2025-03-24T14:02:29.270653Z",
          "shell.execute_reply.started": "2025-03-24T14:02:29.250013Z",
          "shell.execute_reply": "2025-03-24T14:02:29.269600Z"
        },
        "id": "Ol-zD_VLd3Jd",
        "outputId": "6ccf5c1d-dbb6-4599-cdd7-8ac5545f61a4"
      },
      "outputs": [
        {
          "name": "stdout",
          "text": "53879    5.0\n68677    5.0\n29052    5.0\n78317    5.0\n27187    5.0\n        ... \n39161    1.0\n39160    1.0\n39159    1.0\n39158    1.0\n50000    1.0\nName: NumAntivirusProductsInstalled, Length: 100000, dtype: float64\n",
          "output_type": "stream"
        }
      ],
      "execution_count": null
    },
    {
      "cell_type": "code",
      "source": [
        "print(X[X['IsPassiveModeEnabled'] == 1]['RealTimeProtectionState'].value_counts())"
      ],
      "metadata": {
        "trusted": true,
        "execution": {
          "iopub.status.busy": "2025-03-24T14:02:29.272010Z",
          "iopub.execute_input": "2025-03-24T14:02:29.272345Z",
          "iopub.status.idle": "2025-03-24T14:02:29.288240Z",
          "shell.execute_reply.started": "2025-03-24T14:02:29.272304Z",
          "shell.execute_reply": "2025-03-24T14:02:29.287085Z"
        },
        "id": "WkxiqMtkd3Jd",
        "outputId": "392a0b9a-5bde-4295-ea54-31de5d12acff"
      },
      "outputs": [
        {
          "name": "stdout",
          "text": "RealTimeProtectionState\n0.00000    1751\n3.00000       9\n1.00000       1\n6.84843       1\nName: count, dtype: int64\n",
          "output_type": "stream"
        }
      ],
      "execution_count": null
    },
    {
      "cell_type": "code",
      "source": [
        "print(X['PrimaryDisplayResolutionHorizontal'].dtype)"
      ],
      "metadata": {
        "trusted": true,
        "execution": {
          "iopub.status.busy": "2025-03-24T14:02:29.289285Z",
          "iopub.execute_input": "2025-03-24T14:02:29.289686Z",
          "iopub.status.idle": "2025-03-24T14:02:29.295560Z",
          "shell.execute_reply.started": "2025-03-24T14:02:29.289651Z",
          "shell.execute_reply": "2025-03-24T14:02:29.294404Z"
        },
        "id": "KazvICdQd3Je",
        "outputId": "a36425b4-bcc6-4fc4-c8f2-1f1b66aa170d"
      },
      "outputs": [
        {
          "name": "stdout",
          "text": "float64\n",
          "output_type": "stream"
        }
      ],
      "execution_count": null
    },
    {
      "cell_type": "code",
      "source": [
        "print(len(X['PrimaryDisplayResolutionVertical'] == 768.0))"
      ],
      "metadata": {
        "trusted": true,
        "execution": {
          "iopub.status.busy": "2025-03-24T14:02:29.296668Z",
          "iopub.execute_input": "2025-03-24T14:02:29.297201Z",
          "iopub.status.idle": "2025-03-24T14:02:29.316216Z",
          "shell.execute_reply.started": "2025-03-24T14:02:29.297158Z",
          "shell.execute_reply": "2025-03-24T14:02:29.314997Z"
        },
        "id": "J6kMNfUwd3Je",
        "outputId": "ed46aa99-784b-409b-deac-e8364460602f"
      },
      "outputs": [
        {
          "name": "stdout",
          "text": "100000\n",
          "output_type": "stream"
        }
      ],
      "execution_count": null
    },
    {
      "cell_type": "code",
      "source": [
        "print(len(X[(X['PrimaryDisplayResolutionHorizontal'] == 1366.0) & (X['PrimaryDisplayResolutionVertical'] == 768.0)]))"
      ],
      "metadata": {
        "trusted": true,
        "execution": {
          "iopub.status.busy": "2025-03-24T14:02:29.317404Z",
          "iopub.execute_input": "2025-03-24T14:02:29.317803Z",
          "iopub.status.idle": "2025-03-24T14:02:29.366615Z",
          "shell.execute_reply.started": "2025-03-24T14:02:29.317772Z",
          "shell.execute_reply": "2025-03-24T14:02:29.365277Z"
        },
        "id": "I1sI5KURd3Je",
        "outputId": "da42def6-f392-40a9-a307-bc6ec9335c24"
      },
      "outputs": [
        {
          "name": "stdout",
          "text": "51435\n",
          "output_type": "stream"
        }
      ],
      "execution_count": null
    },
    {
      "cell_type": "code",
      "source": [
        "print(X['TotalPhysicalRAMMB'].quantile(0.5))"
      ],
      "metadata": {
        "trusted": true,
        "execution": {
          "iopub.status.busy": "2025-03-24T14:02:29.367898Z",
          "iopub.execute_input": "2025-03-24T14:02:29.368389Z",
          "iopub.status.idle": "2025-03-24T14:02:29.377933Z",
          "shell.execute_reply.started": "2025-03-24T14:02:29.368347Z",
          "shell.execute_reply": "2025-03-24T14:02:29.376732Z"
        },
        "id": "fHk_dUFFd3Je",
        "outputId": "9d2ba67c-6bc6-409d-f996-91ba35d3a303"
      },
      "outputs": [
        {
          "name": "stdout",
          "text": "4096.0\n",
          "output_type": "stream"
        }
      ],
      "execution_count": null
    },
    {
      "cell_type": "code",
      "source": [
        "y.value_counts()"
      ],
      "metadata": {
        "trusted": true,
        "execution": {
          "iopub.status.busy": "2025-03-24T14:02:29.378888Z",
          "iopub.execute_input": "2025-03-24T14:02:29.379214Z",
          "iopub.status.idle": "2025-03-24T14:02:29.398469Z",
          "shell.execute_reply.started": "2025-03-24T14:02:29.379185Z",
          "shell.execute_reply": "2025-03-24T14:02:29.397558Z"
        },
        "id": "hk2qnyQBd3Je",
        "outputId": "b8236baa-33f9-4bba-a5e9-1f08133bc512"
      },
      "outputs": [
        {
          "execution_count": 46,
          "output_type": "execute_result",
          "data": {
            "text/plain": "target\n1    50525\n0    49475\nName: count, dtype: int64"
          },
          "metadata": {}
        }
      ],
      "execution_count": null
    },
    {
      "cell_type": "markdown",
      "source": [
        "## Milestone 2"
      ],
      "metadata": {
        "id": "vpP869qhd3Je"
      }
    },
    {
      "cell_type": "code",
      "source": [
        "df = pd.read_csv(\"/kaggle/input/System-Threat-Forecaster/train.csv\")\n",
        "X = df.drop(\"target\", axis=1)\n",
        "y = df['target']"
      ],
      "metadata": {
        "trusted": true,
        "execution": {
          "iopub.status.busy": "2025-03-24T14:02:29.399466Z",
          "iopub.execute_input": "2025-03-24T14:02:29.399880Z",
          "iopub.status.idle": "2025-03-24T14:02:30.726363Z",
          "shell.execute_reply.started": "2025-03-24T14:02:29.399837Z",
          "shell.execute_reply": "2025-03-24T14:02:30.725518Z"
        },
        "id": "PWxWMjuud3Jf"
      },
      "outputs": [],
      "execution_count": null
    },
    {
      "cell_type": "code",
      "source": [
        "obj_cols = X.select_dtypes(include=['object']).columns\n",
        "num_cols = X.select_dtypes(include=['int64', 'float64']).columns"
      ],
      "metadata": {
        "trusted": true,
        "execution": {
          "iopub.status.busy": "2025-03-24T14:02:30.727235Z",
          "iopub.execute_input": "2025-03-24T14:02:30.727509Z",
          "iopub.status.idle": "2025-03-24T14:02:30.760870Z",
          "shell.execute_reply.started": "2025-03-24T14:02:30.727469Z",
          "shell.execute_reply": "2025-03-24T14:02:30.759782Z"
        },
        "id": "O4a-Odpid3Jf"
      },
      "outputs": [],
      "execution_count": null
    },
    {
      "cell_type": "code",
      "source": [
        "one = OrdinalEncoder()\n",
        "X[obj_cols] = one.fit_transform(X[obj_cols])"
      ],
      "metadata": {
        "trusted": true,
        "execution": {
          "iopub.status.busy": "2025-03-24T14:02:30.761863Z",
          "iopub.execute_input": "2025-03-24T14:02:30.762168Z",
          "iopub.status.idle": "2025-03-24T14:02:31.963781Z",
          "shell.execute_reply.started": "2025-03-24T14:02:30.762143Z",
          "shell.execute_reply": "2025-03-24T14:02:31.962859Z"
        },
        "id": "PfTomMuVd3Jf"
      },
      "outputs": [],
      "execution_count": null
    },
    {
      "cell_type": "code",
      "source": [
        "X[num_cols] = X[num_cols].fillna(X[num_cols].mean())"
      ],
      "metadata": {
        "trusted": true,
        "execution": {
          "iopub.status.busy": "2025-03-24T14:02:31.964703Z",
          "iopub.execute_input": "2025-03-24T14:02:31.965004Z",
          "iopub.status.idle": "2025-03-24T14:02:32.062967Z",
          "shell.execute_reply.started": "2025-03-24T14:02:31.964977Z",
          "shell.execute_reply": "2025-03-24T14:02:32.062034Z"
        },
        "id": "ew2IJ-sid3Jf"
      },
      "outputs": [],
      "execution_count": null
    },
    {
      "cell_type": "code",
      "source": [
        "X['IsBetaUser'].value_counts() #it can be discarded as it has only one value"
      ],
      "metadata": {
        "trusted": true,
        "execution": {
          "iopub.status.busy": "2025-03-24T14:02:32.063862Z",
          "iopub.execute_input": "2025-03-24T14:02:32.064175Z",
          "iopub.status.idle": "2025-03-24T14:02:32.072985Z",
          "shell.execute_reply.started": "2025-03-24T14:02:32.064148Z",
          "shell.execute_reply": "2025-03-24T14:02:32.071813Z"
        },
        "id": "wPAah3zld3Jf",
        "outputId": "8f687109-39d4-4552-e09b-18548fc5ef70"
      },
      "outputs": [
        {
          "execution_count": 51,
          "output_type": "execute_result",
          "data": {
            "text/plain": "IsBetaUser\n0    100000\nName: count, dtype: int64"
          },
          "metadata": {}
        }
      ],
      "execution_count": null
    },
    {
      "cell_type": "code",
      "source": [
        "X['IsPassiveModeEnabled'].value_counts()"
      ],
      "metadata": {
        "trusted": true,
        "execution": {
          "iopub.status.busy": "2025-03-24T14:02:32.074191Z",
          "iopub.execute_input": "2025-03-24T14:02:32.074641Z",
          "iopub.status.idle": "2025-03-24T14:02:32.095929Z",
          "shell.execute_reply.started": "2025-03-24T14:02:32.074589Z",
          "shell.execute_reply": "2025-03-24T14:02:32.094897Z"
        },
        "id": "5eg6AGVcd3Jf",
        "outputId": "c2416941-382d-4048-fba4-6d1a0e6f3716"
      },
      "outputs": [
        {
          "execution_count": 52,
          "output_type": "execute_result",
          "data": {
            "text/plain": "IsPassiveModeEnabled\n0    98238\n1     1762\nName: count, dtype: int64"
          },
          "metadata": {}
        }
      ],
      "execution_count": null
    },
    {
      "cell_type": "code",
      "source": [
        "X['AntivirusConfigID'].value_counts() #it can be discarded as it has only one value"
      ],
      "metadata": {
        "trusted": true,
        "execution": {
          "iopub.status.busy": "2025-03-24T14:02:32.097026Z",
          "iopub.execute_input": "2025-03-24T14:02:32.097417Z",
          "iopub.status.idle": "2025-03-24T14:02:32.119696Z",
          "shell.execute_reply.started": "2025-03-24T14:02:32.097374Z",
          "shell.execute_reply": "2025-03-24T14:02:32.118612Z"
        },
        "id": "YslK6UXCd3Jf",
        "outputId": "ceb42627-fe34-4fdf-c8eb-902404940fbb"
      },
      "outputs": [
        {
          "execution_count": 53,
          "output_type": "execute_result",
          "data": {
            "text/plain": "AntivirusConfigID\n53447.0    66639\n7945.0      5437\n47238.0     3986\n62773.0     2562\n46413.0     1371\n           ...  \n16190.0        1\n32512.0        1\n59215.0        1\n47371.0        1\n32922.0        1\nName: count, Length: 1977, dtype: int64"
          },
          "metadata": {}
        }
      ],
      "execution_count": null
    },
    {
      "cell_type": "code",
      "source": [
        "X['AutoSampleSubmissionEnabled'].value_counts()"
      ],
      "metadata": {
        "trusted": true,
        "execution": {
          "iopub.status.busy": "2025-03-24T14:02:32.120776Z",
          "iopub.execute_input": "2025-03-24T14:02:32.121158Z",
          "iopub.status.idle": "2025-03-24T14:02:32.140808Z",
          "shell.execute_reply.started": "2025-03-24T14:02:32.121124Z",
          "shell.execute_reply": "2025-03-24T14:02:32.139613Z"
        },
        "id": "JHt2pD3Hd3Jg",
        "outputId": "6ccf645e-f624-415e-b39b-46193a22493a"
      },
      "outputs": [
        {
          "execution_count": 54,
          "output_type": "execute_result",
          "data": {
            "text/plain": "AutoSampleSubmissionEnabled\n0    100000\nName: count, dtype: int64"
          },
          "metadata": {}
        }
      ],
      "execution_count": null
    },
    {
      "cell_type": "code",
      "source": [
        "X['IsFlightsDisabled'].value_counts()"
      ],
      "metadata": {
        "trusted": true,
        "execution": {
          "iopub.status.busy": "2025-03-24T14:02:32.142086Z",
          "iopub.execute_input": "2025-03-24T14:02:32.142566Z",
          "iopub.status.idle": "2025-03-24T14:02:32.162636Z",
          "shell.execute_reply.started": "2025-03-24T14:02:32.142506Z",
          "shell.execute_reply": "2025-03-24T14:02:32.161664Z"
        },
        "id": "tpBzSeKid3Jg",
        "outputId": "6359a5dd-7d05-4153-8c8b-0ac68cbe1c74"
      },
      "outputs": [
        {
          "execution_count": 55,
          "output_type": "execute_result",
          "data": {
            "text/plain": "IsFlightsDisabled\n0.0    100000\nName: count, dtype: int64"
          },
          "metadata": {}
        }
      ],
      "execution_count": null
    },
    {
      "cell_type": "code",
      "source": [
        "X['DateAS'].corr(X['SignatureVersion'])"
      ],
      "metadata": {
        "trusted": true,
        "execution": {
          "iopub.status.busy": "2025-03-24T14:02:32.163577Z",
          "iopub.execute_input": "2025-03-24T14:02:32.163899Z",
          "iopub.status.idle": "2025-03-24T14:02:32.184416Z",
          "shell.execute_reply.started": "2025-03-24T14:02:32.163871Z",
          "shell.execute_reply": "2025-03-24T14:02:32.183401Z"
        },
        "id": "IE56XRDed3Jg",
        "outputId": "a95c9d2d-a6fe-4ae7-a382-2864a33f4f44"
      },
      "outputs": [
        {
          "execution_count": 56,
          "output_type": "execute_result",
          "data": {
            "text/plain": "0.8744954962482"
          },
          "metadata": {}
        }
      ],
      "execution_count": null
    },
    {
      "cell_type": "code",
      "source": [
        "X['OSBuildLab'].corr(X['NumericOSVersion'])"
      ],
      "metadata": {
        "trusted": true,
        "execution": {
          "iopub.status.busy": "2025-03-24T14:02:32.185762Z",
          "iopub.execute_input": "2025-03-24T14:02:32.186056Z",
          "iopub.status.idle": "2025-03-24T14:02:32.203055Z",
          "shell.execute_reply.started": "2025-03-24T14:02:32.186030Z",
          "shell.execute_reply": "2025-03-24T14:02:32.202019Z"
        },
        "id": "f-cFReiCd3Jg",
        "outputId": "00cdfaee-ed16-4645-cb4e-bd083e890f7f"
      },
      "outputs": [
        {
          "execution_count": 57,
          "output_type": "execute_result",
          "data": {
            "text/plain": "0.7866003995702381"
          },
          "metadata": {}
        }
      ],
      "execution_count": null
    },
    {
      "cell_type": "code",
      "source": [
        "X['OSEdition'].corr(X['OSSkuFriendlyName'])"
      ],
      "metadata": {
        "trusted": true,
        "execution": {
          "iopub.status.busy": "2025-03-24T14:02:32.204047Z",
          "iopub.execute_input": "2025-03-24T14:02:32.204374Z",
          "iopub.status.idle": "2025-03-24T14:02:32.223850Z",
          "shell.execute_reply.started": "2025-03-24T14:02:32.204333Z",
          "shell.execute_reply": "2025-03-24T14:02:32.222821Z"
        },
        "id": "cd1MADJjd3Jr",
        "outputId": "d2c6f2bd-3a4b-4dab-ef20-61abc805e6fa"
      },
      "outputs": [
        {
          "execution_count": 58,
          "output_type": "execute_result",
          "data": {
            "text/plain": "0.9988555226834495"
          },
          "metadata": {}
        }
      ],
      "execution_count": null
    },
    {
      "cell_type": "code",
      "source": [
        "X['OSProductSuite'].corr(X['OSSkuFriendlyName'])"
      ],
      "metadata": {
        "trusted": true,
        "execution": {
          "iopub.status.busy": "2025-03-24T14:02:32.224949Z",
          "iopub.execute_input": "2025-03-24T14:02:32.225334Z",
          "iopub.status.idle": "2025-03-24T14:02:32.244400Z",
          "shell.execute_reply.started": "2025-03-24T14:02:32.225289Z",
          "shell.execute_reply": "2025-03-24T14:02:32.243332Z"
        },
        "id": "IVRVn85Zd3Jr",
        "outputId": "6aedbcf5-df3a-43eb-9cea-27599228d87c"
      },
      "outputs": [
        {
          "execution_count": 59,
          "output_type": "execute_result",
          "data": {
            "text/plain": "-0.960103960087732"
          },
          "metadata": {}
        }
      ],
      "execution_count": null
    },
    {
      "cell_type": "code",
      "source": [
        "one = OneHotEncoder(drop='first', handle_unknown='ignore', sparse_output=False)"
      ],
      "metadata": {
        "trusted": true,
        "execution": {
          "iopub.status.busy": "2025-03-24T14:02:32.245314Z",
          "iopub.execute_input": "2025-03-24T14:02:32.245642Z",
          "iopub.status.idle": "2025-03-24T14:02:32.260787Z",
          "shell.execute_reply.started": "2025-03-24T14:02:32.245613Z",
          "shell.execute_reply": "2025-03-24T14:02:32.259532Z"
        },
        "id": "WsmXU5OXd3Jr"
      },
      "outputs": [],
      "execution_count": null
    },
    {
      "cell_type": "code",
      "source": [
        "df = pd.read_csv(\"/kaggle/input/System-Threat-Forecaster/train.csv\")\n",
        "X = df.drop(\"target\", axis=1)\n",
        "y = df['target']"
      ],
      "metadata": {
        "trusted": true,
        "execution": {
          "iopub.status.busy": "2025-03-24T14:02:32.262027Z",
          "iopub.execute_input": "2025-03-24T14:02:32.262366Z",
          "iopub.status.idle": "2025-03-24T14:02:33.546928Z",
          "shell.execute_reply.started": "2025-03-24T14:02:32.262338Z",
          "shell.execute_reply": "2025-03-24T14:02:33.545951Z"
        },
        "id": "uq8he8crd3Js"
      },
      "outputs": [],
      "execution_count": null
    },
    {
      "cell_type": "code",
      "source": [
        "obj_cols = X.select_dtypes(include=['object']).columns\n",
        "objn = []\n",
        "for i in obj_cols:\n",
        "  if len(df[i].unique()) == 10:\n",
        "    objn.append(i)\n",
        "cat_df = one.fit_transform(df[objn])\n",
        "cat_df.shape"
      ],
      "metadata": {
        "trusted": true,
        "execution": {
          "iopub.status.busy": "2025-03-24T14:02:33.547861Z",
          "iopub.execute_input": "2025-03-24T14:02:33.548162Z",
          "iopub.status.idle": "2025-03-24T14:02:33.751300Z",
          "shell.execute_reply.started": "2025-03-24T14:02:33.548135Z",
          "shell.execute_reply": "2025-03-24T14:02:33.750274Z"
        },
        "id": "q2ZjpM-xd3Js",
        "outputId": "18316da6-7446-4f9e-cc45-1d543d145ddb"
      },
      "outputs": [
        {
          "execution_count": 62,
          "output_type": "execute_result",
          "data": {
            "text/plain": "(100000, 0)"
          },
          "metadata": {}
        }
      ],
      "execution_count": null
    },
    {
      "cell_type": "code",
      "source": [
        "df = pd.read_csv(\"/kaggle/input/System-Threat-Forecaster/train.csv\")\n",
        "X = df.drop(\"target\", axis=1)\n",
        "y = df['target']"
      ],
      "metadata": {
        "trusted": true,
        "execution": {
          "iopub.status.busy": "2025-03-24T14:02:33.752452Z",
          "iopub.execute_input": "2025-03-24T14:02:33.752850Z",
          "iopub.status.idle": "2025-03-24T14:02:34.960374Z",
          "shell.execute_reply.started": "2025-03-24T14:02:33.752812Z",
          "shell.execute_reply": "2025-03-24T14:02:34.959458Z"
        },
        "id": "iT-nfnc-d3Js"
      },
      "outputs": [],
      "execution_count": null
    },
    {
      "cell_type": "code",
      "source": [
        "num_cols = X.select_dtypes(include=['int64', 'float64']).columns\n",
        "mini = MinMaxScaler()\n",
        "new_df = mini.fit_transform(df[num_cols])\n",
        "new_df = pd.DataFrame(new_df,columns=num_cols)\n",
        "summ = 0\n",
        "for i in new_df.columns:\n",
        "  summ += new_df[i].sum()\n",
        "summ"
      ],
      "metadata": {
        "trusted": true,
        "execution": {
          "iopub.status.busy": "2025-03-24T14:02:34.961281Z",
          "iopub.execute_input": "2025-03-24T14:02:34.961565Z",
          "iopub.status.idle": "2025-03-24T14:02:35.067044Z",
          "shell.execute_reply.started": "2025-03-24T14:02:34.961533Z",
          "shell.execute_reply": "2025-03-24T14:02:35.065917Z"
        },
        "id": "5RvOjARAd3Js",
        "outputId": "22e05b37-9cc9-4917-ebd8-bd947aa740fd"
      },
      "outputs": [
        {
          "execution_count": 64,
          "output_type": "execute_result",
          "data": {
            "text/plain": "1534590.729433082"
          },
          "metadata": {}
        }
      ],
      "execution_count": null
    },
    {
      "cell_type": "markdown",
      "source": [
        "## Milestone 3"
      ],
      "metadata": {
        "id": "CnVXSoxhd3Js"
      }
    },
    {
      "cell_type": "code",
      "source": [
        "from sklearn.pipeline import Pipeline\n",
        "from sklearn.compose import ColumnTransformer\n",
        "from sklearn.tree import DecisionTreeClassifier\n",
        "from sklearn.ensemble import AdaBoostClassifier"
      ],
      "metadata": {
        "trusted": true,
        "execution": {
          "iopub.status.busy": "2025-03-24T14:02:35.068164Z",
          "iopub.execute_input": "2025-03-24T14:02:35.068518Z",
          "iopub.status.idle": "2025-03-24T14:02:35.073546Z",
          "shell.execute_reply.started": "2025-03-24T14:02:35.068449Z",
          "shell.execute_reply": "2025-03-24T14:02:35.072053Z"
        },
        "id": "kN2owCkSd3Js"
      },
      "outputs": [],
      "execution_count": null
    },
    {
      "cell_type": "code",
      "source": [
        "df = pd.read_csv(\"/kaggle/input/System-Threat-Forecaster/train.csv\")\n",
        "X = df.drop(\"target\", axis=1)\n",
        "y = df['target']"
      ],
      "metadata": {
        "trusted": true,
        "execution": {
          "iopub.status.busy": "2025-03-24T14:02:35.075002Z",
          "iopub.execute_input": "2025-03-24T14:02:35.075533Z",
          "iopub.status.idle": "2025-03-24T14:02:36.366657Z",
          "shell.execute_reply.started": "2025-03-24T14:02:35.075463Z",
          "shell.execute_reply": "2025-03-24T14:02:36.365643Z"
        },
        "id": "--4cnoMTd3Js"
      },
      "outputs": [],
      "execution_count": null
    },
    {
      "cell_type": "code",
      "source": [
        "real_test = pd.read_csv('/kaggle/input/System-Threat-Forecaster/test.csv')"
      ],
      "metadata": {
        "trusted": true,
        "execution": {
          "iopub.status.busy": "2025-03-24T14:02:36.367693Z",
          "iopub.execute_input": "2025-03-24T14:02:36.368082Z",
          "iopub.status.idle": "2025-03-24T14:02:36.498062Z",
          "shell.execute_reply.started": "2025-03-24T14:02:36.368044Z",
          "shell.execute_reply": "2025-03-24T14:02:36.496878Z"
        },
        "id": "mN4d2VsAd3Jt"
      },
      "outputs": [],
      "execution_count": null
    },
    {
      "cell_type": "markdown",
      "source": [
        "## The columns names are fetched depending on the type of values they have"
      ],
      "metadata": {
        "id": "Yjg7aFXYd3Jt"
      }
    },
    {
      "cell_type": "code",
      "source": [
        "obj_cols = X.select_dtypes(include=['object']).columns\n",
        "num_cols = X.select_dtypes(include=['int64', 'float64']).columns"
      ],
      "metadata": {
        "trusted": true,
        "execution": {
          "iopub.status.busy": "2025-03-24T14:02:36.499441Z",
          "iopub.execute_input": "2025-03-24T14:02:36.499856Z",
          "iopub.status.idle": "2025-03-24T14:02:36.533547Z",
          "shell.execute_reply.started": "2025-03-24T14:02:36.499819Z",
          "shell.execute_reply": "2025-03-24T14:02:36.532750Z"
        },
        "id": "jgh68qn_d3Jt"
      },
      "outputs": [],
      "execution_count": null
    },
    {
      "cell_type": "markdown",
      "source": [
        "## Impute the categorical columns with missing values with their repsective mode or most frequent values\n",
        "\n",
        "## Impute the numeric columns with missing values with the mean of the repsective columns"
      ],
      "metadata": {
        "id": "vBqf7Zsid3Jt"
      }
    },
    {
      "cell_type": "code",
      "source": [
        "X[obj_cols]= SimpleImputer(strategy = \"most_frequent\").fit_transform(X[obj_cols])\n",
        "real_test[obj_cols]= SimpleImputer(strategy = \"most_frequent\").fit_transform(real_test[obj_cols])\n",
        "\n",
        "X[num_cols]= SimpleImputer(strategy = \"mean\").fit_transform(X[num_cols])\n",
        "real_test[num_cols]= SimpleImputer(strategy = \"mean\").fit_transform(real_test[num_cols])\n",
        "\n",
        "X[num_cols] = StandardScaler().fit_transform(X[num_cols])\n",
        "real_test[num_cols] = StandardScaler().fit_transform(real_test[num_cols])\n",
        "\n",
        "lb = LabelEncoder()\n",
        "\n",
        "for i in obj_cols:\n",
        "    X[i] = lb.fit_transform(X[i])\n",
        "    real_test[i] = lb.fit_transform(real_test[i])"
      ],
      "metadata": {
        "trusted": true,
        "execution": {
          "iopub.status.busy": "2025-03-24T14:02:36.534395Z",
          "iopub.execute_input": "2025-03-24T14:02:36.534732Z",
          "iopub.status.idle": "2025-03-24T14:02:38.173288Z",
          "shell.execute_reply.started": "2025-03-24T14:02:36.534704Z",
          "shell.execute_reply": "2025-03-24T14:02:38.172445Z"
        },
        "id": "4mQKdtUAd3Jt"
      },
      "outputs": [],
      "execution_count": null
    },
    {
      "cell_type": "code",
      "source": [
        "X_train, X_test, y_train, y_test = train_test_split(X, y, test_size=0.2, random_state=42)"
      ],
      "metadata": {
        "trusted": true,
        "execution": {
          "iopub.status.busy": "2025-03-24T14:02:38.173985Z",
          "iopub.execute_input": "2025-03-24T14:02:38.174236Z",
          "iopub.status.idle": "2025-03-24T14:02:38.399146Z",
          "shell.execute_reply.started": "2025-03-24T14:02:38.174213Z",
          "shell.execute_reply": "2025-03-24T14:02:38.397849Z"
        },
        "id": "X_4o_xlkd3Jt"
      },
      "outputs": [],
      "execution_count": null
    },
    {
      "cell_type": "code",
      "source": [
        "param_grid ={\n",
        "    \"max_depth\": [10,20],\n",
        "\"min_samples_split\": [2, 3,4,5],\n",
        "\"min_samples_leaf\": [1, 2],\n",
        "}\n",
        "dtree = DecisionTreeClassifier(random_state= 42)"
      ],
      "metadata": {
        "trusted": true,
        "execution": {
          "iopub.status.busy": "2025-03-24T14:02:38.400125Z",
          "iopub.execute_input": "2025-03-24T14:02:38.400411Z",
          "iopub.status.idle": "2025-03-24T14:02:38.405312Z",
          "shell.execute_reply.started": "2025-03-24T14:02:38.400386Z",
          "shell.execute_reply": "2025-03-24T14:02:38.404077Z"
        },
        "id": "xzcjAWQMd3Ju"
      },
      "outputs": [],
      "execution_count": null
    },
    {
      "cell_type": "code",
      "source": [
        "gre = GridSearchCV(dtree,\n",
        "                   param_grid=param_grid,\n",
        "                   cv=3,\n",
        "                   scoring='accuracy')\n",
        "gre.fit(X_train,y_train)"
      ],
      "metadata": {
        "trusted": true,
        "execution": {
          "iopub.status.busy": "2025-03-24T14:02:38.416130Z",
          "iopub.execute_input": "2025-03-24T14:02:38.417115Z",
          "iopub.status.idle": "2025-03-24T14:02:38.424961Z",
          "shell.execute_reply.started": "2025-03-24T14:02:38.417059Z",
          "shell.execute_reply": "2025-03-24T14:02:38.423751Z"
        },
        "id": "FA0awPSTd3Ju"
      },
      "outputs": [],
      "execution_count": null
    },
    {
      "cell_type": "code",
      "source": [
        "y_pred = gre.predict(X_test)"
      ],
      "metadata": {
        "trusted": true,
        "execution": {
          "iopub.status.busy": "2025-03-24T14:02:38.429418Z",
          "iopub.execute_input": "2025-03-24T14:02:38.429820Z",
          "iopub.status.idle": "2025-03-24T14:02:38.442800Z",
          "shell.execute_reply.started": "2025-03-24T14:02:38.429777Z",
          "shell.execute_reply": "2025-03-24T14:02:38.441581Z"
        },
        "id": "T97ORrutd3Ju"
      },
      "outputs": [],
      "execution_count": null
    },
    {
      "cell_type": "code",
      "source": [
        "gre.best_params_"
      ],
      "metadata": {
        "trusted": true,
        "execution": {
          "iopub.status.busy": "2025-03-24T14:02:38.443862Z",
          "iopub.execute_input": "2025-03-24T14:02:38.444153Z",
          "iopub.status.idle": "2025-03-24T14:02:38.463679Z",
          "shell.execute_reply.started": "2025-03-24T14:02:38.444129Z",
          "shell.execute_reply": "2025-03-24T14:02:38.462354Z"
        },
        "id": "LJgyZORcd3Ju"
      },
      "outputs": [],
      "execution_count": null
    },
    {
      "cell_type": "code",
      "source": [
        "gre.best_estimator_"
      ],
      "metadata": {
        "trusted": true,
        "execution": {
          "iopub.status.busy": "2025-03-24T14:02:38.464688Z",
          "iopub.execute_input": "2025-03-24T14:02:38.465015Z",
          "iopub.status.idle": "2025-03-24T14:02:38.481495Z",
          "shell.execute_reply.started": "2025-03-24T14:02:38.464985Z",
          "shell.execute_reply": "2025-03-24T14:02:38.480369Z"
        },
        "id": "0eVBp2izd3Ju"
      },
      "outputs": [],
      "execution_count": null
    },
    {
      "cell_type": "code",
      "source": [
        "accuracy_score(y_test,y_pred)"
      ],
      "metadata": {
        "trusted": true,
        "execution": {
          "iopub.status.busy": "2025-03-24T14:02:38.482778Z",
          "iopub.execute_input": "2025-03-24T14:02:38.483177Z",
          "iopub.status.idle": "2025-03-24T14:02:38.500789Z",
          "shell.execute_reply.started": "2025-03-24T14:02:38.483145Z",
          "shell.execute_reply": "2025-03-24T14:02:38.499525Z"
        },
        "id": "8DJhPXIId3Jv"
      },
      "outputs": [],
      "execution_count": null
    },
    {
      "cell_type": "code",
      "source": [
        "y_pred = gre.predict(real_test)"
      ],
      "metadata": {
        "trusted": true,
        "execution": {
          "iopub.status.busy": "2025-03-24T14:02:38.502009Z",
          "iopub.execute_input": "2025-03-24T14:02:38.502425Z",
          "iopub.status.idle": "2025-03-24T14:02:38.520243Z",
          "shell.execute_reply.started": "2025-03-24T14:02:38.502384Z",
          "shell.execute_reply": "2025-03-24T14:02:38.519208Z"
        },
        "id": "6flfpQqUd3Jv"
      },
      "outputs": [],
      "execution_count": null
    },
    {
      "cell_type": "code",
      "source": [
        "ada = AdaBoostClassifier(dtree, random_state=42)"
      ],
      "metadata": {
        "trusted": true,
        "execution": {
          "iopub.status.busy": "2025-03-24T14:02:38.542242Z",
          "iopub.execute_input": "2025-03-24T14:02:38.542591Z",
          "iopub.status.idle": "2025-03-24T14:02:38.561921Z",
          "shell.execute_reply.started": "2025-03-24T14:02:38.542562Z",
          "shell.execute_reply": "2025-03-24T14:02:38.560266Z"
        },
        "id": "bE9pxvMSd3Jv"
      },
      "outputs": [],
      "execution_count": null
    },
    {
      "cell_type": "code",
      "source": [
        "param_grid = {\"n_estimators\": [10, 20, 30],\n",
        "\"learning_rate\": [5, 10],\n",
        "\"algorithm\": ['SAMME']\n",
        "}"
      ],
      "metadata": {
        "trusted": true,
        "execution": {
          "iopub.status.busy": "2025-03-24T14:02:38.563175Z",
          "iopub.execute_input": "2025-03-24T14:02:38.563540Z",
          "iopub.status.idle": "2025-03-24T14:02:38.581689Z",
          "shell.execute_reply.started": "2025-03-24T14:02:38.563466Z",
          "shell.execute_reply": "2025-03-24T14:02:38.580448Z"
        },
        "id": "AjD0AozLd3Jv"
      },
      "outputs": [],
      "execution_count": null
    },
    {
      "cell_type": "code",
      "source": [
        "gre = GridSearchCV(ada,\n",
        "                   param_grid=param_grid,\n",
        "                   cv=3,\n",
        "                   scoring='accuracy')\n",
        "gre.fit(X_train,y_train)\n",
        "y_pred = gre.predict(X_test)"
      ],
      "metadata": {
        "trusted": true,
        "execution": {
          "iopub.status.busy": "2025-03-24T14:02:38.582923Z",
          "iopub.execute_input": "2025-03-24T14:02:38.583215Z",
          "iopub.status.idle": "2025-03-24T14:02:38.600625Z",
          "shell.execute_reply.started": "2025-03-24T14:02:38.583189Z",
          "shell.execute_reply": "2025-03-24T14:02:38.599251Z"
        },
        "id": "rtmlPDPZd3Jv"
      },
      "outputs": [],
      "execution_count": null
    },
    {
      "cell_type": "code",
      "source": [
        "gre.best_params_"
      ],
      "metadata": {
        "trusted": true,
        "execution": {
          "iopub.status.busy": "2025-03-24T14:02:38.601669Z",
          "iopub.execute_input": "2025-03-24T14:02:38.601954Z",
          "iopub.status.idle": "2025-03-24T14:02:38.621735Z",
          "shell.execute_reply.started": "2025-03-24T14:02:38.601931Z",
          "shell.execute_reply": "2025-03-24T14:02:38.620307Z"
        },
        "id": "uZTSP1LBd3Jw"
      },
      "outputs": [],
      "execution_count": null
    },
    {
      "cell_type": "code",
      "source": [
        "accuracy_score(y_test,y_pred)"
      ],
      "metadata": {
        "trusted": true,
        "execution": {
          "iopub.status.busy": "2025-03-24T14:02:38.622918Z",
          "iopub.execute_input": "2025-03-24T14:02:38.623314Z",
          "iopub.status.idle": "2025-03-24T14:02:38.640526Z",
          "shell.execute_reply.started": "2025-03-24T14:02:38.623271Z",
          "shell.execute_reply": "2025-03-24T14:02:38.639087Z"
        },
        "id": "wwAUxS1Zd3Jw"
      },
      "outputs": [],
      "execution_count": null
    },
    {
      "cell_type": "markdown",
      "source": [
        "# Milestone 4"
      ],
      "metadata": {
        "id": "V6Kjay3Id3Jw"
      }
    },
    {
      "cell_type": "code",
      "source": [
        "from sklearn.decomposition import PCA"
      ],
      "metadata": {
        "trusted": true,
        "execution": {
          "iopub.status.busy": "2025-03-24T14:02:38.641777Z",
          "iopub.execute_input": "2025-03-24T14:02:38.642178Z",
          "iopub.status.idle": "2025-03-24T14:02:38.659370Z",
          "shell.execute_reply.started": "2025-03-24T14:02:38.642145Z",
          "shell.execute_reply": "2025-03-24T14:02:38.657967Z"
        },
        "id": "FzzqiJSFd3Jw"
      },
      "outputs": [],
      "execution_count": null
    },
    {
      "cell_type": "code",
      "source": [
        "df = pd.read_csv('/kaggle/input/System-Threat-Forecaster/train.csv')\n",
        "y = df['target']\n",
        "X = df.drop('target', axis=1)"
      ],
      "metadata": {
        "trusted": true,
        "execution": {
          "iopub.status.busy": "2025-03-24T14:02:38.660389Z",
          "iopub.execute_input": "2025-03-24T14:02:38.660776Z",
          "iopub.status.idle": "2025-03-24T14:02:39.966951Z",
          "shell.execute_reply.started": "2025-03-24T14:02:38.660745Z",
          "shell.execute_reply": "2025-03-24T14:02:39.965761Z"
        },
        "id": "wAqu_IX6d3Jw"
      },
      "outputs": [],
      "execution_count": null
    },
    {
      "cell_type": "code",
      "source": [
        "real_test = pd.read_csv('/kaggle/input/System-Threat-Forecaster/test.csv')"
      ],
      "metadata": {
        "trusted": true,
        "execution": {
          "iopub.status.busy": "2025-03-24T14:02:39.968441Z",
          "iopub.execute_input": "2025-03-24T14:02:39.968893Z",
          "iopub.status.idle": "2025-03-24T14:02:40.102076Z",
          "shell.execute_reply.started": "2025-03-24T14:02:39.968815Z",
          "shell.execute_reply": "2025-03-24T14:02:40.100935Z"
        },
        "id": "I-spCeoYd3Jw"
      },
      "outputs": [],
      "execution_count": null
    },
    {
      "cell_type": "code",
      "source": [
        "df = df.dropna(axis = 0)\n",
        "y = df['target']\n",
        "X = df.drop('target', axis=1)\n",
        "obj_cols = X.select_dtypes(include=['object']).columns\n",
        "num_cols = X.select_dtypes(include=['int64', 'float64']).columns"
      ],
      "metadata": {
        "trusted": true,
        "execution": {
          "iopub.status.busy": "2025-03-24T14:02:40.103373Z",
          "iopub.execute_input": "2025-03-24T14:02:40.103788Z",
          "iopub.status.idle": "2025-03-24T14:02:40.341519Z",
          "shell.execute_reply.started": "2025-03-24T14:02:40.103757Z",
          "shell.execute_reply": "2025-03-24T14:02:40.340260Z"
        },
        "id": "QaFjRW5Xd3Jx"
      },
      "outputs": [],
      "execution_count": null
    },
    {
      "cell_type": "code",
      "source": [
        "ord = OrdinalEncoder()\n",
        "X[obj_cols] = ord.fit_transform(X[obj_cols])"
      ],
      "metadata": {
        "trusted": true,
        "execution": {
          "iopub.status.busy": "2025-03-24T14:02:40.342785Z",
          "iopub.execute_input": "2025-03-24T14:02:40.343166Z",
          "iopub.status.idle": "2025-03-24T14:02:41.497111Z",
          "shell.execute_reply.started": "2025-03-24T14:02:40.343125Z",
          "shell.execute_reply": "2025-03-24T14:02:41.495940Z"
        },
        "id": "D0yXXp-cd3Jx"
      },
      "outputs": [],
      "execution_count": null
    },
    {
      "cell_type": "code",
      "source": [
        "X[num_cols] = StandardScaler().fit_transform(X[num_cols])"
      ],
      "metadata": {
        "trusted": true,
        "execution": {
          "iopub.status.busy": "2025-03-24T14:02:41.498232Z",
          "iopub.execute_input": "2025-03-24T14:02:41.498655Z",
          "iopub.status.idle": "2025-03-24T14:02:41.599731Z",
          "shell.execute_reply.started": "2025-03-24T14:02:41.498612Z",
          "shell.execute_reply": "2025-03-24T14:02:41.598583Z"
        },
        "id": "5NB_WT2jd3Jx"
      },
      "outputs": [],
      "execution_count": null
    },
    {
      "cell_type": "code",
      "source": [
        "pca = PCA()\n",
        "pca.fit(X)"
      ],
      "metadata": {
        "trusted": true,
        "execution": {
          "iopub.status.busy": "2025-03-24T14:02:41.600896Z",
          "iopub.execute_input": "2025-03-24T14:02:41.601225Z",
          "iopub.status.idle": "2025-03-24T14:02:42.174668Z",
          "shell.execute_reply.started": "2025-03-24T14:02:41.601196Z",
          "shell.execute_reply": "2025-03-24T14:02:42.172297Z"
        },
        "id": "ZabPPfQTd3Jx",
        "outputId": "8b9d882e-1899-441c-9a0c-be71d3e92493"
      },
      "outputs": [
        {
          "execution_count": 90,
          "output_type": "execute_result",
          "data": {
            "text/plain": "PCA()",
            "text/html": "<style>#sk-container-id-4 {color: black;background-color: white;}#sk-container-id-4 pre{padding: 0;}#sk-container-id-4 div.sk-toggleable {background-color: white;}#sk-container-id-4 label.sk-toggleable__label {cursor: pointer;display: block;width: 100%;margin-bottom: 0;padding: 0.3em;box-sizing: border-box;text-align: center;}#sk-container-id-4 label.sk-toggleable__label-arrow:before {content: \"▸\";float: left;margin-right: 0.25em;color: #696969;}#sk-container-id-4 label.sk-toggleable__label-arrow:hover:before {color: black;}#sk-container-id-4 div.sk-estimator:hover label.sk-toggleable__label-arrow:before {color: black;}#sk-container-id-4 div.sk-toggleable__content {max-height: 0;max-width: 0;overflow: hidden;text-align: left;background-color: #f0f8ff;}#sk-container-id-4 div.sk-toggleable__content pre {margin: 0.2em;color: black;border-radius: 0.25em;background-color: #f0f8ff;}#sk-container-id-4 input.sk-toggleable__control:checked~div.sk-toggleable__content {max-height: 200px;max-width: 100%;overflow: auto;}#sk-container-id-4 input.sk-toggleable__control:checked~label.sk-toggleable__label-arrow:before {content: \"▾\";}#sk-container-id-4 div.sk-estimator input.sk-toggleable__control:checked~label.sk-toggleable__label {background-color: #d4ebff;}#sk-container-id-4 div.sk-label input.sk-toggleable__control:checked~label.sk-toggleable__label {background-color: #d4ebff;}#sk-container-id-4 input.sk-hidden--visually {border: 0;clip: rect(1px 1px 1px 1px);clip: rect(1px, 1px, 1px, 1px);height: 1px;margin: -1px;overflow: hidden;padding: 0;position: absolute;width: 1px;}#sk-container-id-4 div.sk-estimator {font-family: monospace;background-color: #f0f8ff;border: 1px dotted black;border-radius: 0.25em;box-sizing: border-box;margin-bottom: 0.5em;}#sk-container-id-4 div.sk-estimator:hover {background-color: #d4ebff;}#sk-container-id-4 div.sk-parallel-item::after {content: \"\";width: 100%;border-bottom: 1px solid gray;flex-grow: 1;}#sk-container-id-4 div.sk-label:hover label.sk-toggleable__label {background-color: #d4ebff;}#sk-container-id-4 div.sk-serial::before {content: \"\";position: absolute;border-left: 1px solid gray;box-sizing: border-box;top: 0;bottom: 0;left: 50%;z-index: 0;}#sk-container-id-4 div.sk-serial {display: flex;flex-direction: column;align-items: center;background-color: white;padding-right: 0.2em;padding-left: 0.2em;position: relative;}#sk-container-id-4 div.sk-item {position: relative;z-index: 1;}#sk-container-id-4 div.sk-parallel {display: flex;align-items: stretch;justify-content: center;background-color: white;position: relative;}#sk-container-id-4 div.sk-item::before, #sk-container-id-4 div.sk-parallel-item::before {content: \"\";position: absolute;border-left: 1px solid gray;box-sizing: border-box;top: 0;bottom: 0;left: 50%;z-index: -1;}#sk-container-id-4 div.sk-parallel-item {display: flex;flex-direction: column;z-index: 1;position: relative;background-color: white;}#sk-container-id-4 div.sk-parallel-item:first-child::after {align-self: flex-end;width: 50%;}#sk-container-id-4 div.sk-parallel-item:last-child::after {align-self: flex-start;width: 50%;}#sk-container-id-4 div.sk-parallel-item:only-child::after {width: 0;}#sk-container-id-4 div.sk-dashed-wrapped {border: 1px dashed gray;margin: 0 0.4em 0.5em 0.4em;box-sizing: border-box;padding-bottom: 0.4em;background-color: white;}#sk-container-id-4 div.sk-label label {font-family: monospace;font-weight: bold;display: inline-block;line-height: 1.2em;}#sk-container-id-4 div.sk-label-container {text-align: center;}#sk-container-id-4 div.sk-container {/* jupyter's `normalize.less` sets `[hidden] { display: none; }` but bootstrap.min.css set `[hidden] { display: none !important; }` so we also need the `!important` here to be able to override the default hidden behavior on the sphinx rendered scikit-learn.org. See: https://github.com/scikit-learn/scikit-learn/issues/21755 */display: inline-block !important;position: relative;}#sk-container-id-4 div.sk-text-repr-fallback {display: none;}</style><div id=\"sk-container-id-4\" class=\"sk-top-container\"><div class=\"sk-text-repr-fallback\"><pre>PCA()</pre><b>In a Jupyter environment, please rerun this cell to show the HTML representation or trust the notebook. <br />On GitHub, the HTML representation is unable to render, please try loading this page with nbviewer.org.</b></div><div class=\"sk-container\" hidden><div class=\"sk-item\"><div class=\"sk-estimator sk-toggleable\"><input class=\"sk-toggleable__control sk-hidden--visually\" id=\"sk-estimator-id-8\" type=\"checkbox\" checked><label for=\"sk-estimator-id-8\" class=\"sk-toggleable__label sk-toggleable__label-arrow\">PCA</label><div class=\"sk-toggleable__content\"><pre>PCA()</pre></div></div></div></div></div>"
          },
          "metadata": {}
        }
      ],
      "execution_count": null
    },
    {
      "cell_type": "code",
      "source": [
        "cumulative_variance = np.cumsum(pca.explained_variance_ratio_)"
      ],
      "metadata": {
        "trusted": true,
        "execution": {
          "iopub.status.busy": "2025-03-24T14:02:42.175876Z",
          "iopub.execute_input": "2025-03-24T14:02:42.176243Z",
          "iopub.status.idle": "2025-03-24T14:02:42.184390Z",
          "shell.execute_reply.started": "2025-03-24T14:02:42.176210Z",
          "shell.execute_reply": "2025-03-24T14:02:42.181609Z"
        },
        "id": "ih8dz52Vd3Jx"
      },
      "outputs": [],
      "execution_count": null
    },
    {
      "cell_type": "code",
      "source": [
        "np.sum(pca.explained_variance_ratio_[0:40])"
      ],
      "metadata": {
        "trusted": true,
        "execution": {
          "iopub.status.busy": "2025-03-24T14:02:42.188311Z",
          "iopub.execute_input": "2025-03-24T14:02:42.188747Z",
          "iopub.status.idle": "2025-03-24T14:02:42.218091Z",
          "shell.execute_reply.started": "2025-03-24T14:02:42.188710Z",
          "shell.execute_reply": "2025-03-24T14:02:42.216872Z"
        },
        "id": "zeIM6drvd3Jx",
        "outputId": "1b9d99bb-7a73-4851-e14b-96aa7a98abdd"
      },
      "outputs": [
        {
          "execution_count": 92,
          "output_type": "execute_result",
          "data": {
            "text/plain": "0.9999999914350935"
          },
          "metadata": {}
        }
      ],
      "execution_count": null
    },
    {
      "cell_type": "code",
      "source": [
        "num_comp= np.argmax(cumulative_variance >= 0.70) + 1"
      ],
      "metadata": {
        "trusted": true,
        "execution": {
          "iopub.status.busy": "2025-03-24T14:02:42.220229Z",
          "iopub.execute_input": "2025-03-24T14:02:42.220635Z",
          "iopub.status.idle": "2025-03-24T14:02:42.247597Z",
          "shell.execute_reply.started": "2025-03-24T14:02:42.220600Z",
          "shell.execute_reply": "2025-03-24T14:02:42.246523Z"
        },
        "id": "O84N44-Nd3Jy"
      },
      "outputs": [],
      "execution_count": null
    },
    {
      "cell_type": "code",
      "source": [
        "pc = PCA(n_components=num_comp)\n",
        "new_X = pc.fit_transform(X)"
      ],
      "metadata": {
        "trusted": true,
        "execution": {
          "iopub.status.busy": "2025-03-24T14:02:42.249730Z",
          "iopub.execute_input": "2025-03-24T14:02:42.250558Z",
          "iopub.status.idle": "2025-03-24T14:02:42.796332Z",
          "shell.execute_reply.started": "2025-03-24T14:02:42.250512Z",
          "shell.execute_reply": "2025-03-24T14:02:42.793591Z"
        },
        "id": "s6XeojnKd3Jy"
      },
      "outputs": [],
      "execution_count": null
    },
    {
      "cell_type": "code",
      "source": [
        "X_pca = pc.fit_transform(X)\n",
        "X_pca.shape"
      ],
      "metadata": {
        "trusted": true,
        "execution": {
          "iopub.status.busy": "2025-03-24T14:02:42.799010Z",
          "iopub.execute_input": "2025-03-24T14:02:42.799535Z",
          "iopub.status.idle": "2025-03-24T14:02:43.402792Z",
          "shell.execute_reply.started": "2025-03-24T14:02:42.799459Z",
          "shell.execute_reply": "2025-03-24T14:02:43.400672Z"
        },
        "id": "LM5DUV7Sd3Jy",
        "outputId": "a3e87500-7f2f-447f-c358-9fc1b50dfd7d"
      },
      "outputs": [
        {
          "execution_count": 95,
          "output_type": "execute_result",
          "data": {
            "text/plain": "(96695, 1)"
          },
          "metadata": {}
        }
      ],
      "execution_count": null
    },
    {
      "cell_type": "code",
      "source": [
        "pc = PCA(n_components=num_comp)\n",
        "new_X = pc.fit_transform(X)"
      ],
      "metadata": {
        "trusted": true,
        "execution": {
          "iopub.status.busy": "2025-03-24T14:02:43.403663Z",
          "iopub.execute_input": "2025-03-24T14:02:43.404033Z",
          "iopub.status.idle": "2025-03-24T14:02:44.007020Z",
          "shell.execute_reply.started": "2025-03-24T14:02:43.403995Z",
          "shell.execute_reply": "2025-03-24T14:02:44.005635Z"
        },
        "id": "ObNqA2MZd3Jy"
      },
      "outputs": [],
      "execution_count": null
    },
    {
      "cell_type": "code",
      "source": [
        "X_reconstructed = pc.inverse_transform(new_X)\n",
        "mse = mean_squared_error(X, X_reconstructed)"
      ],
      "metadata": {
        "trusted": true,
        "execution": {
          "iopub.status.busy": "2025-03-24T14:02:44.008203Z",
          "iopub.execute_input": "2025-03-24T14:02:44.008783Z",
          "iopub.status.idle": "2025-03-24T14:02:44.238490Z",
          "shell.execute_reply.started": "2025-03-24T14:02:44.008727Z",
          "shell.execute_reply": "2025-03-24T14:02:44.237365Z"
        },
        "id": "yWT9vGRTd3Jy"
      },
      "outputs": [],
      "execution_count": null
    },
    {
      "cell_type": "code",
      "source": [
        "from sklearn.feature_selection import SelectKBest, f_classif\n",
        "sel = SelectKBest(score_func= f_classif,k=15)\n",
        "new_X = sel.fit_transform(X,y)\n",
        "print(list(X.columns[sel.get_support()]))\n",
        "ind = np.argmax(sel.scores_[sel.get_support()])\n",
        "sel.scores_[sel.get_support()][ind]"
      ],
      "metadata": {
        "trusted": true,
        "execution": {
          "iopub.status.busy": "2025-03-24T14:02:44.239658Z",
          "iopub.execute_input": "2025-03-24T14:02:44.240066Z",
          "iopub.status.idle": "2025-03-24T14:02:44.438509Z",
          "shell.execute_reply.started": "2025-03-24T14:02:44.240026Z",
          "shell.execute_reply": "2025-03-24T14:02:44.437451Z"
        },
        "id": "oRSkM52xd3Jy",
        "outputId": "4c480af9-3d4b-40bb-e60f-89c357a13328"
      },
      "outputs": [
        {
          "name": "stdout",
          "text": "['EngineVersion', 'RealTimeProtectionState', 'AntivirusConfigID', 'NumAntivirusProductsInstalled', 'Processor', 'IsSystemProtected', 'ProcessorCoreCount', 'PrimaryDiskCapacityMB', 'TotalPhysicalRAMMB', 'PowerPlatformRole', 'OSArchitecture', 'IsTouchEnabled', 'IsAlwaysOnAlwaysConnectedCapable', 'IsGamer', 'DateOS']\n",
          "output_type": "stream"
        },
        {
          "name": "stderr",
          "text": "/usr/local/lib/python3.10/dist-packages/sklearn/feature_selection/_univariate_selection.py:112: UserWarning: Features [ 5 25 31 62] are constant.\n  warnings.warn(\"Features %s are constant.\" % constant_features_idx, UserWarning)\n/usr/local/lib/python3.10/dist-packages/sklearn/feature_selection/_univariate_selection.py:113: RuntimeWarning: invalid value encountered in divide\n  f = msb / msw\n",
          "output_type": "stream"
        },
        {
          "execution_count": 98,
          "output_type": "execute_result",
          "data": {
            "text/plain": "2286.234765743059"
          },
          "metadata": {}
        }
      ],
      "execution_count": null
    },
    {
      "cell_type": "code",
      "source": [
        "from sklearn.linear_model import Ridge,Lasso\n",
        "rid = Ridge()"
      ],
      "metadata": {
        "trusted": true,
        "execution": {
          "iopub.status.busy": "2025-03-24T14:02:44.439616Z",
          "iopub.execute_input": "2025-03-24T14:02:44.440051Z",
          "iopub.status.idle": "2025-03-24T14:02:44.444844Z",
          "shell.execute_reply.started": "2025-03-24T14:02:44.440011Z",
          "shell.execute_reply": "2025-03-24T14:02:44.443691Z"
        },
        "id": "qeFn77mNd3Jz"
      },
      "outputs": [],
      "execution_count": null
    },
    {
      "cell_type": "code",
      "source": [
        "X_train, X_test, y_train, y_test = train_test_split(X, y, test_size=0.2, random_state=42)"
      ],
      "metadata": {
        "trusted": true,
        "execution": {
          "iopub.status.busy": "2025-03-24T14:02:44.446194Z",
          "iopub.execute_input": "2025-03-24T14:02:44.446526Z",
          "iopub.status.idle": "2025-03-24T14:02:44.551164Z",
          "shell.execute_reply.started": "2025-03-24T14:02:44.446465Z",
          "shell.execute_reply": "2025-03-24T14:02:44.550042Z"
        },
        "id": "mydneAIEd3Jz"
      },
      "outputs": [],
      "execution_count": null
    },
    {
      "cell_type": "code",
      "source": [
        "rid.fit(X_train,y_train)\n",
        "y_pred= rid.predict(X_test)\n",
        "print(r2_score(y_test,y_pred))\n",
        "rid.coef_"
      ],
      "metadata": {
        "trusted": true,
        "execution": {
          "iopub.status.busy": "2025-03-24T14:02:44.552270Z",
          "iopub.execute_input": "2025-03-24T14:02:44.552710Z",
          "iopub.status.idle": "2025-03-24T14:02:44.653245Z",
          "shell.execute_reply.started": "2025-03-24T14:02:44.552655Z",
          "shell.execute_reply": "2025-03-24T14:02:44.651581Z"
        },
        "id": "qIsAZ3hLd3Jz",
        "outputId": "a7bb20ab-3edb-4712-ec49-ecb06fc279ef"
      },
      "outputs": [
        {
          "name": "stdout",
          "text": "0.053808843903418335\n",
          "output_type": "stream"
        },
        {
          "execution_count": 101,
          "output_type": "execute_result",
          "data": {
            "text/plain": "array([ 5.04777820e-08, -2.47286528e-01,  1.29799643e-02,  2.45761273e-04,\n        1.10969279e-06,  0.00000000e+00,  2.53404173e-02,  1.49047638e-02,\n        2.71909820e-02, -6.24521531e-02, -5.44999900e-03,  4.94969316e-03,\n       -3.06630557e-03, -1.94719853e-03, -8.08729049e-04,  1.40729870e-02,\n        1.76110912e-01, -1.35859277e-01, -5.86023507e-02, -3.19302018e-02,\n        3.75752540e-02, -5.15353629e-03,  1.45758575e-03, -1.10138433e-02,\n        2.97393605e-02,  0.00000000e+00, -8.52965349e-03, -2.07355823e-02,\n        3.39949179e-03,  1.51108154e-05, -5.47933504e-03,  0.00000000e+00,\n       -1.76044062e-03,  2.38272624e-03,  8.68166350e-03, -9.22195102e-04,\n        3.51972420e-03,  3.29200115e-02,  2.39673521e-03, -2.73064996e-02,\n        1.12073512e-02,  1.05580943e-02,  8.06150684e-04, -9.51800757e-04,\n        1.92393412e-02, -1.99476709e-02, -2.93250087e-03, -1.06505965e-02,\n       -1.26254622e-03,  2.85455520e-02,  1.22745644e-02,  6.64147659e-02,\n        9.48731611e-03,  9.35480053e-03,  2.47169683e-03,  4.59881352e-03,\n        2.99265893e-02, -3.37320782e-02, -3.01505479e-03,  3.99208343e-03,\n        2.23093855e-02, -7.73438513e-03,  0.00000000e+00, -2.22572060e-02,\n        9.83362193e-04,  2.88576836e-03,  9.54905476e-03, -1.93842912e-02,\n       -1.43916778e-02,  3.19641024e-03, -1.93224326e-02,  2.18385335e-02,\n       -6.43894621e-03, -3.63032915e-05,  1.84700130e-04])"
          },
          "metadata": {}
        }
      ],
      "execution_count": null
    },
    {
      "cell_type": "code",
      "source": [
        "las = Lasso()\n",
        "las.fit(X_train,y_train)\n",
        "y_pred = las.predict(X_test)\n",
        "print(r2_score(y_test,y_pred))\n",
        "las.coef_"
      ],
      "metadata": {
        "trusted": true,
        "execution": {
          "iopub.status.busy": "2025-03-24T14:02:44.654471Z",
          "iopub.execute_input": "2025-03-24T14:02:44.655010Z",
          "iopub.status.idle": "2025-03-24T14:02:44.840291Z",
          "shell.execute_reply.started": "2025-03-24T14:02:44.654962Z",
          "shell.execute_reply": "2025-03-24T14:02:44.837375Z"
        },
        "id": "UKNsIXcod3Jz",
        "outputId": "376c723b-8120-4149-b865-acad6def54d0"
      },
      "outputs": [
        {
          "name": "stdout",
          "text": "0.001932878943698424\n",
          "output_type": "stream"
        },
        {
          "execution_count": 102,
          "output_type": "execute_result",
          "data": {
            "text/plain": "array([ 3.53423658e-08,  0.00000000e+00,  0.00000000e+00,  0.00000000e+00,\n        3.63835666e-05,  0.00000000e+00,  0.00000000e+00, -0.00000000e+00,\n        0.00000000e+00, -0.00000000e+00, -0.00000000e+00,  0.00000000e+00,\n        0.00000000e+00, -0.00000000e+00,  0.00000000e+00,  0.00000000e+00,\n        0.00000000e+00, -0.00000000e+00,  0.00000000e+00,  0.00000000e+00,\n       -0.00000000e+00,  0.00000000e+00,  0.00000000e+00,  0.00000000e+00,\n        0.00000000e+00,  0.00000000e+00, -0.00000000e+00,  0.00000000e+00,\n        0.00000000e+00, -0.00000000e+00, -0.00000000e+00,  0.00000000e+00,\n       -0.00000000e+00, -0.00000000e+00,  0.00000000e+00,  0.00000000e+00,\n        0.00000000e+00,  0.00000000e+00, -0.00000000e+00,  0.00000000e+00,\n        0.00000000e+00,  0.00000000e+00, -0.00000000e+00,  0.00000000e+00,\n        0.00000000e+00,  0.00000000e+00, -0.00000000e+00,  0.00000000e+00,\n        0.00000000e+00, -0.00000000e+00,  0.00000000e+00,  0.00000000e+00,\n       -0.00000000e+00,  0.00000000e+00,  0.00000000e+00, -0.00000000e+00,\n       -0.00000000e+00, -0.00000000e+00, -0.00000000e+00,  0.00000000e+00,\n        0.00000000e+00,  0.00000000e+00,  0.00000000e+00, -0.00000000e+00,\n       -0.00000000e+00,  0.00000000e+00,  0.00000000e+00, -0.00000000e+00,\n       -0.00000000e+00, -0.00000000e+00, -0.00000000e+00,  0.00000000e+00,\n       -0.00000000e+00,  1.94026671e-05,  0.00000000e+00])"
          },
          "metadata": {}
        }
      ],
      "execution_count": null
    },
    {
      "cell_type": "code",
      "source": [
        "from sklearn.feature_selection import VarianceThreshold   #to remove the features with variance less than the threshold\n",
        "vt = VarianceThreshold(threshold=0.2)\n",
        "new_X = vt.fit_transform(X)\n",
        "new_X.shape"
      ],
      "metadata": {
        "trusted": true,
        "execution": {
          "iopub.status.busy": "2025-03-24T14:02:44.842450Z",
          "iopub.execute_input": "2025-03-24T14:02:44.843009Z",
          "iopub.status.idle": "2025-03-24T14:02:45.031208Z",
          "shell.execute_reply.started": "2025-03-24T14:02:44.842958Z",
          "shell.execute_reply": "2025-03-24T14:02:45.030315Z"
        },
        "id": "9D96WGoBd3Jz",
        "outputId": "2ee8448e-1d17-4dae-b6b4-5d1f950dc252"
      },
      "outputs": [
        {
          "execution_count": 103,
          "output_type": "execute_result",
          "data": {
            "text/plain": "(96695, 66)"
          },
          "metadata": {}
        }
      ],
      "execution_count": null
    },
    {
      "cell_type": "markdown",
      "source": [
        "# Milestone 5"
      ],
      "metadata": {
        "id": "Uk3q3x6Jd3J0"
      }
    },
    {
      "cell_type": "code",
      "source": [
        "df = pd.read_csv('/kaggle/input/System-Threat-Forecaster/train.csv')\n",
        "y = df['target']\n",
        "X = df.drop('target', axis=1)\n",
        "y.isna().sum()\n",
        "X.shape"
      ],
      "metadata": {
        "trusted": true,
        "execution": {
          "iopub.status.busy": "2025-03-24T14:02:45.032215Z",
          "iopub.execute_input": "2025-03-24T14:02:45.032496Z",
          "iopub.status.idle": "2025-03-24T14:02:46.281411Z",
          "shell.execute_reply.started": "2025-03-24T14:02:45.032455Z",
          "shell.execute_reply": "2025-03-24T14:02:46.280211Z"
        },
        "id": "8oUqsIHvd3J0",
        "outputId": "b1a5de99-bb51-4c56-9bca-399592b0f016"
      },
      "outputs": [
        {
          "execution_count": 104,
          "output_type": "execute_result",
          "data": {
            "text/plain": "(100000, 75)"
          },
          "metadata": {}
        }
      ],
      "execution_count": null
    },
    {
      "cell_type": "code",
      "source": [
        "real_test = pd.read_csv('/kaggle/input/System-Threat-Forecaster/test.csv')"
      ],
      "metadata": {
        "trusted": true,
        "execution": {
          "iopub.status.busy": "2025-03-24T14:02:46.282595Z",
          "iopub.execute_input": "2025-03-24T14:02:46.282924Z",
          "iopub.status.idle": "2025-03-24T14:02:46.414708Z",
          "shell.execute_reply.started": "2025-03-24T14:02:46.282894Z",
          "shell.execute_reply": "2025-03-24T14:02:46.413685Z"
        },
        "id": "R9TRoXZUd3J0"
      },
      "outputs": [],
      "execution_count": null
    },
    {
      "cell_type": "code",
      "source": [
        "p_ss = Pipeline([\n",
        "    ('imputer', SimpleImputer(strategy='mean')),\n",
        "    ('scaler', StandardScaler())\n",
        "])\n",
        "\n",
        "p_ord = Pipeline([\n",
        "    ('imputer', SimpleImputer(strategy='most_frequent')),\n",
        "    ('scaler', OrdinalEncoder(handle_unknown='use_encoded_value',unknown_value = -1))\n",
        "])"
      ],
      "metadata": {
        "trusted": true,
        "execution": {
          "iopub.status.busy": "2025-03-24T14:02:46.415847Z",
          "iopub.execute_input": "2025-03-24T14:02:46.416254Z",
          "iopub.status.idle": "2025-03-24T14:02:46.427872Z",
          "shell.execute_reply.started": "2025-03-24T14:02:46.416220Z",
          "shell.execute_reply": "2025-03-24T14:02:46.426646Z"
        },
        "id": "TP3yuMidd3J0"
      },
      "outputs": [],
      "execution_count": null
    },
    {
      "cell_type": "code",
      "source": [
        "num_cols = X.select_dtypes(include=['int64', 'float64']).columns\n",
        "obj_cols = X.select_dtypes(include=['object']).columns"
      ],
      "metadata": {
        "trusted": true,
        "execution": {
          "iopub.status.busy": "2025-03-24T14:02:46.429005Z",
          "iopub.execute_input": "2025-03-24T14:02:46.429313Z",
          "iopub.status.idle": "2025-03-24T14:02:46.480539Z",
          "shell.execute_reply.started": "2025-03-24T14:02:46.429282Z",
          "shell.execute_reply": "2025-03-24T14:02:46.479502Z"
        },
        "id": "hn4zflPmd3J0"
      },
      "outputs": [],
      "execution_count": null
    },
    {
      "cell_type": "code",
      "source": [
        "X[num_cols] = p_ss.fit_transform(X[num_cols])\n",
        "X[obj_cols] = p_ord.fit_transform(X[obj_cols])"
      ],
      "metadata": {
        "trusted": true,
        "execution": {
          "iopub.status.busy": "2025-03-24T14:02:46.481706Z",
          "iopub.execute_input": "2025-03-24T14:02:46.482032Z",
          "iopub.status.idle": "2025-03-24T14:02:48.297417Z",
          "shell.execute_reply.started": "2025-03-24T14:02:46.482003Z",
          "shell.execute_reply": "2025-03-24T14:02:48.296286Z"
        },
        "id": "RaHskEEHd3J0"
      },
      "outputs": [],
      "execution_count": null
    },
    {
      "cell_type": "code",
      "source": [
        "X_train, X_test, y_train, y_test = train_test_split(X, y, test_size=0.2, random_state=42)"
      ],
      "metadata": {
        "trusted": true,
        "execution": {
          "iopub.status.busy": "2025-03-24T14:02:48.298617Z",
          "iopub.execute_input": "2025-03-24T14:02:48.298942Z",
          "iopub.status.idle": "2025-03-24T14:02:48.392518Z",
          "shell.execute_reply.started": "2025-03-24T14:02:48.298912Z",
          "shell.execute_reply": "2025-03-24T14:02:48.391349Z"
        },
        "id": "J2loIXbyd3J1"
      },
      "outputs": [],
      "execution_count": null
    },
    {
      "cell_type": "code",
      "source": [
        "dtr = DecisionTreeClassifier(random_state=42)\n",
        "dtr.fit(X_train,y_train)\n",
        "y_pred = dtr.predict(X_test)\n",
        "accuracy_score(y_test,y_pred)"
      ],
      "metadata": {
        "trusted": true,
        "execution": {
          "iopub.status.busy": "2025-03-24T14:02:48.393621Z",
          "iopub.execute_input": "2025-03-24T14:02:48.393912Z",
          "iopub.status.idle": "2025-03-24T14:02:48.397763Z",
          "shell.execute_reply.started": "2025-03-24T14:02:48.393887Z",
          "shell.execute_reply": "2025-03-24T14:02:48.396746Z"
        },
        "id": "4eS_18J-d3J1"
      },
      "outputs": [],
      "execution_count": null
    },
    {
      "cell_type": "code",
      "source": [
        "print(ConfusionMatrixDisplay.from_predictions(y_test,y_pred))"
      ],
      "metadata": {
        "trusted": true,
        "execution": {
          "iopub.status.busy": "2025-03-24T14:02:48.398979Z",
          "iopub.execute_input": "2025-03-24T14:02:48.399283Z",
          "iopub.status.idle": "2025-03-24T14:02:48.418156Z",
          "shell.execute_reply.started": "2025-03-24T14:02:48.399256Z",
          "shell.execute_reply": "2025-03-24T14:02:48.416793Z"
        },
        "id": "7AM9RG3bd3J1"
      },
      "outputs": [],
      "execution_count": null
    },
    {
      "cell_type": "code",
      "source": [
        "precision_score(y_test,y_pred,pos_label = 0)"
      ],
      "metadata": {
        "trusted": true,
        "execution": {
          "iopub.status.busy": "2025-03-24T14:02:48.419299Z",
          "iopub.execute_input": "2025-03-24T14:02:48.419669Z",
          "iopub.status.idle": "2025-03-24T14:02:48.438890Z",
          "shell.execute_reply.started": "2025-03-24T14:02:48.419634Z",
          "shell.execute_reply": "2025-03-24T14:02:48.437770Z"
        },
        "id": "odZn7XkJd3J1"
      },
      "outputs": [],
      "execution_count": null
    },
    {
      "cell_type": "code",
      "source": [
        "ada = AdaBoostClassifier( n_estimators=10, learning_rate=10, random_state=42)\n",
        "ada.fit(X_train,y_train)\n",
        "y_pred = ada.predict(X_test)\n",
        "print(accuracy_score(y_test,y_pred))\n",
        "print(ConfusionMatrixDisplay.from_predictions(y_test,y_pred))"
      ],
      "metadata": {
        "trusted": true,
        "execution": {
          "iopub.status.busy": "2025-03-24T14:02:48.439966Z",
          "iopub.execute_input": "2025-03-24T14:02:48.440284Z",
          "iopub.status.idle": "2025-03-24T14:02:48.458749Z",
          "shell.execute_reply.started": "2025-03-24T14:02:48.440254Z",
          "shell.execute_reply": "2025-03-24T14:02:48.457547Z"
        },
        "id": "26IJE5fsd3J1"
      },
      "outputs": [],
      "execution_count": null
    },
    {
      "cell_type": "code",
      "source": [
        "recall_score(y_test,y_pred,pos_label = 1)"
      ],
      "metadata": {
        "trusted": true,
        "execution": {
          "iopub.status.busy": "2025-03-24T14:02:48.459773Z",
          "iopub.execute_input": "2025-03-24T14:02:48.460191Z",
          "iopub.status.idle": "2025-03-24T14:02:48.484905Z",
          "shell.execute_reply.started": "2025-03-24T14:02:48.460135Z",
          "shell.execute_reply": "2025-03-24T14:02:48.483608Z"
        },
        "id": "cSposgVQd3J1"
      },
      "outputs": [],
      "execution_count": null
    },
    {
      "cell_type": "code",
      "source": [
        "lg = LogisticRegression()\n",
        "lg.fit(X_train,y_train)\n",
        "y_pred = lg.predict(X_test)"
      ],
      "metadata": {
        "trusted": true,
        "execution": {
          "iopub.status.busy": "2025-03-24T14:02:48.486010Z",
          "iopub.execute_input": "2025-03-24T14:02:48.486387Z",
          "iopub.status.idle": "2025-03-24T14:02:49.745347Z",
          "shell.execute_reply.started": "2025-03-24T14:02:48.486357Z",
          "shell.execute_reply": "2025-03-24T14:02:49.740512Z"
        },
        "id": "UopiOjZOd3J2"
      },
      "outputs": [],
      "execution_count": null
    },
    {
      "cell_type": "code",
      "source": [
        "accuracy_score(y_test,y_pred)"
      ],
      "metadata": {
        "trusted": true,
        "execution": {
          "iopub.status.busy": "2025-03-24T14:02:49.746641Z",
          "iopub.execute_input": "2025-03-24T14:02:49.747095Z",
          "iopub.status.idle": "2025-03-24T14:02:49.773928Z",
          "shell.execute_reply.started": "2025-03-24T14:02:49.747049Z",
          "shell.execute_reply": "2025-03-24T14:02:49.772445Z"
        },
        "id": "6jWmkOkpd3J2",
        "outputId": "d55282db-7f36-4e8a-8765-fe84ae7fc40e"
      },
      "outputs": [
        {
          "execution_count": 116,
          "output_type": "execute_result",
          "data": {
            "text/plain": "0.53525"
          },
          "metadata": {}
        }
      ],
      "execution_count": null
    },
    {
      "cell_type": "code",
      "source": [
        "recall_score(y_test,y_pred,pos_label = 1)"
      ],
      "metadata": {
        "trusted": true,
        "execution": {
          "iopub.status.busy": "2025-03-24T14:02:49.775031Z",
          "iopub.execute_input": "2025-03-24T14:02:49.775525Z",
          "iopub.status.idle": "2025-03-24T14:02:49.815030Z",
          "shell.execute_reply.started": "2025-03-24T14:02:49.775435Z",
          "shell.execute_reply": "2025-03-24T14:02:49.813025Z"
        },
        "id": "9hxrLz8ld3J2",
        "outputId": "c9c29987-5376-4559-eed5-7428e86870c3"
      },
      "outputs": [
        {
          "execution_count": 117,
          "output_type": "execute_result",
          "data": {
            "text/plain": "0.7754396364354871"
          },
          "metadata": {}
        }
      ],
      "execution_count": null
    },
    {
      "cell_type": "markdown",
      "source": [
        "# Models"
      ],
      "metadata": {
        "id": "BGTotUtOd3J2"
      }
    },
    {
      "cell_type": "code",
      "source": [
        "import pandas as pd\n",
        "import numpy as np\n",
        "from sklearn.model_selection import train_test_split,GridSearchCV\n",
        "from sklearn.linear_model import LogisticRegression,LinearRegression,SGDClassifier,SGDRegressor\n",
        "from sklearn.metrics import accuracy_score,mean_squared_error,r2_score\n",
        "from sklearn.linear_model import LinearRegression\n",
        "from sklearn.compose import ColumnTransformer\n",
        "from sklearn.preprocessing import StandardScaler,OneHotEncoder,LabelBinarizer,MultiLabelBinarizer,OrdinalEncoder,PolynomialFeatures\n",
        "from sklearn.impute import SimpleImputer\n",
        "from sklearn.decomposition import PCA\n",
        "import matplotlib.pyplot as plt\n",
        "import seaborn as sns\n",
        "from sklearn.ensemble import GradientBoostingClassifier\n",
        "from sklearn.metrics import ConfusionMatrixDisplay,confusion_matrix\n",
        "from xgboost import XGBClassifier"
      ],
      "metadata": {
        "trusted": true,
        "execution": {
          "iopub.status.busy": "2025-03-24T14:02:49.816502Z",
          "iopub.execute_input": "2025-03-24T14:02:49.817067Z",
          "iopub.status.idle": "2025-03-24T14:02:49.835697Z",
          "shell.execute_reply.started": "2025-03-24T14:02:49.817015Z",
          "shell.execute_reply": "2025-03-24T14:02:49.834390Z"
        },
        "id": "a1eNQz5pd3J2"
      },
      "outputs": [],
      "execution_count": null
    },
    {
      "cell_type": "markdown",
      "source": [
        "# Considering only Numeric Columns"
      ],
      "metadata": {
        "id": "ok8AP2FEd3J3"
      }
    },
    {
      "cell_type": "code",
      "source": [
        "df = pd.read_csv(\"/kaggle/input/System-Threat-Forecaster/train.csv\")\n",
        "y = df['target']\n",
        "X = df.drop('target', axis=1)\n",
        "y.isna().sum()"
      ],
      "metadata": {
        "trusted": true,
        "execution": {
          "iopub.status.busy": "2025-03-24T14:02:49.836793Z",
          "iopub.execute_input": "2025-03-24T14:02:49.837260Z",
          "iopub.status.idle": "2025-03-24T14:02:51.142512Z",
          "shell.execute_reply.started": "2025-03-24T14:02:49.837221Z",
          "shell.execute_reply": "2025-03-24T14:02:51.141604Z"
        },
        "id": "vzz-cV5Td3J3",
        "outputId": "03dfd471-76da-4688-ef99-e2dafbc0a052"
      },
      "outputs": [
        {
          "execution_count": 119,
          "output_type": "execute_result",
          "data": {
            "text/plain": "0"
          },
          "metadata": {}
        }
      ],
      "execution_count": null
    },
    {
      "cell_type": "code",
      "source": [
        "real_test = pd.read_csv('/kaggle/input/System-Threat-Forecaster/test.csv')"
      ],
      "metadata": {
        "trusted": true,
        "execution": {
          "iopub.status.busy": "2025-03-24T14:02:51.143347Z",
          "iopub.execute_input": "2025-03-24T14:02:51.143652Z",
          "iopub.status.idle": "2025-03-24T14:02:51.273110Z",
          "shell.execute_reply.started": "2025-03-24T14:02:51.143623Z",
          "shell.execute_reply": "2025-03-24T14:02:51.271924Z"
        },
        "id": "ER3g4vEUd3J3"
      },
      "outputs": [],
      "execution_count": null
    },
    {
      "cell_type": "code",
      "source": [
        "real_test.shape"
      ],
      "metadata": {
        "trusted": true,
        "execution": {
          "iopub.status.busy": "2025-03-24T14:02:51.274130Z",
          "iopub.execute_input": "2025-03-24T14:02:51.274414Z",
          "iopub.status.idle": "2025-03-24T14:02:51.280719Z",
          "shell.execute_reply.started": "2025-03-24T14:02:51.274390Z",
          "shell.execute_reply": "2025-03-24T14:02:51.279797Z"
        },
        "id": "HyMe8P4Rd3J3",
        "outputId": "7112c36e-3b43-4148-af1d-fcd3e6b72596"
      },
      "outputs": [
        {
          "execution_count": 121,
          "output_type": "execute_result",
          "data": {
            "text/plain": "(10000, 75)"
          },
          "metadata": {}
        }
      ],
      "execution_count": null
    },
    {
      "cell_type": "code",
      "source": [
        "cat_cols = X.select_dtypes(include=['object']).columns\n",
        "num_cols = X.select_dtypes(include=['int64', 'float64']).columns"
      ],
      "metadata": {
        "trusted": true,
        "execution": {
          "iopub.status.busy": "2025-03-24T14:02:51.281746Z",
          "iopub.execute_input": "2025-03-24T14:02:51.282116Z",
          "iopub.status.idle": "2025-03-24T14:02:51.331703Z",
          "shell.execute_reply.started": "2025-03-24T14:02:51.282070Z",
          "shell.execute_reply": "2025-03-24T14:02:51.330514Z"
        },
        "id": "j7stLTSpd3J3"
      },
      "outputs": [],
      "execution_count": null
    },
    {
      "cell_type": "code",
      "source": [
        "for i in num_cols:\n",
        "    print(i,len(real_test[i].unique()))"
      ],
      "metadata": {
        "trusted": true,
        "execution": {
          "iopub.status.busy": "2025-03-24T14:02:51.332982Z",
          "iopub.execute_input": "2025-03-24T14:02:51.333399Z",
          "iopub.status.idle": "2025-03-24T14:02:51.367721Z",
          "shell.execute_reply.started": "2025-03-24T14:02:51.333365Z",
          "shell.execute_reply": "2025-03-24T14:02:51.366699Z"
        },
        "id": "p7yVt6KTd3J3",
        "outputId": "cca98d88-e92f-4b71-e989-61c9fcf28d63"
      },
      "outputs": [
        {
          "name": "stdout",
          "text": "IsBetaUser 1\nRealTimeProtectionState 7\nIsPassiveModeEnabled 2\nAntivirusConfigID 471\nNumAntivirusProductsInstalled 6\nNumAntivirusProductsEnabled 6\nHasTpm 2\nCountryID 196\nCityID 3722\nGeoRegionID 170\nLocaleEnglishNameID 130\nOSBuildNumber 20\nOSProductSuite 3\nIsSystemProtected 3\nAutoSampleSubmissionEnabled 1\nSMode 3\nIEVersionID 71\nFirewallEnabled 3\nEnableLUA 2\nOEMNameID 268\nOEMModelID 3866\nProcessorCoreCount 11\nProcessorManufacturerID 4\nProcessorModelID 906\nPrimaryDiskCapacityMB 140\nSystemVolumeCapacityMB 6645\nHasOpticalDiskDrive 2\nTotalPhysicalRAMMB 32\nPrimaryDisplayDiagonalInches 188\nPrimaryDisplayResolutionHorizontal 50\nPrimaryDisplayResolutionVertical 48\nInternalBatteryNumberOfCharges 516\nOSBuildNumberOnly 16\nOSBuildRevisionOnly 161\nOSInstallLanguageID 40\nOSUILocaleID 46\nIsPortableOS 2\nIsFlightsDisabled 2\nFirmwareManufacturerID 70\nFirmwareVersionID 3452\nIsSecureBootEnabled 2\nIsVirtualDevice 3\nIsTouchEnabled 2\nIsPenCapable 2\nIsAlwaysOnAlwaysConnectedCapable 3\nIsGamer 3\nRegionIdentifier 16\n",
          "output_type": "stream"
        }
      ],
      "execution_count": null
    },
    {
      "cell_type": "code",
      "source": [
        "X = X.drop(columns=[\"IsBetaUser\", \"AutoSampleSubmissionEnabled\"])\n",
        "num_cols = X.select_dtypes(include=['int64', 'float64']).columns\n",
        "X[num_cols] = SimpleImputer(strategy = 'mean').fit_transform(X[num_cols])\n",
        "X[num_cols].isna().sum()"
      ],
      "metadata": {
        "trusted": true,
        "execution": {
          "iopub.status.busy": "2025-03-24T14:02:51.368621Z",
          "iopub.execute_input": "2025-03-24T14:02:51.368982Z",
          "iopub.status.idle": "2025-03-24T14:02:51.557915Z",
          "shell.execute_reply.started": "2025-03-24T14:02:51.368948Z",
          "shell.execute_reply": "2025-03-24T14:02:51.556818Z"
        },
        "id": "nWPtr8dOd3J4",
        "outputId": "f61f4256-0de5-43a7-e7eb-b2968481732d"
      },
      "outputs": [
        {
          "execution_count": 124,
          "output_type": "execute_result",
          "data": {
            "text/plain": "RealTimeProtectionState               0\nIsPassiveModeEnabled                  0\nAntivirusConfigID                     0\nNumAntivirusProductsInstalled         0\nNumAntivirusProductsEnabled           0\nHasTpm                                0\nCountryID                             0\nCityID                                0\nGeoRegionID                           0\nLocaleEnglishNameID                   0\nOSBuildNumber                         0\nOSProductSuite                        0\nIsSystemProtected                     0\nSMode                                 0\nIEVersionID                           0\nFirewallEnabled                       0\nEnableLUA                             0\nOEMNameID                             0\nOEMModelID                            0\nProcessorCoreCount                    0\nProcessorManufacturerID               0\nProcessorModelID                      0\nPrimaryDiskCapacityMB                 0\nSystemVolumeCapacityMB                0\nHasOpticalDiskDrive                   0\nTotalPhysicalRAMMB                    0\nPrimaryDisplayDiagonalInches          0\nPrimaryDisplayResolutionHorizontal    0\nPrimaryDisplayResolutionVertical      0\nInternalBatteryNumberOfCharges        0\nOSBuildNumberOnly                     0\nOSBuildRevisionOnly                   0\nOSInstallLanguageID                   0\nOSUILocaleID                          0\nIsPortableOS                          0\nIsFlightsDisabled                     0\nFirmwareManufacturerID                0\nFirmwareVersionID                     0\nIsSecureBootEnabled                   0\nIsVirtualDevice                       0\nIsTouchEnabled                        0\nIsPenCapable                          0\nIsAlwaysOnAlwaysConnectedCapable      0\nIsGamer                               0\nRegionIdentifier                      0\ndtype: int64"
          },
          "metadata": {}
        }
      ],
      "execution_count": null
    },
    {
      "cell_type": "code",
      "source": [
        "real_test = real_test.drop(columns = [\"IsBetaUser\",\"AutoSampleSubmissionEnabled\"])"
      ],
      "metadata": {
        "trusted": true,
        "execution": {
          "iopub.status.busy": "2025-03-24T14:02:51.559384Z",
          "iopub.execute_input": "2025-03-24T14:02:51.559847Z",
          "iopub.status.idle": "2025-03-24T14:02:51.568352Z",
          "shell.execute_reply.started": "2025-03-24T14:02:51.559805Z",
          "shell.execute_reply": "2025-03-24T14:02:51.567366Z"
        },
        "id": "0AZukSYOd3J4"
      },
      "outputs": [],
      "execution_count": null
    },
    {
      "cell_type": "code",
      "source": [
        "X['DateOS'][0]"
      ],
      "metadata": {
        "trusted": true,
        "execution": {
          "iopub.status.busy": "2025-03-24T14:02:51.569573Z",
          "iopub.execute_input": "2025-03-24T14:02:51.569870Z",
          "iopub.status.idle": "2025-03-24T14:02:51.590033Z",
          "shell.execute_reply.started": "2025-03-24T14:02:51.569834Z",
          "shell.execute_reply": "2025-03-24T14:02:51.588612Z"
        },
        "id": "0b5diuxAd3J4",
        "outputId": "8ebf2dc7-7762-40a5-c4f1-4418d6f12165"
      },
      "outputs": [
        {
          "execution_count": 126,
          "output_type": "execute_result",
          "data": {
            "text/plain": "'2018-04-17'"
          },
          "metadata": {}
        }
      ],
      "execution_count": null
    },
    {
      "cell_type": "code",
      "source": [
        "X[cat_cols] = X[cat_cols].replace('UNKNOWN', np.nan)\n",
        "X[cat_cols] = X[cat_cols].replace('UNSPECIFIED', np.nan)\n",
        "\n",
        "real_test[cat_cols] = real_test[cat_cols].replace('UNKNOWN', np.nan)\n",
        "real_test[cat_cols] = real_test[cat_cols].replace('UNSPECIFIED', np.nan)\n",
        "\n",
        "# X[num_cols] = SimpleImputer(strategy = 'median').fit_transform(X[num_cols])\n",
        "real_test[num_cols] = SimpleImputer(strategy = 'mean').fit_transform(real_test[num_cols])"
      ],
      "metadata": {
        "trusted": true,
        "execution": {
          "iopub.status.busy": "2025-03-24T14:02:51.591149Z",
          "iopub.execute_input": "2025-03-24T14:02:51.591519Z",
          "iopub.status.idle": "2025-03-24T14:02:52.251843Z",
          "shell.execute_reply.started": "2025-03-24T14:02:51.591462Z",
          "shell.execute_reply": "2025-03-24T14:02:52.250764Z"
        },
        "id": "vgKGwH_Yd3J4"
      },
      "outputs": [],
      "execution_count": null
    },
    {
      "cell_type": "code",
      "source": [
        "X['DateOS'] = pd.to_datetime(X['DateOS'], format='%Y-%m-%d', errors = 'coerce').dt.month\n",
        "X['DateAS'] = pd.to_datetime(X['DateAS'], format='%Y-%m-%d %H:%M:%S', errors = 'coerce').dt.month\n",
        "\n",
        "real_test['DateOS'] = pd.to_datetime(real_test['DateOS'], format='%Y-%m-%d', errors = 'coerce').dt.month\n",
        "real_test['DateAS'] = pd.to_datetime(real_test['DateAS'], format='%Y-%m-%d %H:%M:%S', errors = 'coerce').dt.month"
      ],
      "metadata": {
        "trusted": true,
        "execution": {
          "iopub.status.busy": "2025-03-24T14:02:52.252930Z",
          "iopub.execute_input": "2025-03-24T14:02:52.253239Z",
          "iopub.status.idle": "2025-03-24T14:02:52.310768Z",
          "shell.execute_reply.started": "2025-03-24T14:02:52.253211Z",
          "shell.execute_reply": "2025-03-24T14:02:52.309628Z"
        },
        "id": "GHUUZVp7d3J4"
      },
      "outputs": [],
      "execution_count": null
    },
    {
      "cell_type": "code",
      "source": [
        "obj_cols = X.select_dtypes(include=['object']).columns\n",
        "num_cols = X.select_dtypes(include=['int64', 'float64']).columns"
      ],
      "metadata": {
        "trusted": true,
        "execution": {
          "iopub.status.busy": "2025-03-24T14:02:52.311803Z",
          "iopub.execute_input": "2025-03-24T14:02:52.312129Z",
          "iopub.status.idle": "2025-03-24T14:02:52.395655Z",
          "shell.execute_reply.started": "2025-03-24T14:02:52.312099Z",
          "shell.execute_reply": "2025-03-24T14:02:52.394351Z"
        },
        "id": "jKMX3vKCd3J4"
      },
      "outputs": [],
      "execution_count": null
    },
    {
      "cell_type": "code",
      "source": [
        "num_X = StandardScaler().fit_transform(X[num_cols])\n",
        "real_test[num_cols] = StandardScaler().fit_transform(real_test[num_cols])\n",
        "y = y.fillna(y.mean())"
      ],
      "metadata": {
        "trusted": true,
        "execution": {
          "iopub.status.busy": "2025-03-24T14:02:52.396823Z",
          "iopub.execute_input": "2025-03-24T14:02:52.397189Z",
          "iopub.status.idle": "2025-03-24T14:02:52.582073Z",
          "shell.execute_reply.started": "2025-03-24T14:02:52.397154Z",
          "shell.execute_reply": "2025-03-24T14:02:52.580958Z"
        },
        "id": "hWfWECLYd3J5"
      },
      "outputs": [],
      "execution_count": null
    },
    {
      "cell_type": "code",
      "source": [
        "X_train,X_test, y_train, y_test = train_test_split(num_X, y, test_size=0.2, random_state = 42)"
      ],
      "metadata": {
        "trusted": true,
        "execution": {
          "iopub.status.busy": "2025-03-24T14:02:52.583041Z",
          "iopub.execute_input": "2025-03-24T14:02:52.583352Z",
          "iopub.status.idle": "2025-03-24T14:02:52.667811Z",
          "shell.execute_reply.started": "2025-03-24T14:02:52.583325Z",
          "shell.execute_reply": "2025-03-24T14:02:52.666579Z"
        },
        "id": "nmzJf3Eqd3J5"
      },
      "outputs": [],
      "execution_count": null
    },
    {
      "cell_type": "code",
      "source": [
        "model_lin = LinearRegression()\n",
        "model_lin.fit(X_train, y_train)\n",
        "y_pred = model_lin.predict(X_test)\n",
        "y_pred = model_lin.predict(real_test[num_cols])"
      ],
      "metadata": {
        "trusted": true,
        "execution": {
          "iopub.status.busy": "2025-03-24T14:02:52.669009Z",
          "iopub.execute_input": "2025-03-24T14:02:52.669326Z",
          "iopub.status.idle": "2025-03-24T14:02:52.673621Z",
          "shell.execute_reply.started": "2025-03-24T14:02:52.669298Z",
          "shell.execute_reply": "2025-03-24T14:02:52.672588Z"
        },
        "id": "-62ZYusDd3J5"
      },
      "outputs": [],
      "execution_count": null
    },
    {
      "cell_type": "code",
      "source": [
        "log = LogisticRegression(random_state = 42)\n",
        "log.fit(X_train, y_train)\n",
        "y_pred = log.predict(X_test)\n",
        "accuracy_score(y_test,y_pred)"
      ],
      "metadata": {
        "trusted": true,
        "execution": {
          "iopub.status.busy": "2025-03-24T14:02:52.674598Z",
          "iopub.execute_input": "2025-03-24T14:02:52.674907Z",
          "iopub.status.idle": "2025-03-24T14:02:52.699896Z",
          "shell.execute_reply.started": "2025-03-24T14:02:52.674872Z",
          "shell.execute_reply": "2025-03-24T14:02:52.698554Z"
        },
        "id": "7uBMhbPkd3J5"
      },
      "outputs": [],
      "execution_count": null
    },
    {
      "cell_type": "code",
      "source": [
        "y_pred = model_log.predict(real_test[num_cols])"
      ],
      "metadata": {
        "trusted": true,
        "execution": {
          "iopub.status.busy": "2025-03-24T14:02:52.721663Z",
          "iopub.execute_input": "2025-03-24T14:02:52.721988Z",
          "iopub.status.idle": "2025-03-24T14:02:52.743230Z",
          "shell.execute_reply.started": "2025-03-24T14:02:52.721947Z",
          "shell.execute_reply": "2025-03-24T14:02:52.741944Z"
        },
        "id": "E9JRmAWld3J5"
      },
      "outputs": [],
      "execution_count": null
    },
    {
      "cell_type": "code",
      "source": [
        "model = SGDClassifier()\n",
        "model.fit(X_train,y_train)\n",
        "y_pred = model.predict(X_test)\n",
        "accuracy_score(y_test,y_pred)"
      ],
      "metadata": {
        "trusted": true,
        "execution": {
          "iopub.status.busy": "2025-03-24T14:02:52.744180Z",
          "iopub.execute_input": "2025-03-24T14:02:52.744504Z",
          "iopub.status.idle": "2025-03-24T14:02:52.763278Z",
          "shell.execute_reply.started": "2025-03-24T14:02:52.744452Z",
          "shell.execute_reply": "2025-03-24T14:02:52.762110Z"
        },
        "id": "SUMQ26xvd3J5"
      },
      "outputs": [],
      "execution_count": null
    },
    {
      "cell_type": "code",
      "source": [
        "y_pred = model.predict(real_test[num_cols])"
      ],
      "metadata": {
        "trusted": true,
        "execution": {
          "iopub.status.busy": "2025-03-24T14:02:52.787202Z",
          "iopub.execute_input": "2025-03-24T14:02:52.787707Z",
          "iopub.status.idle": "2025-03-24T14:02:52.806023Z",
          "shell.execute_reply.started": "2025-03-24T14:02:52.787652Z",
          "shell.execute_reply": "2025-03-24T14:02:52.804875Z"
        },
        "id": "2ozL5VVPd3J6"
      },
      "outputs": [],
      "execution_count": null
    },
    {
      "cell_type": "code",
      "source": [
        "y_pred = model.predict(real_test[num_cols])\n",
        "acuuracy = 0.5882"
      ],
      "metadata": {
        "trusted": true,
        "execution": {
          "iopub.status.busy": "2025-03-24T14:02:52.827613Z",
          "iopub.execute_input": "2025-03-24T14:02:52.827935Z",
          "iopub.status.idle": "2025-03-24T14:02:52.851722Z",
          "shell.execute_reply.started": "2025-03-24T14:02:52.827909Z",
          "shell.execute_reply": "2025-03-24T14:02:52.850540Z"
        },
        "id": "YlgwuwCMd3J6"
      },
      "outputs": [],
      "execution_count": null
    },
    {
      "cell_type": "code",
      "source": [
        "parma_grid = {\n",
        "    'loss': ['hinge','squared_hinge','perceptron'],\n",
        "    'penalty': ['l1','l2'],\n",
        "    'alpha' : [0.05,0.01,0.1]\n",
        "}"
      ],
      "metadata": {
        "trusted": true,
        "execution": {
          "iopub.status.busy": "2025-03-24T14:02:52.852871Z",
          "iopub.execute_input": "2025-03-24T14:02:52.853268Z",
          "iopub.status.idle": "2025-03-24T14:02:52.873547Z",
          "shell.execute_reply.started": "2025-03-24T14:02:52.853227Z",
          "shell.execute_reply": "2025-03-24T14:02:52.872259Z"
        },
        "id": "_c690Fc0d3J6"
      },
      "outputs": [],
      "execution_count": null
    },
    {
      "cell_type": "code",
      "source": [
        "gre = GridSearchCV(estimator = model,\n",
        "                   param_grid=parma_grid,\n",
        "                   cv=3,\n",
        "                   scoring='accuracy')\n",
        "gre.fit(X_train,y_train)\n",
        "y_pred = gre.predict(X_test)\n",
        "print(accuracy_score(y_test,y_pred))"
      ],
      "metadata": {
        "trusted": true,
        "execution": {
          "iopub.status.busy": "2025-03-24T14:02:52.874753Z",
          "iopub.execute_input": "2025-03-24T14:02:52.875101Z",
          "iopub.status.idle": "2025-03-24T14:02:52.895699Z",
          "shell.execute_reply.started": "2025-03-24T14:02:52.875071Z",
          "shell.execute_reply": "2025-03-24T14:02:52.894583Z"
        },
        "id": "jgAdLHmed3J7"
      },
      "outputs": [],
      "execution_count": null
    },
    {
      "cell_type": "code",
      "source": [
        "y_pred = gre.predict(real_test[num_cols])"
      ],
      "metadata": {
        "trusted": true,
        "execution": {
          "iopub.status.busy": "2025-03-24T14:02:52.897085Z",
          "iopub.execute_input": "2025-03-24T14:02:52.897568Z",
          "iopub.status.idle": "2025-03-24T14:02:52.917361Z",
          "shell.execute_reply.started": "2025-03-24T14:02:52.897519Z",
          "shell.execute_reply": "2025-03-24T14:02:52.916130Z"
        },
        "id": "p_RRty3Nd3J7"
      },
      "outputs": [],
      "execution_count": null
    },
    {
      "cell_type": "code",
      "source": [
        "submission = pd.DataFrame({\"id\": range(0,real_test.shape[0]), \"target\": y_pred})\n",
        "submission.to_csv('submission.csv',index=False)"
      ],
      "metadata": {
        "trusted": true,
        "execution": {
          "iopub.status.busy": "2025-03-24T14:02:52.918636Z",
          "iopub.execute_input": "2025-03-24T14:02:52.919081Z",
          "iopub.status.idle": "2025-03-24T14:02:52.939842Z",
          "shell.execute_reply.started": "2025-03-24T14:02:52.919035Z",
          "shell.execute_reply": "2025-03-24T14:02:52.938692Z"
        },
        "id": "INA12E8wd3J7"
      },
      "outputs": [],
      "execution_count": null
    },
    {
      "cell_type": "code",
      "source": [
        "print(ConfusionMatrixDisplay.from_predictions(y_test,y_pred))"
      ],
      "metadata": {
        "trusted": true,
        "execution": {
          "iopub.status.busy": "2025-03-24T14:02:52.940877Z",
          "iopub.execute_input": "2025-03-24T14:02:52.941271Z",
          "iopub.status.idle": "2025-03-24T14:02:52.958862Z",
          "shell.execute_reply.started": "2025-03-24T14:02:52.941221Z",
          "shell.execute_reply": "2025-03-24T14:02:52.957764Z"
        },
        "id": "dtNsKXRTd3J7"
      },
      "outputs": [],
      "execution_count": null
    },
    {
      "cell_type": "code",
      "source": [
        "y_pred = gre.predict(real_test[num_cols])\n",
        "y_pred.shape"
      ],
      "metadata": {
        "trusted": true,
        "execution": {
          "iopub.status.busy": "2025-03-24T14:02:52.959820Z",
          "iopub.execute_input": "2025-03-24T14:02:52.960143Z",
          "iopub.status.idle": "2025-03-24T14:02:52.979063Z",
          "shell.execute_reply.started": "2025-03-24T14:02:52.960117Z",
          "shell.execute_reply": "2025-03-24T14:02:52.978025Z"
        },
        "id": "u61N92HDd3J7"
      },
      "outputs": [],
      "execution_count": null
    },
    {
      "cell_type": "markdown",
      "source": [
        "# Considering all the Columns"
      ],
      "metadata": {
        "id": "gCZV1YcFd3J8"
      }
    },
    {
      "cell_type": "code",
      "source": [
        "df = pd.read_csv('/kaggle/input/System-Threat-Forecaster/train.csv')\n",
        "y = df['target']\n",
        "X = df.drop('target', axis=1)"
      ],
      "metadata": {
        "trusted": true,
        "execution": {
          "iopub.status.busy": "2025-03-24T14:02:52.980087Z",
          "iopub.execute_input": "2025-03-24T14:02:52.980814Z",
          "iopub.status.idle": "2025-03-24T14:02:54.186618Z",
          "shell.execute_reply.started": "2025-03-24T14:02:52.980783Z",
          "shell.execute_reply": "2025-03-24T14:02:54.185779Z"
        },
        "id": "odrFGfr4d3J8"
      },
      "outputs": [],
      "execution_count": null
    },
    {
      "cell_type": "code",
      "source": [
        "real_test = pd.read_csv('/kaggle/input/System-Threat-Forecaster/test.csv')"
      ],
      "metadata": {
        "trusted": true,
        "execution": {
          "iopub.status.busy": "2025-03-24T14:02:54.187635Z",
          "iopub.execute_input": "2025-03-24T14:02:54.187928Z",
          "iopub.status.idle": "2025-03-24T14:02:54.320182Z",
          "shell.execute_reply.started": "2025-03-24T14:02:54.187896Z",
          "shell.execute_reply": "2025-03-24T14:02:54.319033Z"
        },
        "id": "hm2VYQsDd3J8"
      },
      "outputs": [],
      "execution_count": null
    },
    {
      "cell_type": "code",
      "source": [
        "obj_cols = X.select_dtypes(include=['object']).columns\n",
        "num_cols = X.select_dtypes(include=['int64', 'float64']).columns"
      ],
      "metadata": {
        "trusted": true,
        "execution": {
          "iopub.status.busy": "2025-03-24T14:02:54.321312Z",
          "iopub.execute_input": "2025-03-24T14:02:54.321725Z",
          "iopub.status.idle": "2025-03-24T14:02:54.356309Z",
          "shell.execute_reply.started": "2025-03-24T14:02:54.321685Z",
          "shell.execute_reply": "2025-03-24T14:02:54.355175Z"
        },
        "id": "730pCXKVd3J8"
      },
      "outputs": [],
      "execution_count": null
    },
    {
      "cell_type": "code",
      "source": [
        "X[obj_cols] = X[obj_cols].replace('UNKNOWN', np.nan)\n",
        "X[obj_cols] = X[obj_cols].replace('UNSPECIFIED', np.nan)\n",
        "\n",
        "real_test[obj_cols] = real_test[obj_cols].replace('UNKNOWN', np.nan)\n",
        "real_test[obj_cols] = real_test[obj_cols].replace('UNSPECIFIED', np.nan)"
      ],
      "metadata": {
        "trusted": true,
        "execution": {
          "iopub.status.busy": "2025-03-24T14:02:54.357403Z",
          "iopub.execute_input": "2025-03-24T14:02:54.357751Z",
          "iopub.status.idle": "2025-03-24T14:02:54.978093Z",
          "shell.execute_reply.started": "2025-03-24T14:02:54.357722Z",
          "shell.execute_reply": "2025-03-24T14:02:54.976865Z"
        },
        "id": "ZYIV2Megd3J9"
      },
      "outputs": [],
      "execution_count": null
    },
    {
      "cell_type": "code",
      "source": [
        "p_ss = Pipeline([\n",
        "    ('imputer', SimpleImputer(strategy='median')),\n",
        "    ('scaler', StandardScaler())\n",
        "])"
      ],
      "metadata": {
        "trusted": true,
        "execution": {
          "iopub.status.busy": "2025-03-24T14:02:54.979088Z",
          "iopub.execute_input": "2025-03-24T14:02:54.979386Z",
          "iopub.status.idle": "2025-03-24T14:02:54.984179Z",
          "shell.execute_reply.started": "2025-03-24T14:02:54.979349Z",
          "shell.execute_reply": "2025-03-24T14:02:54.982973Z"
        },
        "id": "0OAp3y87d3J9"
      },
      "outputs": [],
      "execution_count": null
    },
    {
      "cell_type": "code",
      "source": [
        "p_ord = Pipeline([\n",
        "    ('imputer', SimpleImputer(strategy='most_frequent')),\n",
        "    ('scaler', OrdinalEncoder(handle_unknown='use_encoded_value',unknown_value = -1))\n",
        "])"
      ],
      "metadata": {
        "trusted": true,
        "execution": {
          "iopub.status.busy": "2025-03-24T14:02:54.985598Z",
          "iopub.execute_input": "2025-03-24T14:02:54.986017Z",
          "iopub.status.idle": "2025-03-24T14:02:55.011951Z",
          "shell.execute_reply.started": "2025-03-24T14:02:54.985970Z",
          "shell.execute_reply": "2025-03-24T14:02:55.010464Z"
        },
        "id": "JQT4vAAOd3J9"
      },
      "outputs": [],
      "execution_count": null
    },
    {
      "cell_type": "code",
      "source": [
        "obj_cols = X.select_dtypes(include=['object']).columns\n",
        "num_cols = X.select_dtypes(include=['int64', 'float64']).columns"
      ],
      "metadata": {
        "trusted": true,
        "execution": {
          "iopub.status.busy": "2025-03-24T14:02:55.013153Z",
          "iopub.execute_input": "2025-03-24T14:02:55.013527Z",
          "iopub.status.idle": "2025-03-24T14:02:55.094606Z",
          "shell.execute_reply.started": "2025-03-24T14:02:55.013464Z",
          "shell.execute_reply": "2025-03-24T14:02:55.093394Z"
        },
        "id": "4QxhokF9d3J9"
      },
      "outputs": [],
      "execution_count": null
    },
    {
      "cell_type": "code",
      "source": [
        "X['DateOS'] = pd.to_datetime(X['DateOS'], format='%Y-%m-%d', errors = 'coerce').dt.month\n",
        "X['DateAS'] = pd.to_datetime(X['DateAS'], format='%Y-%m-%d %H:%M:%S', errors = 'coerce').dt.month\n",
        "\n",
        "real_test['DateOS'] = pd.to_datetime(real_test['DateOS'], format='%Y-%m-%d', errors = 'coerce').dt.month\n",
        "real_test['DateAS'] = pd.to_datetime(real_test['DateAS'], format='%Y-%m-%d %H:%M:%S', errors = 'coerce').dt.month"
      ],
      "metadata": {
        "trusted": true,
        "execution": {
          "iopub.status.busy": "2025-03-24T14:02:55.095374Z",
          "iopub.execute_input": "2025-03-24T14:02:55.095679Z",
          "iopub.status.idle": "2025-03-24T14:02:55.154545Z",
          "shell.execute_reply.started": "2025-03-24T14:02:55.095646Z",
          "shell.execute_reply": "2025-03-24T14:02:55.153107Z"
        },
        "id": "1sXM7od4d3J-"
      },
      "outputs": [],
      "execution_count": null
    },
    {
      "cell_type": "code",
      "source": [
        "X[obj_cols] = p_ord.fit_transform(X[obj_cols])\n",
        "real_test[obj_cols] = p_ord.transform(real_test[obj_cols])"
      ],
      "metadata": {
        "trusted": true,
        "execution": {
          "iopub.status.busy": "2025-03-24T14:02:55.155940Z",
          "iopub.execute_input": "2025-03-24T14:02:55.156529Z",
          "iopub.status.idle": "2025-03-24T14:02:57.140819Z",
          "shell.execute_reply.started": "2025-03-24T14:02:55.156465Z",
          "shell.execute_reply": "2025-03-24T14:02:57.139770Z"
        },
        "id": "Y8G1jo3Dd3J-"
      },
      "outputs": [],
      "execution_count": null
    },
    {
      "cell_type": "code",
      "source": [
        "X[num_cols] = p_ss.fit_transform(X[num_cols])\n",
        "real_test[num_cols] = p_ss.transform(real_test[num_cols])"
      ],
      "metadata": {
        "trusted": true,
        "execution": {
          "iopub.status.busy": "2025-03-24T14:02:57.141722Z",
          "iopub.execute_input": "2025-03-24T14:02:57.142012Z",
          "iopub.status.idle": "2025-03-24T14:02:57.898834Z",
          "shell.execute_reply.started": "2025-03-24T14:02:57.141988Z",
          "shell.execute_reply": "2025-03-24T14:02:57.897580Z"
        },
        "id": "vtgyGBNnd3J-"
      },
      "outputs": [],
      "execution_count": null
    },
    {
      "cell_type": "code",
      "source": [
        "simp = SimpleImputer(strategy = 'most_frequent')"
      ],
      "metadata": {
        "trusted": true,
        "execution": {
          "iopub.status.busy": "2025-03-24T14:02:57.899835Z",
          "iopub.execute_input": "2025-03-24T14:02:57.900222Z",
          "iopub.status.idle": "2025-03-24T14:02:57.904697Z",
          "shell.execute_reply.started": "2025-03-24T14:02:57.900182Z",
          "shell.execute_reply": "2025-03-24T14:02:57.903575Z"
        },
        "id": "XXScdnAtd3J-"
      },
      "outputs": [],
      "execution_count": null
    },
    {
      "cell_type": "code",
      "source": [
        "X[num_cols] = simp.fit_transform(X[num_cols])\n",
        "real_test[num_cols] = simp.transform(real_test[num_cols])"
      ],
      "metadata": {
        "trusted": true,
        "execution": {
          "iopub.status.busy": "2025-03-24T14:02:57.905720Z",
          "iopub.execute_input": "2025-03-24T14:02:57.906082Z",
          "iopub.status.idle": "2025-03-24T14:02:58.271942Z",
          "shell.execute_reply.started": "2025-03-24T14:02:57.906051Z",
          "shell.execute_reply": "2025-03-24T14:02:58.270850Z"
        },
        "id": "W58sgwu4d3J-"
      },
      "outputs": [],
      "execution_count": null
    },
    {
      "cell_type": "code",
      "source": [
        "ss = StandardScaler()\n",
        "X[num_cols] = ss.fit_transform(X[num_cols])\n",
        "real_test[num_cols] = ss.transform(real_test[num_cols])"
      ],
      "metadata": {
        "trusted": true,
        "execution": {
          "iopub.status.busy": "2025-03-24T14:02:58.273146Z",
          "iopub.execute_input": "2025-03-24T14:02:58.273578Z",
          "iopub.status.idle": "2025-03-24T14:02:58.413725Z",
          "shell.execute_reply.started": "2025-03-24T14:02:58.273534Z",
          "shell.execute_reply": "2025-03-24T14:02:58.412412Z"
        },
        "id": "ujo6_27_d3J_"
      },
      "outputs": [],
      "execution_count": null
    },
    {
      "cell_type": "code",
      "source": [
        "X_train,X_test, y_train, y_test = train_test_split(X, y, test_size=0.2, random_state = 42)"
      ],
      "metadata": {
        "trusted": true,
        "execution": {
          "iopub.status.busy": "2025-03-24T14:02:58.414770Z",
          "iopub.execute_input": "2025-03-24T14:02:58.415093Z",
          "iopub.status.idle": "2025-03-24T14:02:58.511254Z",
          "shell.execute_reply.started": "2025-03-24T14:02:58.415063Z",
          "shell.execute_reply": "2025-03-24T14:02:58.510240Z"
        },
        "id": "tzlHVe7ld3J_"
      },
      "outputs": [],
      "execution_count": null
    },
    {
      "cell_type": "code",
      "source": [
        "poly = PolynomialFeatures(degree=2)\n",
        "new_X = poly.fit_transform(X)\n",
        "new_real_test = poly.fit_transform(real_test)\n",
        "lin = LinearRegression()"
      ],
      "metadata": {
        "trusted": true,
        "execution": {
          "iopub.status.busy": "2025-03-24T14:02:58.512231Z",
          "iopub.execute_input": "2025-03-24T14:02:58.512597Z",
          "iopub.status.idle": "2025-03-24T14:03:01.316049Z",
          "shell.execute_reply.started": "2025-03-24T14:02:58.512552Z",
          "shell.execute_reply": "2025-03-24T14:03:01.314835Z"
        },
        "id": "FppSL70pd3J_"
      },
      "outputs": [],
      "execution_count": null
    },
    {
      "cell_type": "code",
      "source": [
        "lin.fit(X_train,y_train)\n",
        "r2_score(y_test,lin.predict(X_test))"
      ],
      "metadata": {
        "trusted": true,
        "execution": {
          "iopub.status.busy": "2025-03-24T14:03:01.317191Z",
          "iopub.execute_input": "2025-03-24T14:03:01.317621Z",
          "iopub.status.idle": "2025-03-24T14:03:01.720534Z",
          "shell.execute_reply.started": "2025-03-24T14:03:01.317575Z",
          "shell.execute_reply": "2025-03-24T14:03:01.718699Z"
        },
        "id": "VL5b1Lsmd3J_",
        "outputId": "0b8b694c-528c-4e89-f948-3c6334cabef1"
      },
      "outputs": [
        {
          "execution_count": 162,
          "output_type": "execute_result",
          "data": {
            "text/plain": "0.050083112587426704"
          },
          "metadata": {}
        }
      ],
      "execution_count": null
    },
    {
      "cell_type": "code",
      "source": [
        "logi = LogisticRegression()\n",
        "logi.fit(X_train,y_train)\n",
        "y_pred = logi.predict(X_test)\n",
        "accuracy_score(y_test,y_pred)"
      ],
      "metadata": {
        "trusted": true,
        "execution": {
          "iopub.status.busy": "2025-03-24T14:03:01.721697Z",
          "iopub.execute_input": "2025-03-24T14:03:01.722196Z",
          "iopub.status.idle": "2025-03-24T14:03:02.709297Z",
          "shell.execute_reply.started": "2025-03-24T14:03:01.722145Z",
          "shell.execute_reply": "2025-03-24T14:03:02.707820Z"
        },
        "id": "fSh3UQRpd3J_",
        "outputId": "52c0d0ec-e5ae-4627-bd72-c9523fe8ee1d"
      },
      "outputs": [
        {
          "execution_count": 163,
          "output_type": "execute_result",
          "data": {
            "text/plain": "0.53585"
          },
          "metadata": {}
        }
      ],
      "execution_count": null
    },
    {
      "cell_type": "code",
      "source": [
        "print(ConfusionMatrixDisplay.from_predictions(y_test,y_pred))"
      ],
      "metadata": {
        "trusted": true,
        "execution": {
          "iopub.status.busy": "2025-03-24T14:03:02.711332Z",
          "iopub.execute_input": "2025-03-24T14:03:02.711984Z",
          "iopub.status.idle": "2025-03-24T14:03:03.048941Z",
          "shell.execute_reply.started": "2025-03-24T14:03:02.711929Z",
          "shell.execute_reply": "2025-03-24T14:03:03.047994Z"
        },
        "id": "NFSm8ZSyd3KA",
        "outputId": "eb06c206-6190-4f47-d3fd-71a7b24b8576"
      },
      "outputs": [
        {
          "name": "stdout",
          "text": "<sklearn.metrics._plot.confusion_matrix.ConfusionMatrixDisplay object at 0x78994bcfbc40>\n",
          "output_type": "stream"
        },
        {
          "output_type": "display_data",
          "data": {
            "text/plain": "<Figure size 640x480 with 2 Axes>",
            "image/png": "[encoded data removed]"
          },
          "metadata": {}
        }
      ],
      "execution_count": null
    },
    {
      "cell_type": "code",
      "source": [
        "y_pred = logi.predict(real_test)"
      ],
      "metadata": {
        "trusted": true,
        "execution": {
          "iopub.status.busy": "2025-03-24T14:03:03.049927Z",
          "iopub.execute_input": "2025-03-24T14:03:03.050208Z",
          "iopub.status.idle": "2025-03-24T14:03:03.062871Z",
          "shell.execute_reply.started": "2025-03-24T14:03:03.050183Z",
          "shell.execute_reply": "2025-03-24T14:03:03.061349Z"
        },
        "id": "Y1zMjOlAd3KA"
      },
      "outputs": [],
      "execution_count": null
    },
    {
      "cell_type": "code",
      "source": [
        "X_train, X_test, y_train, y_test = train_test_split(X, y, test_size=0.2, random_state=42)"
      ],
      "metadata": {
        "trusted": true,
        "execution": {
          "iopub.status.busy": "2025-03-24T14:03:03.063963Z",
          "iopub.execute_input": "2025-03-24T14:03:03.064423Z",
          "iopub.status.idle": "2025-03-24T14:03:03.223742Z",
          "shell.execute_reply.started": "2025-03-24T14:03:03.064378Z",
          "shell.execute_reply": "2025-03-24T14:03:03.222923Z"
        },
        "id": "pYnK_qPWd3KA"
      },
      "outputs": [],
      "execution_count": null
    },
    {
      "cell_type": "code",
      "source": [
        "gb= GaussianNB()\n",
        "gb.fit(X_train,y_train)\n",
        "y_pred = gb.predict(X_test)\n",
        "accuracy_score(y_test,y_pred)"
      ],
      "metadata": {
        "trusted": true,
        "execution": {
          "iopub.status.busy": "2025-03-24T14:03:03.224705Z",
          "iopub.execute_input": "2025-03-24T14:03:03.225011Z",
          "iopub.status.idle": "2025-03-24T14:03:03.373122Z",
          "shell.execute_reply.started": "2025-03-24T14:03:03.224984Z",
          "shell.execute_reply": "2025-03-24T14:03:03.372086Z"
        },
        "id": "1rfppMrqd3KA",
        "outputId": "f7520a14-fe23-4137-bf21-79b193f28834"
      },
      "outputs": [
        {
          "execution_count": 167,
          "output_type": "execute_result",
          "data": {
            "text/plain": "0.55265"
          },
          "metadata": {}
        }
      ],
      "execution_count": null
    },
    {
      "cell_type": "code",
      "source": [
        "print(ConfusionMatrixDisplay.from_predictions(y_test,y_pred))"
      ],
      "metadata": {
        "trusted": true,
        "execution": {
          "iopub.status.busy": "2025-03-24T14:03:03.374142Z",
          "iopub.execute_input": "2025-03-24T14:03:03.374560Z",
          "iopub.status.idle": "2025-03-24T14:03:03.678833Z",
          "shell.execute_reply.started": "2025-03-24T14:03:03.374505Z",
          "shell.execute_reply": "2025-03-24T14:03:03.677721Z"
        },
        "id": "6DkCoyHmd3KA",
        "outputId": "2ceb07d6-6ec7-48f2-d658-f93fa78a5f41"
      },
      "outputs": [
        {
          "name": "stdout",
          "text": "<sklearn.metrics._plot.confusion_matrix.ConfusionMatrixDisplay object at 0x78994bcfb4c0>\n",
          "output_type": "stream"
        },
        {
          "output_type": "display_data",
          "data": {
            "text/plain": "<Figure size 640x480 with 2 Axes>",
            "image/png": "[encoded data removed]"
          },
          "metadata": {}
        }
      ],
      "execution_count": null
    },
    {
      "cell_type": "code",
      "source": [
        "y_pred = gb.predict(real_test)"
      ],
      "metadata": {
        "trusted": true,
        "execution": {
          "iopub.status.busy": "2025-03-24T14:03:03.680061Z",
          "iopub.execute_input": "2025-03-24T14:03:03.680468Z",
          "iopub.status.idle": "2025-03-24T14:03:03.698738Z",
          "shell.execute_reply.started": "2025-03-24T14:03:03.680423Z",
          "shell.execute_reply": "2025-03-24T14:03:03.697623Z"
        },
        "id": "u0r_vUP9d3KB"
      },
      "outputs": [],
      "execution_count": null
    },
    {
      "cell_type": "code",
      "source": [
        "X_train, X_test, y_train, y_test = train_test_split(X[obj_cols], y, test_size=0.2, random_state=42)"
      ],
      "metadata": {
        "trusted": true,
        "execution": {
          "iopub.status.busy": "2025-03-24T14:03:03.700015Z",
          "iopub.execute_input": "2025-03-24T14:03:03.700375Z",
          "iopub.status.idle": "2025-03-24T14:03:03.760734Z",
          "shell.execute_reply.started": "2025-03-24T14:03:03.700343Z",
          "shell.execute_reply": "2025-03-24T14:03:03.759254Z"
        },
        "id": "N4nspgHud3KB"
      },
      "outputs": [],
      "execution_count": null
    },
    {
      "cell_type": "code",
      "source": [
        "ct = CategoricalNB()\n",
        "ct.fit(X_train,y_train)\n",
        "y_pred = ct.predict(X_test)\n",
        "accuracy_score(y_test,y_pred)"
      ],
      "metadata": {
        "trusted": true,
        "execution": {
          "iopub.status.busy": "2025-03-24T14:03:03.774398Z",
          "iopub.execute_input": "2025-03-24T14:03:03.774826Z",
          "iopub.status.idle": "2025-03-24T14:03:03.887599Z",
          "shell.execute_reply.started": "2025-03-24T14:03:03.774790Z",
          "shell.execute_reply": "2025-03-24T14:03:03.886488Z"
        },
        "id": "jeBbMMVLd3KB",
        "outputId": "fffd34c8-632a-42c4-c3ba-d46c633e95e6"
      },
      "outputs": [
        {
          "execution_count": 171,
          "output_type": "execute_result",
          "data": {
            "text/plain": "0.57005"
          },
          "metadata": {}
        }
      ],
      "execution_count": null
    },
    {
      "cell_type": "code",
      "source": [
        "print(ConfusionMatrixDisplay.from_predictions(y_test,y_pred))"
      ],
      "metadata": {
        "trusted": true,
        "execution": {
          "iopub.status.busy": "2025-03-24T14:03:03.889648Z",
          "iopub.execute_input": "2025-03-24T14:03:03.889968Z",
          "iopub.status.idle": "2025-03-24T14:03:04.119155Z",
          "shell.execute_reply.started": "2025-03-24T14:03:03.889939Z",
          "shell.execute_reply": "2025-03-24T14:03:04.118028Z"
        },
        "id": "qEfhJkcxd3KB",
        "outputId": "c2cf9ae1-0fca-45b2-937c-914317acaede"
      },
      "outputs": [
        {
          "name": "stdout",
          "text": "<sklearn.metrics._plot.confusion_matrix.ConfusionMatrixDisplay object at 0x78996a404f40>\n",
          "output_type": "stream"
        },
        {
          "output_type": "display_data",
          "data": {
            "text/plain": "<Figure size 640x480 with 2 Axes>",
            "image/png": "[encoded data removed]"
          },
          "metadata": {}
        }
      ],
      "execution_count": null
    },
    {
      "cell_type": "code",
      "source": [
        "X_train, X_test, y_train, y_test = train_test_split(X, y, test_size=0.2, random_state=42)"
      ],
      "metadata": {
        "trusted": true,
        "execution": {
          "iopub.status.busy": "2025-03-24T14:03:04.120363Z",
          "iopub.execute_input": "2025-03-24T14:03:04.120756Z",
          "iopub.status.idle": "2025-03-24T14:03:04.215679Z",
          "shell.execute_reply.started": "2025-03-24T14:03:04.120718Z",
          "shell.execute_reply": "2025-03-24T14:03:04.214748Z"
        },
        "id": "e6rZXskid3KB"
      },
      "outputs": [],
      "execution_count": null
    },
    {
      "cell_type": "code",
      "source": [
        "rf = RandomForestClassifier()\n",
        "rf.fit(X_train,y_train)"
      ],
      "metadata": {
        "trusted": true,
        "execution": {
          "iopub.status.busy": "2025-03-24T14:03:04.216675Z",
          "iopub.execute_input": "2025-03-24T14:03:04.217030Z",
          "iopub.status.idle": "2025-03-24T14:03:04.221182Z",
          "shell.execute_reply.started": "2025-03-24T14:03:04.216994Z",
          "shell.execute_reply": "2025-03-24T14:03:04.220003Z"
        },
        "id": "6helcx5Ud3KB"
      },
      "outputs": [],
      "execution_count": null
    },
    {
      "cell_type": "code",
      "source": [
        "y_pred = rf.predict(X_test)\n",
        "accuracy_score(y_test,y_pred)"
      ],
      "metadata": {
        "trusted": true,
        "execution": {
          "iopub.status.busy": "2025-03-24T14:03:04.222211Z",
          "iopub.execute_input": "2025-03-24T14:03:04.222470Z",
          "iopub.status.idle": "2025-03-24T14:03:04.243017Z",
          "shell.execute_reply.started": "2025-03-24T14:03:04.222446Z",
          "shell.execute_reply": "2025-03-24T14:03:04.241870Z"
        },
        "id": "suMWyRgvd3KB"
      },
      "outputs": [],
      "execution_count": null
    },
    {
      "cell_type": "code",
      "source": [
        "param_grid = {\"n_estimators\": [10, 20, 30],\n",
        "\"max_depth\" : [5,6,8],\n",
        "\"max_leaf_nodes\" : [5,6,7],\n",
        "'min_samples_split': [2, 5, 10],\n",
        "'criterion' : ['gini', 'log_loss', 'entropy']\n",
        "}"
      ],
      "metadata": {
        "trusted": true,
        "execution": {
          "iopub.status.busy": "2025-03-24T14:03:04.244252Z",
          "iopub.execute_input": "2025-03-24T14:03:04.244770Z",
          "iopub.status.idle": "2025-03-24T14:03:04.263506Z",
          "shell.execute_reply.started": "2025-03-24T14:03:04.244725Z",
          "shell.execute_reply": "2025-03-24T14:03:04.262291Z"
        },
        "id": "CA5nxzo-d3KC"
      },
      "outputs": [],
      "execution_count": null
    },
    {
      "cell_type": "code",
      "source": [
        "gre = GridSearchCV(estimator = rf,\n",
        "                   param_grid=param_grid,\n",
        "                   cv=3,\n",
        "                   scoring='accuracy',\n",
        "                  n_jobs = -1)"
      ],
      "metadata": {
        "trusted": true,
        "execution": {
          "iopub.status.busy": "2025-03-24T14:03:04.264753Z",
          "iopub.execute_input": "2025-03-24T14:03:04.265056Z",
          "iopub.status.idle": "2025-03-24T14:03:04.284546Z",
          "shell.execute_reply.started": "2025-03-24T14:03:04.265030Z",
          "shell.execute_reply": "2025-03-24T14:03:04.283316Z"
        },
        "id": "hjqM_kwVd3KC"
      },
      "outputs": [],
      "execution_count": null
    },
    {
      "cell_type": "code",
      "source": [
        "gre.fit(X_train, y_train)"
      ],
      "metadata": {
        "trusted": true,
        "execution": {
          "iopub.status.busy": "2025-03-24T14:03:04.285566Z",
          "iopub.execute_input": "2025-03-24T14:03:04.285889Z",
          "iopub.status.idle": "2025-03-24T14:03:04.305779Z",
          "shell.execute_reply.started": "2025-03-24T14:03:04.285860Z",
          "shell.execute_reply": "2025-03-24T14:03:04.304739Z"
        },
        "id": "8aYC6235d3KC"
      },
      "outputs": [],
      "execution_count": null
    },
    {
      "cell_type": "code",
      "source": [
        "gre.fit(X_train,y_train)\n",
        "y_pred = random_search.predict(X_test)\n",
        "accuracy_score(y_test,y_pred)"
      ],
      "metadata": {
        "trusted": true,
        "execution": {
          "iopub.status.busy": "2025-03-24T14:03:04.306841Z",
          "iopub.execute_input": "2025-03-24T14:03:04.307201Z",
          "iopub.status.idle": "2025-03-24T14:03:04.326332Z",
          "shell.execute_reply.started": "2025-03-24T14:03:04.307170Z",
          "shell.execute_reply": "2025-03-24T14:03:04.325223Z"
        },
        "id": "4siryyxyd3KC"
      },
      "outputs": [],
      "execution_count": null
    },
    {
      "cell_type": "code",
      "source": [
        "print(ConfusionMatrixDisplay.from_predictions(y_test,y_pred))"
      ],
      "metadata": {
        "trusted": true,
        "execution": {
          "iopub.status.busy": "2025-03-24T14:03:04.327661Z",
          "iopub.execute_input": "2025-03-24T14:03:04.328036Z",
          "iopub.status.idle": "2025-03-24T14:03:04.345194Z",
          "shell.execute_reply.started": "2025-03-24T14:03:04.328000Z",
          "shell.execute_reply": "2025-03-24T14:03:04.344087Z"
        },
        "id": "mVSA1oprd3KD"
      },
      "outputs": [],
      "execution_count": null
    },
    {
      "cell_type": "code",
      "source": [
        "y_pred = gre.predict(real_test)"
      ],
      "metadata": {
        "trusted": true,
        "execution": {
          "iopub.status.busy": "2025-03-24T14:03:04.346565Z",
          "iopub.execute_input": "2025-03-24T14:03:04.346906Z",
          "iopub.status.idle": "2025-03-24T14:03:04.365437Z",
          "shell.execute_reply.started": "2025-03-24T14:03:04.346875Z",
          "shell.execute_reply": "2025-03-24T14:03:04.364373Z"
        },
        "id": "rWo44Uigd3KD"
      },
      "outputs": [],
      "execution_count": null
    },
    {
      "cell_type": "code",
      "source": [
        "xg =  XGBClassifier()\n",
        "xg.fit(X_train,y_train)\n",
        "y_pred = xg.predict(X_test)\n",
        "accuracy_score(y_test,y_pred)"
      ],
      "metadata": {
        "trusted": true,
        "execution": {
          "iopub.status.busy": "2025-03-24T14:03:04.384342Z",
          "iopub.execute_input": "2025-03-24T14:03:04.384779Z",
          "iopub.status.idle": "2025-03-24T14:03:05.731562Z",
          "shell.execute_reply.started": "2025-03-24T14:03:04.384738Z",
          "shell.execute_reply": "2025-03-24T14:03:05.729816Z"
        },
        "id": "2P96jtiTd3KD",
        "outputId": "ac1cb5f1-28aa-435a-ea62-11b3917c41c9"
      },
      "outputs": [
        {
          "execution_count": 183,
          "output_type": "execute_result",
          "data": {
            "text/plain": "0.6243"
          },
          "metadata": {}
        }
      ],
      "execution_count": null
    },
    {
      "cell_type": "code",
      "source": [
        "xg= XGBClassifier()\n",
        "\n",
        "param_grid = {\n",
        "    'n_estimators': [100, 200, 300, 500, 700],\n",
        "    'learning_rate': [0.01, 0.1, 0.2],\n",
        "    'max_depth': [3, 5, 7],\n",
        "    'colsample_bytree': [0.8,1.0],\n",
        "    'subsample': [0.8,1.0],\n",
        "    'gamma': [0, 0.4, 0.2]\n",
        "}\n",
        "\n",
        "rd = RandomizedSearchCV(xg, param_grid,\n",
        "                        cv=3, scoring='accuracy',\n",
        "                        n_iter=10, n_jobs=-1)\n",
        "\n",
        "rd.fit(X_train, y_train)"
      ],
      "metadata": {
        "trusted": true,
        "execution": {
          "iopub.status.busy": "2025-03-24T14:03:05.732491Z",
          "iopub.execute_input": "2025-03-24T14:03:05.732825Z",
          "iopub.status.idle": "2025-03-24T14:04:41.903970Z",
          "shell.execute_reply.started": "2025-03-24T14:03:05.732797Z",
          "shell.execute_reply": "2025-03-24T14:04:41.902822Z"
        },
        "id": "TnPR2JYPd3KD",
        "outputId": "049078cf-d782-4a25-ea0a-f2562a9fb937"
      },
      "outputs": [
        {
          "execution_count": 184,
          "output_type": "execute_result",
          "data": {
            "text/plain": "RandomizedSearchCV(cv=3,\n                   estimator=XGBClassifier(base_score=None, booster=None,\n                                           callbacks=None,\n                                           colsample_bylevel=None,\n                                           colsample_bynode=None,\n                                           colsample_bytree=None, device=None,\n                                           early_stopping_rounds=None,\n                                           enable_categorical=False,\n                                           eval_metric=None, feature_types=None,\n                                           gamma=None, grow_policy=None,\n                                           importance_type=None,\n                                           interaction_constraints=None,\n                                           learning_rate...\n                                           min_child_weight=None, missing=nan,\n                                           monotone_constraints=None,\n                                           multi_strategy=None,\n                                           n_estimators=None, n_jobs=None,\n                                           num_parallel_tree=None,\n                                           random_state=None, ...),\n                   n_jobs=-1,\n                   param_distributions={'colsample_bytree': [0.8, 1.0],\n                                        'gamma': [0, 0.4, 0.2],\n                                        'learning_rate': [0.01, 0.1, 0.2],\n                                        'max_depth': [3, 5, 7],\n                                        'n_estimators': [100, 200, 300, 500,\n                                                         700],\n                                        'subsample': [0.8, 1.0]},\n                   scoring='accuracy')",
            "text/html": "<style>#sk-container-id-5 {color: black;background-color: white;}#sk-container-id-5 pre{padding: 0;}#sk-container-id-5 div.sk-toggleable {background-color: white;}#sk-container-id-5 label.sk-toggleable__label {cursor: pointer;display: block;width: 100%;margin-bottom: 0;padding: 0.3em;box-sizing: border-box;text-align: center;}#sk-container-id-5 label.sk-toggleable__label-arrow:before {content: \"▸\";float: left;margin-right: 0.25em;color: #696969;}#sk-container-id-5 label.sk-toggleable__label-arrow:hover:before {color: black;}#sk-container-id-5 div.sk-estimator:hover label.sk-toggleable__label-arrow:before {color: black;}#sk-container-id-5 div.sk-toggleable__content {max-height: 0;max-width: 0;overflow: hidden;text-align: left;background-color: #f0f8ff;}#sk-container-id-5 div.sk-toggleable__content pre {margin: 0.2em;color: black;border-radius: 0.25em;background-color: #f0f8ff;}#sk-container-id-5 input.sk-toggleable__control:checked~div.sk-toggleable__content {max-height: 200px;max-width: 100%;overflow: auto;}#sk-container-id-5 input.sk-toggleable__control:checked~label.sk-toggleable__label-arrow:before {content: \"▾\";}#sk-container-id-5 div.sk-estimator input.sk-toggleable__control:checked~label.sk-toggleable__label {background-color: #d4ebff;}#sk-container-id-5 div.sk-label input.sk-toggleable__control:checked~label.sk-toggleable__label {background-color: #d4ebff;}#sk-container-id-5 input.sk-hidden--visually {border: 0;clip: rect(1px 1px 1px 1px);clip: rect(1px, 1px, 1px, 1px);height: 1px;margin: -1px;overflow: hidden;padding: 0;position: absolute;width: 1px;}#sk-container-id-5 div.sk-estimator {font-family: monospace;background-color: #f0f8ff;border: 1px dotted black;border-radius: 0.25em;box-sizing: border-box;margin-bottom: 0.5em;}#sk-container-id-5 div.sk-estimator:hover {background-color: #d4ebff;}#sk-container-id-5 div.sk-parallel-item::after {content: \"\";width: 100%;border-bottom: 1px solid gray;flex-grow: 1;}#sk-container-id-5 div.sk-label:hover label.sk-toggleable__label {background-color: #d4ebff;}#sk-container-id-5 div.sk-serial::before {content: \"\";position: absolute;border-left: 1px solid gray;box-sizing: border-box;top: 0;bottom: 0;left: 50%;z-index: 0;}#sk-container-id-5 div.sk-serial {display: flex;flex-direction: column;align-items: center;background-color: white;padding-right: 0.2em;padding-left: 0.2em;position: relative;}#sk-container-id-5 div.sk-item {position: relative;z-index: 1;}#sk-container-id-5 div.sk-parallel {display: flex;align-items: stretch;justify-content: center;background-color: white;position: relative;}#sk-container-id-5 div.sk-item::before, #sk-container-id-5 div.sk-parallel-item::before {content: \"\";position: absolute;border-left: 1px solid gray;box-sizing: border-box;top: 0;bottom: 0;left: 50%;z-index: -1;}#sk-container-id-5 div.sk-parallel-item {display: flex;flex-direction: column;z-index: 1;position: relative;background-color: white;}#sk-container-id-5 div.sk-parallel-item:first-child::after {align-self: flex-end;width: 50%;}#sk-container-id-5 div.sk-parallel-item:last-child::after {align-self: flex-start;width: 50%;}#sk-container-id-5 div.sk-parallel-item:only-child::after {width: 0;}#sk-container-id-5 div.sk-dashed-wrapped {border: 1px dashed gray;margin: 0 0.4em 0.5em 0.4em;box-sizing: border-box;padding-bottom: 0.4em;background-color: white;}#sk-container-id-5 div.sk-label label {font-family: monospace;font-weight: bold;display: inline-block;line-height: 1.2em;}#sk-container-id-5 div.sk-label-container {text-align: center;}#sk-container-id-5 div.sk-container {/* jupyter's `normalize.less` sets `[hidden] { display: none; }` but bootstrap.min.css set `[hidden] { display: none !important; }` so we also need the `!important` here to be able to override the default hidden behavior on the sphinx rendered scikit-learn.org. See: https://github.com/scikit-learn/scikit-learn/issues/21755 */display: inline-block !important;position: relative;}#sk-container-id-5 div.sk-text-repr-fallback {display: none;}</style><div id=\"sk-container-id-5\" class=\"sk-top-container\"><div class=\"sk-text-repr-fallback\"><pre>RandomizedSearchCV(cv=3,\n                   estimator=XGBClassifier(base_score=None, booster=None,\n                                           callbacks=None,\n                                           colsample_bylevel=None,\n                                           colsample_bynode=None,\n                                           colsample_bytree=None, device=None,\n                                           early_stopping_rounds=None,\n                                           enable_categorical=False,\n                                           eval_metric=None, feature_types=None,\n                                           gamma=None, grow_policy=None,\n                                           importance_type=None,\n                                           interaction_constraints=None,\n                                           learning_rate...\n                                           min_child_weight=None, missing=nan,\n                                           monotone_constraints=None,\n                                           multi_strategy=None,\n                                           n_estimators=None, n_jobs=None,\n                                           num_parallel_tree=None,\n                                           random_state=None, ...),\n                   n_jobs=-1,\n                   param_distributions={&#x27;colsample_bytree&#x27;: [0.8, 1.0],\n                                        &#x27;gamma&#x27;: [0, 0.4, 0.2],\n                                        &#x27;learning_rate&#x27;: [0.01, 0.1, 0.2],\n                                        &#x27;max_depth&#x27;: [3, 5, 7],\n                                        &#x27;n_estimators&#x27;: [100, 200, 300, 500,\n                                                         700],\n                                        &#x27;subsample&#x27;: [0.8, 1.0]},\n                   scoring=&#x27;accuracy&#x27;)</pre><b>In a Jupyter environment, please rerun this cell to show the HTML representation or trust the notebook. <br />On GitHub, the HTML representation is unable to render, please try loading this page with nbviewer.org.</b></div><div class=\"sk-container\" hidden><div class=\"sk-item sk-dashed-wrapped\"><div class=\"sk-label-container\"><div class=\"sk-label sk-toggleable\"><input class=\"sk-toggleable__control sk-hidden--visually\" id=\"sk-estimator-id-9\" type=\"checkbox\" ><label for=\"sk-estimator-id-9\" class=\"sk-toggleable__label sk-toggleable__label-arrow\">RandomizedSearchCV</label><div class=\"sk-toggleable__content\"><pre>RandomizedSearchCV(cv=3,\n                   estimator=XGBClassifier(base_score=None, booster=None,\n                                           callbacks=None,\n                                           colsample_bylevel=None,\n                                           colsample_bynode=None,\n                                           colsample_bytree=None, device=None,\n                                           early_stopping_rounds=None,\n                                           enable_categorical=False,\n                                           eval_metric=None, feature_types=None,\n                                           gamma=None, grow_policy=None,\n                                           importance_type=None,\n                                           interaction_constraints=None,\n                                           learning_rate...\n                                           min_child_weight=None, missing=nan,\n                                           monotone_constraints=None,\n                                           multi_strategy=None,\n                                           n_estimators=None, n_jobs=None,\n                                           num_parallel_tree=None,\n                                           random_state=None, ...),\n                   n_jobs=-1,\n                   param_distributions={&#x27;colsample_bytree&#x27;: [0.8, 1.0],\n                                        &#x27;gamma&#x27;: [0, 0.4, 0.2],\n                                        &#x27;learning_rate&#x27;: [0.01, 0.1, 0.2],\n                                        &#x27;max_depth&#x27;: [3, 5, 7],\n                                        &#x27;n_estimators&#x27;: [100, 200, 300, 500,\n                                                         700],\n                                        &#x27;subsample&#x27;: [0.8, 1.0]},\n                   scoring=&#x27;accuracy&#x27;)</pre></div></div></div><div class=\"sk-parallel\"><div class=\"sk-parallel-item\"><div class=\"sk-item\"><div class=\"sk-label-container\"><div class=\"sk-label sk-toggleable\"><input class=\"sk-toggleable__control sk-hidden--visually\" id=\"sk-estimator-id-10\" type=\"checkbox\" ><label for=\"sk-estimator-id-10\" class=\"sk-toggleable__label sk-toggleable__label-arrow\">estimator: XGBClassifier</label><div class=\"sk-toggleable__content\"><pre>XGBClassifier(base_score=None, booster=None, callbacks=None,\n              colsample_bylevel=None, colsample_bynode=None,\n              colsample_bytree=None, device=None, early_stopping_rounds=None,\n              enable_categorical=False, eval_metric=None, feature_types=None,\n              gamma=None, grow_policy=None, importance_type=None,\n              interaction_constraints=None, learning_rate=None, max_bin=None,\n              max_cat_threshold=None, max_cat_to_onehot=None,\n              max_delta_step=None, max_depth=None, max_leaves=None,\n              min_child_weight=None, missing=nan, monotone_constraints=None,\n              multi_strategy=None, n_estimators=None, n_jobs=None,\n              num_parallel_tree=None, random_state=None, ...)</pre></div></div></div><div class=\"sk-serial\"><div class=\"sk-item\"><div class=\"sk-estimator sk-toggleable\"><input class=\"sk-toggleable__control sk-hidden--visually\" id=\"sk-estimator-id-11\" type=\"checkbox\" ><label for=\"sk-estimator-id-11\" class=\"sk-toggleable__label sk-toggleable__label-arrow\">XGBClassifier</label><div class=\"sk-toggleable__content\"><pre>XGBClassifier(base_score=None, booster=None, callbacks=None,\n              colsample_bylevel=None, colsample_bynode=None,\n              colsample_bytree=None, device=None, early_stopping_rounds=None,\n              enable_categorical=False, eval_metric=None, feature_types=None,\n              gamma=None, grow_policy=None, importance_type=None,\n              interaction_constraints=None, learning_rate=None, max_bin=None,\n              max_cat_threshold=None, max_cat_to_onehot=None,\n              max_delta_step=None, max_depth=None, max_leaves=None,\n              min_child_weight=None, missing=nan, monotone_constraints=None,\n              multi_strategy=None, n_estimators=None, n_jobs=None,\n              num_parallel_tree=None, random_state=None, ...)</pre></div></div></div></div></div></div></div></div></div></div>"
          },
          "metadata": {}
        }
      ],
      "execution_count": null
    },
    {
      "cell_type": "code",
      "source": [
        "y_pred = rd.predict(X_test)\n",
        "accuracy_score(y_test,y_pred)"
      ],
      "metadata": {
        "trusted": true,
        "execution": {
          "iopub.status.busy": "2025-03-24T14:04:41.904913Z",
          "iopub.execute_input": "2025-03-24T14:04:41.905337Z",
          "iopub.status.idle": "2025-03-24T14:04:41.910521Z",
          "shell.execute_reply.started": "2025-03-24T14:04:41.905295Z",
          "shell.execute_reply": "2025-03-24T14:04:41.909310Z"
        },
        "id": "hXqVpiPid3KE"
      },
      "outputs": [],
      "execution_count": null
    },
    {
      "cell_type": "code",
      "source": [
        "print(ConfusionMatrixDisplay.from_predictions(y_test,y_pred))"
      ],
      "metadata": {
        "trusted": true,
        "execution": {
          "iopub.status.busy": "2025-03-24T14:04:41.911965Z",
          "iopub.execute_input": "2025-03-24T14:04:41.912317Z",
          "iopub.status.idle": "2025-03-24T14:04:41.932315Z",
          "shell.execute_reply.started": "2025-03-24T14:04:41.912287Z",
          "shell.execute_reply": "2025-03-24T14:04:41.931101Z"
        },
        "id": "UGCXI1QBd3KE"
      },
      "outputs": [],
      "execution_count": null
    },
    {
      "cell_type": "code",
      "source": [
        "rd.fit(X,y)"
      ],
      "metadata": {
        "trusted": true,
        "execution": {
          "iopub.status.busy": "2025-03-24T14:04:41.933682Z",
          "iopub.execute_input": "2025-03-24T14:04:41.934150Z",
          "iopub.status.idle": "2025-03-24T14:07:08.447078Z",
          "shell.execute_reply.started": "2025-03-24T14:04:41.934106Z",
          "shell.execute_reply": "2025-03-24T14:07:08.445952Z"
        },
        "id": "ejm_9fHNd3KE",
        "outputId": "b70c72c9-3221-455b-cec0-fbd102cbb003"
      },
      "outputs": [
        {
          "execution_count": 187,
          "output_type": "execute_result",
          "data": {
            "text/plain": "RandomizedSearchCV(cv=3,\n                   estimator=XGBClassifier(base_score=None, booster=None,\n                                           callbacks=None,\n                                           colsample_bylevel=None,\n                                           colsample_bynode=None,\n                                           colsample_bytree=None, device=None,\n                                           early_stopping_rounds=None,\n                                           enable_categorical=False,\n                                           eval_metric=None, feature_types=None,\n                                           gamma=None, grow_policy=None,\n                                           importance_type=None,\n                                           interaction_constraints=None,\n                                           learning_rate...\n                                           min_child_weight=None, missing=nan,\n                                           monotone_constraints=None,\n                                           multi_strategy=None,\n                                           n_estimators=None, n_jobs=None,\n                                           num_parallel_tree=None,\n                                           random_state=None, ...),\n                   n_jobs=-1,\n                   param_distributions={'colsample_bytree': [0.8, 1.0],\n                                        'gamma': [0, 0.4, 0.2],\n                                        'learning_rate': [0.01, 0.1, 0.2],\n                                        'max_depth': [3, 5, 7],\n                                        'n_estimators': [100, 200, 300, 500,\n                                                         700],\n                                        'subsample': [0.8, 1.0]},\n                   scoring='accuracy')",
            "text/html": "<style>#sk-container-id-6 {color: black;background-color: white;}#sk-container-id-6 pre{padding: 0;}#sk-container-id-6 div.sk-toggleable {background-color: white;}#sk-container-id-6 label.sk-toggleable__label {cursor: pointer;display: block;width: 100%;margin-bottom: 0;padding: 0.3em;box-sizing: border-box;text-align: center;}#sk-container-id-6 label.sk-toggleable__label-arrow:before {content: \"▸\";float: left;margin-right: 0.25em;color: #696969;}#sk-container-id-6 label.sk-toggleable__label-arrow:hover:before {color: black;}#sk-container-id-6 div.sk-estimator:hover label.sk-toggleable__label-arrow:before {color: black;}#sk-container-id-6 div.sk-toggleable__content {max-height: 0;max-width: 0;overflow: hidden;text-align: left;background-color: #f0f8ff;}#sk-container-id-6 div.sk-toggleable__content pre {margin: 0.2em;color: black;border-radius: 0.25em;background-color: #f0f8ff;}#sk-container-id-6 input.sk-toggleable__control:checked~div.sk-toggleable__content {max-height: 200px;max-width: 100%;overflow: auto;}#sk-container-id-6 input.sk-toggleable__control:checked~label.sk-toggleable__label-arrow:before {content: \"▾\";}#sk-container-id-6 div.sk-estimator input.sk-toggleable__control:checked~label.sk-toggleable__label {background-color: #d4ebff;}#sk-container-id-6 div.sk-label input.sk-toggleable__control:checked~label.sk-toggleable__label {background-color: #d4ebff;}#sk-container-id-6 input.sk-hidden--visually {border: 0;clip: rect(1px 1px 1px 1px);clip: rect(1px, 1px, 1px, 1px);height: 1px;margin: -1px;overflow: hidden;padding: 0;position: absolute;width: 1px;}#sk-container-id-6 div.sk-estimator {font-family: monospace;background-color: #f0f8ff;border: 1px dotted black;border-radius: 0.25em;box-sizing: border-box;margin-bottom: 0.5em;}#sk-container-id-6 div.sk-estimator:hover {background-color: #d4ebff;}#sk-container-id-6 div.sk-parallel-item::after {content: \"\";width: 100%;border-bottom: 1px solid gray;flex-grow: 1;}#sk-container-id-6 div.sk-label:hover label.sk-toggleable__label {background-color: #d4ebff;}#sk-container-id-6 div.sk-serial::before {content: \"\";position: absolute;border-left: 1px solid gray;box-sizing: border-box;top: 0;bottom: 0;left: 50%;z-index: 0;}#sk-container-id-6 div.sk-serial {display: flex;flex-direction: column;align-items: center;background-color: white;padding-right: 0.2em;padding-left: 0.2em;position: relative;}#sk-container-id-6 div.sk-item {position: relative;z-index: 1;}#sk-container-id-6 div.sk-parallel {display: flex;align-items: stretch;justify-content: center;background-color: white;position: relative;}#sk-container-id-6 div.sk-item::before, #sk-container-id-6 div.sk-parallel-item::before {content: \"\";position: absolute;border-left: 1px solid gray;box-sizing: border-box;top: 0;bottom: 0;left: 50%;z-index: -1;}#sk-container-id-6 div.sk-parallel-item {display: flex;flex-direction: column;z-index: 1;position: relative;background-color: white;}#sk-container-id-6 div.sk-parallel-item:first-child::after {align-self: flex-end;width: 50%;}#sk-container-id-6 div.sk-parallel-item:last-child::after {align-self: flex-start;width: 50%;}#sk-container-id-6 div.sk-parallel-item:only-child::after {width: 0;}#sk-container-id-6 div.sk-dashed-wrapped {border: 1px dashed gray;margin: 0 0.4em 0.5em 0.4em;box-sizing: border-box;padding-bottom: 0.4em;background-color: white;}#sk-container-id-6 div.sk-label label {font-family: monospace;font-weight: bold;display: inline-block;line-height: 1.2em;}#sk-container-id-6 div.sk-label-container {text-align: center;}#sk-container-id-6 div.sk-container {/* jupyter's `normalize.less` sets `[hidden] { display: none; }` but bootstrap.min.css set `[hidden] { display: none !important; }` so we also need the `!important` here to be able to override the default hidden behavior on the sphinx rendered scikit-learn.org. See: https://github.com/scikit-learn/scikit-learn/issues/21755 */display: inline-block !important;position: relative;}#sk-container-id-6 div.sk-text-repr-fallback {display: none;}</style><div id=\"sk-container-id-6\" class=\"sk-top-container\"><div class=\"sk-text-repr-fallback\"><pre>RandomizedSearchCV(cv=3,\n                   estimator=XGBClassifier(base_score=None, booster=None,\n                                           callbacks=None,\n                                           colsample_bylevel=None,\n                                           colsample_bynode=None,\n                                           colsample_bytree=None, device=None,\n                                           early_stopping_rounds=None,\n                                           enable_categorical=False,\n                                           eval_metric=None, feature_types=None,\n                                           gamma=None, grow_policy=None,\n                                           importance_type=None,\n                                           interaction_constraints=None,\n                                           learning_rate...\n                                           min_child_weight=None, missing=nan,\n                                           monotone_constraints=None,\n                                           multi_strategy=None,\n                                           n_estimators=None, n_jobs=None,\n                                           num_parallel_tree=None,\n                                           random_state=None, ...),\n                   n_jobs=-1,\n                   param_distributions={&#x27;colsample_bytree&#x27;: [0.8, 1.0],\n                                        &#x27;gamma&#x27;: [0, 0.4, 0.2],\n                                        &#x27;learning_rate&#x27;: [0.01, 0.1, 0.2],\n                                        &#x27;max_depth&#x27;: [3, 5, 7],\n                                        &#x27;n_estimators&#x27;: [100, 200, 300, 500,\n                                                         700],\n                                        &#x27;subsample&#x27;: [0.8, 1.0]},\n                   scoring=&#x27;accuracy&#x27;)</pre><b>In a Jupyter environment, please rerun this cell to show the HTML representation or trust the notebook. <br />On GitHub, the HTML representation is unable to render, please try loading this page with nbviewer.org.</b></div><div class=\"sk-container\" hidden><div class=\"sk-item sk-dashed-wrapped\"><div class=\"sk-label-container\"><div class=\"sk-label sk-toggleable\"><input class=\"sk-toggleable__control sk-hidden--visually\" id=\"sk-estimator-id-12\" type=\"checkbox\" ><label for=\"sk-estimator-id-12\" class=\"sk-toggleable__label sk-toggleable__label-arrow\">RandomizedSearchCV</label><div class=\"sk-toggleable__content\"><pre>RandomizedSearchCV(cv=3,\n                   estimator=XGBClassifier(base_score=None, booster=None,\n                                           callbacks=None,\n                                           colsample_bylevel=None,\n                                           colsample_bynode=None,\n                                           colsample_bytree=None, device=None,\n                                           early_stopping_rounds=None,\n                                           enable_categorical=False,\n                                           eval_metric=None, feature_types=None,\n                                           gamma=None, grow_policy=None,\n                                           importance_type=None,\n                                           interaction_constraints=None,\n                                           learning_rate...\n                                           min_child_weight=None, missing=nan,\n                                           monotone_constraints=None,\n                                           multi_strategy=None,\n                                           n_estimators=None, n_jobs=None,\n                                           num_parallel_tree=None,\n                                           random_state=None, ...),\n                   n_jobs=-1,\n                   param_distributions={&#x27;colsample_bytree&#x27;: [0.8, 1.0],\n                                        &#x27;gamma&#x27;: [0, 0.4, 0.2],\n                                        &#x27;learning_rate&#x27;: [0.01, 0.1, 0.2],\n                                        &#x27;max_depth&#x27;: [3, 5, 7],\n                                        &#x27;n_estimators&#x27;: [100, 200, 300, 500,\n                                                         700],\n                                        &#x27;subsample&#x27;: [0.8, 1.0]},\n                   scoring=&#x27;accuracy&#x27;)</pre></div></div></div><div class=\"sk-parallel\"><div class=\"sk-parallel-item\"><div class=\"sk-item\"><div class=\"sk-label-container\"><div class=\"sk-label sk-toggleable\"><input class=\"sk-toggleable__control sk-hidden--visually\" id=\"sk-estimator-id-13\" type=\"checkbox\" ><label for=\"sk-estimator-id-13\" class=\"sk-toggleable__label sk-toggleable__label-arrow\">estimator: XGBClassifier</label><div class=\"sk-toggleable__content\"><pre>XGBClassifier(base_score=None, booster=None, callbacks=None,\n              colsample_bylevel=None, colsample_bynode=None,\n              colsample_bytree=None, device=None, early_stopping_rounds=None,\n              enable_categorical=False, eval_metric=None, feature_types=None,\n              gamma=None, grow_policy=None, importance_type=None,\n              interaction_constraints=None, learning_rate=None, max_bin=None,\n              max_cat_threshold=None, max_cat_to_onehot=None,\n              max_delta_step=None, max_depth=None, max_leaves=None,\n              min_child_weight=None, missing=nan, monotone_constraints=None,\n              multi_strategy=None, n_estimators=None, n_jobs=None,\n              num_parallel_tree=None, random_state=None, ...)</pre></div></div></div><div class=\"sk-serial\"><div class=\"sk-item\"><div class=\"sk-estimator sk-toggleable\"><input class=\"sk-toggleable__control sk-hidden--visually\" id=\"sk-estimator-id-14\" type=\"checkbox\" ><label for=\"sk-estimator-id-14\" class=\"sk-toggleable__label sk-toggleable__label-arrow\">XGBClassifier</label><div class=\"sk-toggleable__content\"><pre>XGBClassifier(base_score=None, booster=None, callbacks=None,\n              colsample_bylevel=None, colsample_bynode=None,\n              colsample_bytree=None, device=None, early_stopping_rounds=None,\n              enable_categorical=False, eval_metric=None, feature_types=None,\n              gamma=None, grow_policy=None, importance_type=None,\n              interaction_constraints=None, learning_rate=None, max_bin=None,\n              max_cat_threshold=None, max_cat_to_onehot=None,\n              max_delta_step=None, max_depth=None, max_leaves=None,\n              min_child_weight=None, missing=nan, monotone_constraints=None,\n              multi_strategy=None, n_estimators=None, n_jobs=None,\n              num_parallel_tree=None, random_state=None, ...)</pre></div></div></div></div></div></div></div></div></div></div>"
          },
          "metadata": {}
        }
      ],
      "execution_count": null
    },
    {
      "cell_type": "code",
      "source": [
        "print(ConfusionMatrixDisplay.from_predictions(y_test,y_pred))"
      ],
      "metadata": {
        "trusted": true,
        "execution": {
          "iopub.status.busy": "2025-03-24T14:07:08.448176Z",
          "iopub.execute_input": "2025-03-24T14:07:08.448469Z",
          "iopub.status.idle": "2025-03-24T14:07:08.747185Z",
          "shell.execute_reply.started": "2025-03-24T14:07:08.448443Z",
          "shell.execute_reply": "2025-03-24T14:07:08.746080Z"
        },
        "id": "AlRpTr0Ld3KE",
        "outputId": "2d503b51-450b-4c44-c45b-fdc979d5f8a6"
      },
      "outputs": [
        {
          "name": "stdout",
          "text": "<sklearn.metrics._plot.confusion_matrix.ConfusionMatrixDisplay object at 0x7899695b3cd0>\n",
          "output_type": "stream"
        },
        {
          "output_type": "display_data",
          "data": {
            "text/plain": "<Figure size 640x480 with 2 Axes>",
            "image/png": "[encoded data removed]"
          },
          "metadata": {}
        }
      ],
      "execution_count": null
    },
    {
      "cell_type": "code",
      "source": [
        "import lightgbm as lgb\n",
        "mod = lgb.LGBMClassifier()"
      ],
      "metadata": {
        "trusted": true,
        "execution": {
          "iopub.status.busy": "2025-03-24T14:13:27.947739Z",
          "iopub.execute_input": "2025-03-24T14:13:27.948095Z",
          "iopub.status.idle": "2025-03-24T14:13:27.952759Z",
          "shell.execute_reply.started": "2025-03-24T14:13:27.948065Z",
          "shell.execute_reply": "2025-03-24T14:13:27.951686Z"
        },
        "id": "mtx1_Ikud3KE"
      },
      "outputs": [],
      "execution_count": null
    },
    {
      "cell_type": "code",
      "source": [
        "mod.fit(X_train,y_train)"
      ],
      "metadata": {
        "trusted": true,
        "execution": {
          "iopub.status.busy": "2025-03-24T14:13:29.835855Z",
          "iopub.execute_input": "2025-03-24T14:13:29.836218Z",
          "iopub.status.idle": "2025-03-24T14:13:31.648522Z",
          "shell.execute_reply.started": "2025-03-24T14:13:29.836189Z",
          "shell.execute_reply": "2025-03-24T14:13:31.647259Z"
        },
        "id": "zVokw1LZd3KE",
        "outputId": "3b079090-622d-4efd-84c3-3acae88029de"
      },
      "outputs": [
        {
          "name": "stdout",
          "text": "[LightGBM] [Info] Number of positive: 40403, number of negative: 39597\n[LightGBM] [Info] Auto-choosing row-wise multi-threading, the overhead of testing was 0.018375 seconds.\nYou can set `force_row_wise=true` to remove the overhead.\nAnd if memory is not enough, you can set `force_col_wise=true`.\n[LightGBM] [Info] Total Bins 4709\n[LightGBM] [Info] Number of data points in the train set: 80000, number of used features: 72\n[LightGBM] [Info] [binary:BoostFromScore]: pavg=0.505038 -> initscore=0.020151\n[LightGBM] [Info] Start training from score 0.020151\n",
          "output_type": "stream"
        },
        {
          "execution_count": 198,
          "output_type": "execute_result",
          "data": {
            "text/plain": "LGBMClassifier()",
            "text/html": "<style>#sk-container-id-8 {color: black;background-color: white;}#sk-container-id-8 pre{padding: 0;}#sk-container-id-8 div.sk-toggleable {background-color: white;}#sk-container-id-8 label.sk-toggleable__label {cursor: pointer;display: block;width: 100%;margin-bottom: 0;padding: 0.3em;box-sizing: border-box;text-align: center;}#sk-container-id-8 label.sk-toggleable__label-arrow:before {content: \"▸\";float: left;margin-right: 0.25em;color: #696969;}#sk-container-id-8 label.sk-toggleable__label-arrow:hover:before {color: black;}#sk-container-id-8 div.sk-estimator:hover label.sk-toggleable__label-arrow:before {color: black;}#sk-container-id-8 div.sk-toggleable__content {max-height: 0;max-width: 0;overflow: hidden;text-align: left;background-color: #f0f8ff;}#sk-container-id-8 div.sk-toggleable__content pre {margin: 0.2em;color: black;border-radius: 0.25em;background-color: #f0f8ff;}#sk-container-id-8 input.sk-toggleable__control:checked~div.sk-toggleable__content {max-height: 200px;max-width: 100%;overflow: auto;}#sk-container-id-8 input.sk-toggleable__control:checked~label.sk-toggleable__label-arrow:before {content: \"▾\";}#sk-container-id-8 div.sk-estimator input.sk-toggleable__control:checked~label.sk-toggleable__label {background-color: #d4ebff;}#sk-container-id-8 div.sk-label input.sk-toggleable__control:checked~label.sk-toggleable__label {background-color: #d4ebff;}#sk-container-id-8 input.sk-hidden--visually {border: 0;clip: rect(1px 1px 1px 1px);clip: rect(1px, 1px, 1px, 1px);height: 1px;margin: -1px;overflow: hidden;padding: 0;position: absolute;width: 1px;}#sk-container-id-8 div.sk-estimator {font-family: monospace;background-color: #f0f8ff;border: 1px dotted black;border-radius: 0.25em;box-sizing: border-box;margin-bottom: 0.5em;}#sk-container-id-8 div.sk-estimator:hover {background-color: #d4ebff;}#sk-container-id-8 div.sk-parallel-item::after {content: \"\";width: 100%;border-bottom: 1px solid gray;flex-grow: 1;}#sk-container-id-8 div.sk-label:hover label.sk-toggleable__label {background-color: #d4ebff;}#sk-container-id-8 div.sk-serial::before {content: \"\";position: absolute;border-left: 1px solid gray;box-sizing: border-box;top: 0;bottom: 0;left: 50%;z-index: 0;}#sk-container-id-8 div.sk-serial {display: flex;flex-direction: column;align-items: center;background-color: white;padding-right: 0.2em;padding-left: 0.2em;position: relative;}#sk-container-id-8 div.sk-item {position: relative;z-index: 1;}#sk-container-id-8 div.sk-parallel {display: flex;align-items: stretch;justify-content: center;background-color: white;position: relative;}#sk-container-id-8 div.sk-item::before, #sk-container-id-8 div.sk-parallel-item::before {content: \"\";position: absolute;border-left: 1px solid gray;box-sizing: border-box;top: 0;bottom: 0;left: 50%;z-index: -1;}#sk-container-id-8 div.sk-parallel-item {display: flex;flex-direction: column;z-index: 1;position: relative;background-color: white;}#sk-container-id-8 div.sk-parallel-item:first-child::after {align-self: flex-end;width: 50%;}#sk-container-id-8 div.sk-parallel-item:last-child::after {align-self: flex-start;width: 50%;}#sk-container-id-8 div.sk-parallel-item:only-child::after {width: 0;}#sk-container-id-8 div.sk-dashed-wrapped {border: 1px dashed gray;margin: 0 0.4em 0.5em 0.4em;box-sizing: border-box;padding-bottom: 0.4em;background-color: white;}#sk-container-id-8 div.sk-label label {font-family: monospace;font-weight: bold;display: inline-block;line-height: 1.2em;}#sk-container-id-8 div.sk-label-container {text-align: center;}#sk-container-id-8 div.sk-container {/* jupyter's `normalize.less` sets `[hidden] { display: none; }` but bootstrap.min.css set `[hidden] { display: none !important; }` so we also need the `!important` here to be able to override the default hidden behavior on the sphinx rendered scikit-learn.org. See: https://github.com/scikit-learn/scikit-learn/issues/21755 */display: inline-block !important;position: relative;}#sk-container-id-8 div.sk-text-repr-fallback {display: none;}</style><div id=\"sk-container-id-8\" class=\"sk-top-container\"><div class=\"sk-text-repr-fallback\"><pre>LGBMClassifier()</pre><b>In a Jupyter environment, please rerun this cell to show the HTML representation or trust the notebook. <br />On GitHub, the HTML representation is unable to render, please try loading this page with nbviewer.org.</b></div><div class=\"sk-container\" hidden><div class=\"sk-item\"><div class=\"sk-estimator sk-toggleable\"><input class=\"sk-toggleable__control sk-hidden--visually\" id=\"sk-estimator-id-16\" type=\"checkbox\" checked><label for=\"sk-estimator-id-16\" class=\"sk-toggleable__label sk-toggleable__label-arrow\">LGBMClassifier</label><div class=\"sk-toggleable__content\"><pre>LGBMClassifier()</pre></div></div></div></div></div>"
          },
          "metadata": {}
        }
      ],
      "execution_count": null
    },
    {
      "cell_type": "code",
      "source": [
        "y_pred = mod.predict(X_test)\n",
        "accuracy_score(y_test,y_pred)"
      ],
      "metadata": {
        "trusted": true,
        "execution": {
          "iopub.status.busy": "2025-03-24T14:13:32.405976Z",
          "iopub.execute_input": "2025-03-24T14:13:32.406424Z",
          "iopub.status.idle": "2025-03-24T14:13:32.527744Z",
          "shell.execute_reply.started": "2025-03-24T14:13:32.406379Z",
          "shell.execute_reply": "2025-03-24T14:13:32.526528Z"
        },
        "id": "6RHTKD-zd3KF",
        "outputId": "ffb4401c-8428-4a38-9fec-b75ee35b9f18"
      },
      "outputs": [
        {
          "execution_count": 199,
          "output_type": "execute_result",
          "data": {
            "text/plain": "0.6281"
          },
          "metadata": {}
        }
      ],
      "execution_count": null
    },
    {
      "cell_type": "code",
      "source": [
        "mod.fit(X,y)"
      ],
      "metadata": {
        "trusted": true,
        "execution": {
          "iopub.status.busy": "2025-03-24T14:13:49.121942Z",
          "iopub.execute_input": "2025-03-24T14:13:49.122312Z",
          "iopub.status.idle": "2025-03-24T14:13:51.260757Z",
          "shell.execute_reply.started": "2025-03-24T14:13:49.122278Z",
          "shell.execute_reply": "2025-03-24T14:13:51.259634Z"
        },
        "id": "iSdR8TCRd3KF",
        "outputId": "ede1c491-ec15-4997-b2de-81cbc059bf09"
      },
      "outputs": [
        {
          "name": "stdout",
          "text": "[LightGBM] [Info] Number of positive: 50525, number of negative: 49475\n[LightGBM] [Info] Auto-choosing row-wise multi-threading, the overhead of testing was 0.022833 seconds.\nYou can set `force_row_wise=true` to remove the overhead.\nAnd if memory is not enough, you can set `force_col_wise=true`.\n[LightGBM] [Info] Total Bins 4772\n[LightGBM] [Info] Number of data points in the train set: 100000, number of used features: 72\n[LightGBM] [Info] [binary:BoostFromScore]: pavg=0.505250 -> initscore=0.021001\n[LightGBM] [Info] Start training from score 0.021001\n",
          "output_type": "stream"
        },
        {
          "execution_count": 201,
          "output_type": "execute_result",
          "data": {
            "text/plain": "LGBMClassifier()",
            "text/html": "<style>#sk-container-id-9 {color: black;background-color: white;}#sk-container-id-9 pre{padding: 0;}#sk-container-id-9 div.sk-toggleable {background-color: white;}#sk-container-id-9 label.sk-toggleable__label {cursor: pointer;display: block;width: 100%;margin-bottom: 0;padding: 0.3em;box-sizing: border-box;text-align: center;}#sk-container-id-9 label.sk-toggleable__label-arrow:before {content: \"▸\";float: left;margin-right: 0.25em;color: #696969;}#sk-container-id-9 label.sk-toggleable__label-arrow:hover:before {color: black;}#sk-container-id-9 div.sk-estimator:hover label.sk-toggleable__label-arrow:before {color: black;}#sk-container-id-9 div.sk-toggleable__content {max-height: 0;max-width: 0;overflow: hidden;text-align: left;background-color: #f0f8ff;}#sk-container-id-9 div.sk-toggleable__content pre {margin: 0.2em;color: black;border-radius: 0.25em;background-color: #f0f8ff;}#sk-container-id-9 input.sk-toggleable__control:checked~div.sk-toggleable__content {max-height: 200px;max-width: 100%;overflow: auto;}#sk-container-id-9 input.sk-toggleable__control:checked~label.sk-toggleable__label-arrow:before {content: \"▾\";}#sk-container-id-9 div.sk-estimator input.sk-toggleable__control:checked~label.sk-toggleable__label {background-color: #d4ebff;}#sk-container-id-9 div.sk-label input.sk-toggleable__control:checked~label.sk-toggleable__label {background-color: #d4ebff;}#sk-container-id-9 input.sk-hidden--visually {border: 0;clip: rect(1px 1px 1px 1px);clip: rect(1px, 1px, 1px, 1px);height: 1px;margin: -1px;overflow: hidden;padding: 0;position: absolute;width: 1px;}#sk-container-id-9 div.sk-estimator {font-family: monospace;background-color: #f0f8ff;border: 1px dotted black;border-radius: 0.25em;box-sizing: border-box;margin-bottom: 0.5em;}#sk-container-id-9 div.sk-estimator:hover {background-color: #d4ebff;}#sk-container-id-9 div.sk-parallel-item::after {content: \"\";width: 100%;border-bottom: 1px solid gray;flex-grow: 1;}#sk-container-id-9 div.sk-label:hover label.sk-toggleable__label {background-color: #d4ebff;}#sk-container-id-9 div.sk-serial::before {content: \"\";position: absolute;border-left: 1px solid gray;box-sizing: border-box;top: 0;bottom: 0;left: 50%;z-index: 0;}#sk-container-id-9 div.sk-serial {display: flex;flex-direction: column;align-items: center;background-color: white;padding-right: 0.2em;padding-left: 0.2em;position: relative;}#sk-container-id-9 div.sk-item {position: relative;z-index: 1;}#sk-container-id-9 div.sk-parallel {display: flex;align-items: stretch;justify-content: center;background-color: white;position: relative;}#sk-container-id-9 div.sk-item::before, #sk-container-id-9 div.sk-parallel-item::before {content: \"\";position: absolute;border-left: 1px solid gray;box-sizing: border-box;top: 0;bottom: 0;left: 50%;z-index: -1;}#sk-container-id-9 div.sk-parallel-item {display: flex;flex-direction: column;z-index: 1;position: relative;background-color: white;}#sk-container-id-9 div.sk-parallel-item:first-child::after {align-self: flex-end;width: 50%;}#sk-container-id-9 div.sk-parallel-item:last-child::after {align-self: flex-start;width: 50%;}#sk-container-id-9 div.sk-parallel-item:only-child::after {width: 0;}#sk-container-id-9 div.sk-dashed-wrapped {border: 1px dashed gray;margin: 0 0.4em 0.5em 0.4em;box-sizing: border-box;padding-bottom: 0.4em;background-color: white;}#sk-container-id-9 div.sk-label label {font-family: monospace;font-weight: bold;display: inline-block;line-height: 1.2em;}#sk-container-id-9 div.sk-label-container {text-align: center;}#sk-container-id-9 div.sk-container {/* jupyter's `normalize.less` sets `[hidden] { display: none; }` but bootstrap.min.css set `[hidden] { display: none !important; }` so we also need the `!important` here to be able to override the default hidden behavior on the sphinx rendered scikit-learn.org. See: https://github.com/scikit-learn/scikit-learn/issues/21755 */display: inline-block !important;position: relative;}#sk-container-id-9 div.sk-text-repr-fallback {display: none;}</style><div id=\"sk-container-id-9\" class=\"sk-top-container\"><div class=\"sk-text-repr-fallback\"><pre>LGBMClassifier()</pre><b>In a Jupyter environment, please rerun this cell to show the HTML representation or trust the notebook. <br />On GitHub, the HTML representation is unable to render, please try loading this page with nbviewer.org.</b></div><div class=\"sk-container\" hidden><div class=\"sk-item\"><div class=\"sk-estimator sk-toggleable\"><input class=\"sk-toggleable__control sk-hidden--visually\" id=\"sk-estimator-id-17\" type=\"checkbox\" checked><label for=\"sk-estimator-id-17\" class=\"sk-toggleable__label sk-toggleable__label-arrow\">LGBMClassifier</label><div class=\"sk-toggleable__content\"><pre>LGBMClassifier()</pre></div></div></div></div></div>"
          },
          "metadata": {}
        }
      ],
      "execution_count": null
    },
    {
      "cell_type": "code",
      "source": [
        "y_pred = mod.predict(real_test)\n",
        "# accuracy_score(y_test,y_pred)"
      ],
      "metadata": {
        "trusted": true,
        "execution": {
          "iopub.status.busy": "2025-03-24T14:13:52.796501Z",
          "iopub.execute_input": "2025-03-24T14:13:52.796948Z",
          "iopub.status.idle": "2025-03-24T14:13:52.854922Z",
          "shell.execute_reply.started": "2025-03-24T14:13:52.796914Z",
          "shell.execute_reply": "2025-03-24T14:13:52.853939Z"
        },
        "id": "qHch81Rwd3KF"
      },
      "outputs": [],
      "execution_count": null
    },
    {
      "cell_type": "code",
      "source": [
        "submission = pd.DataFrame({\"id\": range(0,real_test.shape[0]), \"target\": y_pred})\n",
        "submission.to_csv('submission.csv',index=False)"
      ],
      "metadata": {
        "trusted": true,
        "execution": {
          "iopub.status.busy": "2025-03-24T14:08:03.959678Z",
          "iopub.execute_input": "2025-03-24T14:08:03.960045Z",
          "iopub.status.idle": "2025-03-24T14:08:03.977983Z",
          "shell.execute_reply.started": "2025-03-24T14:08:03.960013Z",
          "shell.execute_reply": "2025-03-24T14:08:03.976852Z"
        },
        "id": "-RwmKpRed3KF"
      },
      "outputs": [],
      "execution_count": null
    },
    {
      "cell_type": "code",
      "source": [
        "print(ConfusionMatrixDisplay.from_predictions(y_test,y_pred))"
      ],
      "metadata": {
        "trusted": true,
        "execution": {
          "iopub.status.busy": "2025-03-24T14:07:10.758941Z",
          "iopub.status.idle": "2025-03-24T14:07:10.759292Z",
          "shell.execute_reply": "2025-03-24T14:07:10.759157Z"
        },
        "id": "fGbq9FNnd3KF"
      },
      "outputs": [],
      "execution_count": null
    },
    {
      "cell_type": "code",
      "source": [
        "y_pred = rd.predict(real_test)"
      ],
      "metadata": {
        "trusted": true,
        "execution": {
          "iopub.status.busy": "2025-03-24T14:07:10.760186Z",
          "iopub.status.idle": "2025-03-24T14:07:10.760561Z",
          "shell.execute_reply": "2025-03-24T14:07:10.760391Z"
        },
        "id": "2gz0K3fQd3KF"
      },
      "outputs": [],
      "execution_count": null
    },
    {
      "cell_type": "code",
      "source": [
        "submission = pd.DataFrame({\"id\": range(0,real_test.shape[0]), \"target\": y_pred})\n",
        "submission.to_csv('submission.csv',index=False)"
      ],
      "metadata": {
        "trusted": true,
        "execution": {
          "iopub.status.busy": "2025-03-24T14:07:10.761337Z",
          "iopub.status.idle": "2025-03-24T14:07:10.761812Z",
          "shell.execute_reply": "2025-03-24T14:07:10.761606Z"
        },
        "id": "TBxwvS_Dd3KG"
      },
      "outputs": [],
      "execution_count": null
    },
    {
      "cell_type": "code",
      "source": [
        "df = pd.read_csv(\"/kaggle/input/System-Threat-Forecaster/train.csv\")\n",
        "y = df['target']\n",
        "Xn = df.drop('target', axis=1)\n",
        "y.isna().sum()\n",
        "\n",
        "real_test = pd.read_csv('/kaggle/input/System-Threat-Forecaster/test.csv')\n"
      ],
      "metadata": {
        "trusted": true,
        "execution": {
          "iopub.status.busy": "2025-03-24T14:07:10.762845Z",
          "iopub.status.idle": "2025-03-24T14:07:10.763298Z",
          "shell.execute_reply": "2025-03-24T14:07:10.763101Z"
        },
        "id": "tthGlqn-d3KG"
      },
      "outputs": [],
      "execution_count": null
    },
    {
      "cell_type": "code",
      "source": [
        "obj_cols = Xn.select_dtypes(include=['object']).columns\n",
        "num_cols = Xn.select_dtypes(include=['int64', 'float64']).columns"
      ],
      "metadata": {
        "trusted": true,
        "execution": {
          "iopub.status.busy": "2025-03-24T14:07:10.764123Z",
          "iopub.status.idle": "2025-03-24T14:07:10.764591Z",
          "shell.execute_reply": "2025-03-24T14:07:10.764371Z"
        },
        "id": "s3w3XBETd3KG"
      },
      "outputs": [],
      "execution_count": null
    },
    {
      "cell_type": "code",
      "source": [
        "Xn[obj_cols] = Xn[obj_cols].replace('UNKNOWN', np.nan)\n",
        "Xn[obj_cols] = Xn[obj_cols].replace('UNSPECIFIED', np.nan)\n",
        "\n",
        "real_test[obj_cols] = real_test[obj_cols].replace('UNKNOWN', np.nan)\n",
        "real_test[obj_cols] = real_test[obj_cols].replace('UNSPECIFIED', np.nan)"
      ],
      "metadata": {
        "trusted": true,
        "execution": {
          "iopub.status.busy": "2025-03-24T14:07:10.765744Z",
          "iopub.status.idle": "2025-03-24T14:07:10.766160Z",
          "shell.execute_reply": "2025-03-24T14:07:10.765954Z"
        },
        "id": "gKJJuIFMd3KG"
      },
      "outputs": [],
      "execution_count": null
    },
    {
      "cell_type": "code",
      "source": [
        "Xn['DateOS'] = pd.to_datetime(Xn['DateOS'], format='%Y-%m-%d', errors = 'coerce').dt.month\n",
        "Xn['DateAS'] = pd.to_datetime(Xn['DateAS'], format='%Y-%m-%d %H:%M:%S', errors = 'coerce').dt.month\n",
        "\n",
        "real_test['DateOS'] = pd.to_datetime(real_test['DateOS'], format='%Y-%m-%d', errors = 'coerce').dt.month\n",
        "real_test['DateAS'] = pd.to_datetime(real_test['DateAS'], format='%Y-%m-%d %H:%M:%S', errors = 'coerce').dt.month"
      ],
      "metadata": {
        "trusted": true,
        "execution": {
          "iopub.status.busy": "2025-03-24T14:07:10.767204Z",
          "iopub.status.idle": "2025-03-24T14:07:10.767625Z",
          "shell.execute_reply": "2025-03-24T14:07:10.767432Z"
        },
        "id": "RP97pC5Wd3KG"
      },
      "outputs": [],
      "execution_count": null
    },
    {
      "cell_type": "code",
      "source": [
        "Xn[obj_cols] = p_ord.fit_transform(Xn[obj_cols])\n",
        "real_test[obj_cols] = p_ord.transform(real_test[obj_cols])"
      ],
      "metadata": {
        "trusted": true,
        "execution": {
          "iopub.status.busy": "2025-03-24T14:07:10.768353Z",
          "iopub.status.idle": "2025-03-24T14:07:10.768681Z",
          "shell.execute_reply": "2025-03-24T14:07:10.768556Z"
        },
        "id": "NaeC12ohd3KG"
      },
      "outputs": [],
      "execution_count": null
    },
    {
      "cell_type": "code",
      "source": [
        "Xn[num_cols] = p_ss.fit_transform(Xn[num_cols])\n",
        "real_test[num_cols] = p_ss.transform(real_test[num_cols])"
      ],
      "metadata": {
        "trusted": true,
        "execution": {
          "iopub.status.busy": "2025-03-24T14:07:10.769334Z",
          "iopub.status.idle": "2025-03-24T14:07:10.769645Z",
          "shell.execute_reply": "2025-03-24T14:07:10.769525Z"
        },
        "id": "7JiBph2Vd3KH"
      },
      "outputs": [],
      "execution_count": null
    },
    {
      "cell_type": "code",
      "source": [
        "obj_cols = Xn.select_dtypes(include=['object']).columns\n",
        "num_cols = Xn.select_dtypes(include=['int64', 'float64']).columns"
      ],
      "metadata": {
        "trusted": true,
        "execution": {
          "iopub.status.busy": "2025-03-24T14:07:10.770237Z",
          "iopub.status.idle": "2025-03-24T14:07:10.770534Z",
          "shell.execute_reply": "2025-03-24T14:07:10.770402Z"
        },
        "id": "v8s97_ujd3KH"
      },
      "outputs": [],
      "execution_count": null
    },
    {
      "cell_type": "code",
      "source": [
        "from sklearn.feature_selection import SelectKBest, f_classif\n",
        "sel = SelectKBest(score_func= f_classif,k=15)\n",
        "new_X = sel.fit_transform(Xn,y)\n",
        "n_real = sel.transform(real_test)"
      ],
      "metadata": {
        "trusted": true,
        "execution": {
          "iopub.status.busy": "2025-03-24T14:07:10.771311Z",
          "iopub.status.idle": "2025-03-24T14:07:10.771627Z",
          "shell.execute_reply": "2025-03-24T14:07:10.771503Z"
        },
        "id": "fdhstOLnd3KH"
      },
      "outputs": [],
      "execution_count": null
    },
    {
      "cell_type": "code",
      "source": [
        "cols = list(Xn.columns[sel.get_support()])\n",
        "X = Xn[cols]\n",
        "X_train, X_test, y_train, y_test = train_test_split(X, y, test_size=0.2, random_state=42)"
      ],
      "metadata": {
        "trusted": true,
        "execution": {
          "iopub.status.busy": "2025-03-24T14:07:10.772651Z",
          "iopub.status.idle": "2025-03-24T14:07:10.773038Z",
          "shell.execute_reply": "2025-03-24T14:07:10.772902Z"
        },
        "id": "Gh08qMUkd3KH"
      },
      "outputs": [],
      "execution_count": null
    },
    {
      "cell_type": "code",
      "source": [
        "xg.fit(X_train,y_train)\n",
        "y_pred = xg.predict(X_test)\n",
        "print(ConfusionMatrixDisplay.from_predictions(y_test,y_pred))"
      ],
      "metadata": {
        "trusted": true,
        "execution": {
          "iopub.status.busy": "2025-03-24T14:07:10.774019Z",
          "iopub.status.idle": "2025-03-24T14:07:10.774410Z",
          "shell.execute_reply": "2025-03-24T14:07:10.774242Z"
        },
        "id": "YKdJuYUMd3KI"
      },
      "outputs": [],
      "execution_count": null
    },
    {
      "cell_type": "code",
      "source": [
        "accuracy_score(y_test,y_pred)"
      ],
      "metadata": {
        "trusted": true,
        "execution": {
          "iopub.status.busy": "2025-03-24T14:07:10.775160Z",
          "iopub.status.idle": "2025-03-24T14:07:10.775500Z",
          "shell.execute_reply": "2025-03-24T14:07:10.775349Z"
        },
        "id": "V-kMifz1d3KI"
      },
      "outputs": [],
      "execution_count": null
    },
    {
      "cell_type": "code",
      "source": [
        "y_pred = xg.predict(n_real)"
      ],
      "metadata": {
        "trusted": true,
        "execution": {
          "iopub.status.busy": "2025-03-24T14:07:10.776362Z",
          "iopub.status.idle": "2025-03-24T14:07:10.776749Z",
          "shell.execute_reply": "2025-03-24T14:07:10.776563Z"
        },
        "id": "ojiwQsNcd3KI"
      },
      "outputs": [],
      "execution_count": null
    }
  ]
}